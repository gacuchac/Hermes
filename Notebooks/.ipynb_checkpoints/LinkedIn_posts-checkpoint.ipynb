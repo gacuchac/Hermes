{
 "cells": [
  {
   "cell_type": "code",
   "execution_count": 1,
   "metadata": {},
   "outputs": [],
   "source": [
    "# import web driver\n",
    "from selenium import webdriver\n",
    "from selenium.webdriver.common.keys import Keys\n",
    "from Login_info import user as user1, password as pass1\n",
    "import time, math\n",
    "import pandas as pd"
   ]
  },
  {
   "cell_type": "code",
   "execution_count": 2,
   "metadata": {},
   "outputs": [],
   "source": [
    "import linkedin_scraping as ls"
   ]
  },
  {
   "cell_type": "code",
   "execution_count": 3,
   "metadata": {},
   "outputs": [],
   "source": [
    "options = webdriver.ChromeOptions()\n",
    "options.add_argument(\"--start-maximized\")\n",
    "# options.add_argument(\"--auto-open-devtools-for-tabs\")\n",
    "driver = webdriver.Chrome('chromedriver',options=options)"
   ]
  },
  {
   "cell_type": "code",
   "execution_count": 4,
   "metadata": {},
   "outputs": [],
   "source": [
    "time.sleep(3)\n",
    "driver.get(\"https://www.linkedin.com\")\n",
    "\n",
    "time.sleep(1)"
   ]
  },
  {
   "cell_type": "code",
   "execution_count": 5,
   "metadata": {},
   "outputs": [],
   "source": [
    "ls.Login(driver,user1,pass1)"
   ]
  },
  {
   "cell_type": "code",
   "execution_count": null,
   "metadata": {
    "scrolled": true
   },
   "outputs": [],
   "source": [
    "keyword = 'Applaudo Studios'  \n",
    "posts = ls.Posts_pagination(driver, keyword)\n",
    "\n",
    "# 5:16 min aprox"
   ]
  },
  {
   "cell_type": "code",
   "execution_count": null,
   "metadata": {},
   "outputs": [],
   "source": [
    "posts_df = pd.DataFrame(posts, columns=['post_url'])\n",
    "posts_df.to_csv('data/'+keyword+' posts_url.csv', index=False) "
   ]
  },
  {
   "cell_type": "code",
   "execution_count": 6,
   "metadata": {},
   "outputs": [
    {
     "data": {
      "text/html": [
       "<div>\n",
       "<style scoped>\n",
       "    .dataframe tbody tr th:only-of-type {\n",
       "        vertical-align: middle;\n",
       "    }\n",
       "\n",
       "    .dataframe tbody tr th {\n",
       "        vertical-align: top;\n",
       "    }\n",
       "\n",
       "    .dataframe thead th {\n",
       "        text-align: right;\n",
       "    }\n",
       "</style>\n",
       "<table border=\"1\" class=\"dataframe\">\n",
       "  <thead>\n",
       "    <tr style=\"text-align: right;\">\n",
       "      <th></th>\n",
       "      <th>post_url</th>\n",
       "    </tr>\n",
       "  </thead>\n",
       "  <tbody>\n",
       "    <tr>\n",
       "      <th>0</th>\n",
       "      <td>https://www.linkedin.com/feed/update/urn:li:ac...</td>\n",
       "    </tr>\n",
       "    <tr>\n",
       "      <th>1</th>\n",
       "      <td>https://www.linkedin.com/feed/update/urn:li:ac...</td>\n",
       "    </tr>\n",
       "    <tr>\n",
       "      <th>2</th>\n",
       "      <td>https://www.linkedin.com/feed/update/urn:li:ac...</td>\n",
       "    </tr>\n",
       "    <tr>\n",
       "      <th>3</th>\n",
       "      <td>https://www.linkedin.com/feed/update/urn:li:ac...</td>\n",
       "    </tr>\n",
       "    <tr>\n",
       "      <th>4</th>\n",
       "      <td>https://www.linkedin.com/feed/update/urn:li:ac...</td>\n",
       "    </tr>\n",
       "  </tbody>\n",
       "</table>\n",
       "</div>"
      ],
      "text/plain": [
       "                                            post_url\n",
       "0  https://www.linkedin.com/feed/update/urn:li:ac...\n",
       "1  https://www.linkedin.com/feed/update/urn:li:ac...\n",
       "2  https://www.linkedin.com/feed/update/urn:li:ac...\n",
       "3  https://www.linkedin.com/feed/update/urn:li:ac...\n",
       "4  https://www.linkedin.com/feed/update/urn:li:ac..."
      ]
     },
     "execution_count": 6,
     "metadata": {},
     "output_type": "execute_result"
    }
   ],
   "source": [
    "keyword = 'Applaudo Studios'  \n",
    "posts_url_df = pd.read_csv('data/'+keyword+' posts_url.csv')\n",
    "posts_url_df.head()"
   ]
  },
  {
   "cell_type": "code",
   "execution_count": 7,
   "metadata": {},
   "outputs": [],
   "source": [
    "# driver.find_element_by_tag_name('body').send_keys(Keys.CONTROL + Keys.SHIFT + 'I')\n",
    "driver.get(posts_url_df['post_url'][0])"
   ]
  },
  {
   "cell_type": "code",
   "execution_count": 8,
   "metadata": {},
   "outputs": [
    {
     "name": "stdout",
     "output_type": "stream",
     "text": [
      "media_url ['https://media-exp3.licdn.com/dms/image/C4D1FAQEfNOb1DM4-Gg/feedshare-document-images_800/1/1625675311741?e=1626278400&v=beta&t=mFRevlcuYnXD8SCsBfwY1zkV92WX7IyvOV7fCFhA4Ds', 'https://media-exp3.licdn.com/dms/image/C4D1FAQEfNOb1DM4-Gg/feedshare-document-images_800/2/1625675311741?e=1626278400&v=beta&t=No8HtCNDfPfMhthbXsE2mCIbifgmuntgPXzYmPoiX6s', None]\n",
      "media_type Carousel\n"
     ]
    },
    {
     "data": {
      "text/html": [
       "<div>\n",
       "<style scoped>\n",
       "    .dataframe tbody tr th:only-of-type {\n",
       "        vertical-align: middle;\n",
       "    }\n",
       "\n",
       "    .dataframe tbody tr th {\n",
       "        vertical-align: top;\n",
       "    }\n",
       "\n",
       "    .dataframe thead th {\n",
       "        text-align: right;\n",
       "    }\n",
       "</style>\n",
       "<table border=\"1\" class=\"dataframe\">\n",
       "  <thead>\n",
       "    <tr style=\"text-align: right;\">\n",
       "      <th></th>\n",
       "      <th>post_url</th>\n",
       "      <th>author</th>\n",
       "      <th>author_url</th>\n",
       "      <th>author_type</th>\n",
       "      <th>description</th>\n",
       "      <th>media_type</th>\n",
       "      <th>media_url</th>\n",
       "    </tr>\n",
       "  </thead>\n",
       "  <tbody>\n",
       "    <tr>\n",
       "      <th>0</th>\n",
       "      <td>https://www.linkedin.com/feed/update/urn:li:ac...</td>\n",
       "      <td>Universidad Francisco Gavidia</td>\n",
       "      <td>https://www.linkedin.com/company/ufgoficial/</td>\n",
       "      <td>Company</td>\n",
       "      <td>Check these open positions at Applaudo Studios...</td>\n",
       "      <td>Carousel</td>\n",
       "      <td>[https://media-exp3.licdn.com/dms/image/C4D1FA...</td>\n",
       "    </tr>\n",
       "  </tbody>\n",
       "</table>\n",
       "</div>"
      ],
      "text/plain": [
       "                                            post_url  \\\n",
       "0  https://www.linkedin.com/feed/update/urn:li:ac...   \n",
       "\n",
       "                          author  \\\n",
       "0  Universidad Francisco Gavidia   \n",
       "\n",
       "                                     author_url author_type  \\\n",
       "0  https://www.linkedin.com/company/ufgoficial/     Company   \n",
       "\n",
       "                                         description media_type  \\\n",
       "0  Check these open positions at Applaudo Studios...   Carousel   \n",
       "\n",
       "                                           media_url  \n",
       "0  [https://media-exp3.licdn.com/dms/image/C4D1FA...  "
      ]
     },
     "execution_count": 8,
     "metadata": {},
     "output_type": "execute_result"
    }
   ],
   "source": [
    "driver.switch_to.default_content()\n",
    "post = ls.get_post(driver)\n",
    "post\n",
    "\n",
    "# Problemas con los carousels"
   ]
  },
  {
   "cell_type": "code",
   "execution_count": 10,
   "metadata": {},
   "outputs": [
    {
     "name": "stdout",
     "output_type": "stream",
     "text": [
      "media_url ['https://media-exp3.licdn.com/dms/image/C4D1FAQEfNOb1DM4-Gg/feedshare-document-images_800/1/1625675311741?e=1626285600&v=beta&t=_7XxNqu_oiQqB1ufmx4lnQ7WknlJkjXmtIgCQG2Vzg0', 'https://media-exp3.licdn.com/dms/image/C4D1FAQEfNOb1DM4-Gg/feedshare-document-cover-images_480/1/1625675311637?e=1626285600&v=beta&t=9qbXMUNavydz6saznUE9qiiXNNht8abrGqw_d5XGCeM', None]\n",
      "media_type Carousel\n",
      "Element not found\n",
      "0\n",
      "media_url https://www.linkedin.com/feed/update/urn:li:activity:6819387677079609344/\n",
      "media_type Shared LinkedIn post\n",
      "Element not found\n",
      "1\n",
      "media_url https://media-exp3.licdn.com/dms/image/C4E22AQFeK_plRvnmsg/feedshare-shrink_800/0/1624651016442?e=1629331200&v=beta&t=693e-irtg7GH7n9tPyO2aeE6lIPLtE3nqt7ClHCnmp4\n",
      "media_type Single image\n"
     ]
    },
    {
     "ename": "KeyboardInterrupt",
     "evalue": "",
     "output_type": "error",
     "traceback": [
      "\u001b[1;31m---------------------------------------------------------------------------\u001b[0m",
      "\u001b[1;31mKeyboardInterrupt\u001b[0m                         Traceback (most recent call last)",
      "\u001b[1;32m<ipython-input-10-e9a9b2f7a71b>\u001b[0m in \u001b[0;36m<module>\u001b[1;34m\u001b[0m\n\u001b[0;32m     10\u001b[0m     \u001b[0mpost\u001b[0m \u001b[1;33m=\u001b[0m \u001b[0mls\u001b[0m\u001b[1;33m.\u001b[0m\u001b[0mget_post\u001b[0m\u001b[1;33m(\u001b[0m\u001b[0mdriver\u001b[0m\u001b[1;33m)\u001b[0m\u001b[1;33m\u001b[0m\u001b[1;33m\u001b[0m\u001b[0m\n\u001b[0;32m     11\u001b[0m     \u001b[0mposts\u001b[0m \u001b[1;33m=\u001b[0m \u001b[0mpd\u001b[0m\u001b[1;33m.\u001b[0m\u001b[0mconcat\u001b[0m\u001b[1;33m(\u001b[0m\u001b[1;33m[\u001b[0m\u001b[0mposts\u001b[0m\u001b[1;33m,\u001b[0m \u001b[0mpost\u001b[0m\u001b[1;33m]\u001b[0m\u001b[1;33m)\u001b[0m\u001b[1;33m\u001b[0m\u001b[1;33m\u001b[0m\u001b[0m\n\u001b[1;32m---> 12\u001b[1;33m     \u001b[0mpost_r\u001b[0m \u001b[1;33m=\u001b[0m \u001b[0mls\u001b[0m\u001b[1;33m.\u001b[0m\u001b[0mget_post_reactions\u001b[0m\u001b[1;33m(\u001b[0m\u001b[0mdriver\u001b[0m\u001b[1;33m)\u001b[0m\u001b[1;33m\u001b[0m\u001b[1;33m\u001b[0m\u001b[0m\n\u001b[0m\u001b[0;32m     13\u001b[0m     \u001b[0mposts_reactions\u001b[0m \u001b[1;33m=\u001b[0m \u001b[0mpd\u001b[0m\u001b[1;33m.\u001b[0m\u001b[0mconcat\u001b[0m\u001b[1;33m(\u001b[0m\u001b[1;33m[\u001b[0m\u001b[0mposts_reactions\u001b[0m\u001b[1;33m,\u001b[0m\u001b[0mpost_r\u001b[0m\u001b[1;33m]\u001b[0m\u001b[1;33m)\u001b[0m\u001b[1;33m\u001b[0m\u001b[1;33m\u001b[0m\u001b[0m\n\u001b[0;32m     14\u001b[0m     \u001b[0mpost_c\u001b[0m \u001b[1;33m=\u001b[0m \u001b[0mls\u001b[0m\u001b[1;33m.\u001b[0m\u001b[0mget_post_comments\u001b[0m\u001b[1;33m(\u001b[0m\u001b[0mdriver\u001b[0m\u001b[1;33m)\u001b[0m\u001b[1;33m\u001b[0m\u001b[1;33m\u001b[0m\u001b[0m\n",
      "\u001b[1;32m~\\Documents\\PrismAI\\Hermes\\Notebooks\\linkedin_scraping.py\u001b[0m in \u001b[0;36mget_post_reactions\u001b[1;34m(wd)\u001b[0m\n\u001b[0;32m    107\u001b[0m         wd.execute_script(\n\u001b[0;32m    108\u001b[0m             'arguments[0].scrollTop = arguments[0].scrollHeight', panel)\n\u001b[1;32m--> 109\u001b[1;33m         \u001b[0mtime\u001b[0m\u001b[1;33m.\u001b[0m\u001b[0msleep\u001b[0m\u001b[1;33m(\u001b[0m\u001b[1;36m2\u001b[0m\u001b[1;33m)\u001b[0m\u001b[1;33m\u001b[0m\u001b[1;33m\u001b[0m\u001b[0m\n\u001b[0m\u001b[0;32m    110\u001b[0m         \u001b[1;32mtry\u001b[0m\u001b[1;33m:\u001b[0m\u001b[1;33m\u001b[0m\u001b[1;33m\u001b[0m\u001b[0m\n\u001b[0;32m    111\u001b[0m             \u001b[0mwd\u001b[0m\u001b[1;33m.\u001b[0m\u001b[0mfind_element_by_xpath\u001b[0m\u001b[1;33m(\u001b[0m\u001b[1;34m\"//*[text()='Show more results']\"\u001b[0m\u001b[1;33m)\u001b[0m\u001b[1;33m.\u001b[0m\u001b[0mclick\u001b[0m\u001b[1;33m(\u001b[0m\u001b[1;33m)\u001b[0m\u001b[1;33m\u001b[0m\u001b[1;33m\u001b[0m\u001b[0m\n",
      "\u001b[1;31mKeyboardInterrupt\u001b[0m: "
     ]
    }
   ],
   "source": [
    "posts_reactions = pd.DataFrame()\n",
    "posts_comments = pd.DataFrame()\n",
    "posts = pd.DataFrame()\n",
    "\n",
    "# open chrome console\n",
    "\n",
    "for i, row in posts_url_df.iterrows():\n",
    "    driver.get(row['post_url'])\n",
    "    time.sleep(2)\n",
    "    post = ls.get_post(driver)\n",
    "    posts = pd.concat([posts, post])\n",
    "    post_r = ls.get_post_reactions(driver)\n",
    "    posts_reactions = pd.concat([posts_reactions,post_r]) \n",
    "    post_c = ls.get_post_comments(driver)\n",
    "    posts_comments = pd.concat([posts_comments,post_c])\n",
    "    print(i)\n",
    "    \n",
    "    #1:52 horas, dio error en la 323 (iniciar en 322), por el formato de 1,764\n",
    "    # 25:30 min de 323 a 381\n",
    "    # total 2:16 horas\n",
    "    \n",
    "    \n",
    "posts.to_csv('data/'+keyword+' posts2.csv')\n",
    "posts_reactions.to_csv('data/'+keyword+' posts_reactions2.csv') \n",
    "posts_comments.to_csv('data/'+keyword+' posts_comments2.csv') "
   ]
  },
  {
   "cell_type": "code",
   "execution_count": null,
   "metadata": {},
   "outputs": [],
   "source": []
  },
  {
   "cell_type": "code",
   "execution_count": null,
   "metadata": {},
   "outputs": [],
   "source": [
    "\n",
    "\n",
    "element2 = driver.find_element_by_xpath(\"//div[@class='social-details-reactors-tab-body']\")\n",
    "elements3 = element2.find_elements_by_xpath(\".//div[@class='artdeco-entity-lockup__title ember-view']\")\n",
    "\n",
    "for element in elements3:\n",
    "    print(element.text)\n",
    "    "
   ]
  },
  {
   "cell_type": "code",
   "execution_count": null,
   "metadata": {},
   "outputs": [],
   "source": [
    "# 'https://www.linkedin.com/posts/anaromerolinkepower_equipopower-familiaempresarial-activity-6817819334484774912-B4R2/'\n",
    "# https://www.linkedin.com/posts/jorgebranger_nunca-dejes-pasar-una-oportunidad-por-estar-activity-6815238905818832896-ix4P/\n",
    "\n",
    "post_comments = get_post_comments(driver)\n",
    "post_comments.head()"
   ]
  },
  {
   "cell_type": "code",
   "execution_count": null,
   "metadata": {
    "scrolled": false
   },
   "outputs": [],
   "source": [
    "post_reactions_and_comments = pd.concat([post_reactions,post_comments])\n",
    "post_reactions_and_comments.to_csv('C:/Users/VanessaNunez/Downloads')"
   ]
  },
  {
   "cell_type": "code",
   "execution_count": null,
   "metadata": {},
   "outputs": [],
   "source": [
    "# fixed full\n",
    "# feed-shared-update-v2__description-wrapper"
   ]
  },
  {
   "cell_type": "code",
   "execution_count": null,
   "metadata": {},
   "outputs": [],
   "source": [
    "for k in reactors.keys():\n",
    "    print(k)"
   ]
  },
  {
   "cell_type": "code",
   "execution_count": null,
   "metadata": {},
   "outputs": [],
   "source": [
    "driver.execute_script(\"window.scrollTo(0, document.body.scrollHeight);\")"
   ]
  },
  {
   "cell_type": "code",
   "execution_count": null,
   "metadata": {},
   "outputs": [],
   "source": [
    "driver.find_elements_by_class_name('social-details-reactors-tab-body')"
   ]
  },
  {
   "cell_type": "code",
   "execution_count": null,
   "metadata": {},
   "outputs": [],
   "source": [
    "#driver.close()"
   ]
  },
  {
   "cell_type": "code",
   "execution_count": null,
   "metadata": {},
   "outputs": [],
   "source": [
    "driver.window_handles"
   ]
  },
  {
   "cell_type": "code",
   "execution_count": null,
   "metadata": {},
   "outputs": [],
   "source": [
    "driver.current_window_handle"
   ]
  },
  {
   "cell_type": "code",
   "execution_count": null,
   "metadata": {},
   "outputs": [],
   "source": [
    "def Posts(wd):\n",
    "    time.sleep(2)\n",
    "    # Click in Posts\n",
    "    posts_url = wd.current_url + \"posts/\"\n",
    "    wd.get(posts_url)\n",
    "    time.sleep(2)\n",
    "    \n",
    "    # Scroll till end of page\n",
    "    inicial_yoffset = 0\n",
    "    scrolled_yoffset = driver.execute_script(\"return window.pageYOffset;\") + 1 # Inicial return is 0\n",
    "\n",
    "    while scrolled_yoffset > inicial_yoffset:\n",
    "        inicial_yoffset = driver.execute_script(\"return window.pageYOffset;\")\n",
    "        driver.execute_script(f\"window.scrollTo(0,document.body.scrollHeight);\")\n",
    "        time.sleep(1)\n",
    "        scrolled_yoffset = driver.execute_script(\"return window.pageYOffset;\")\n",
    "        \n",
    "    # String to look\n",
    "    data_urn = 'urn:li:activity:'\n",
    "    posts = {}\n",
    "            \n",
    "    # Get posts url\n",
    "    for i in wd.find_elements_by_class_name(\"occludable-update.ember-view\"):\n",
    "        posts[i.get_attribute('href')] = 1\n",
    "\n",
    "    # Click next page\n",
    "    if j + 1 < n_pages:\n",
    "        wd.find_elements_by_class_name('artdeco-pagination__button.artdeco-pagination__button--next.artdeco-button.artdeco-button--muted.artdeco-button--icon-right.artdeco-button--1.artdeco-button--tertiary.ember-view')[0].click()\n",
    "\n",
    "    return posts\n",
    "        "
   ]
  },
  {
   "cell_type": "code",
   "execution_count": null,
   "metadata": {},
   "outputs": [],
   "source": []
  }
 ],
 "metadata": {
  "kernelspec": {
   "display_name": "Python 3",
   "language": "python",
   "name": "python3"
  },
  "language_info": {
   "codemirror_mode": {
    "name": "ipython",
    "version": 3
   },
   "file_extension": ".py",
   "mimetype": "text/x-python",
   "name": "python",
   "nbconvert_exporter": "python",
   "pygments_lexer": "ipython3",
   "version": "3.8.10"
  }
 },
 "nbformat": 4,
 "nbformat_minor": 4
}
