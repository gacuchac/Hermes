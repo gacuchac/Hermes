{
 "cells": [
  {
   "cell_type": "code",
   "execution_count": 1,
   "metadata": {},
   "outputs": [],
   "source": [
    "# import web driver\n",
    "from selenium import webdriver\n",
    "from selenium.webdriver.common.keys import Keys\n",
    "from Login_info import user as user1, password as pass1\n",
    "import time, math\n",
    "import pandas as pd"
   ]
  },
  {
   "cell_type": "code",
   "execution_count": 2,
   "metadata": {},
   "outputs": [],
   "source": [
    "import linkedin_scraping as ls"
   ]
  },
  {
   "cell_type": "code",
   "execution_count": 3,
   "metadata": {},
   "outputs": [],
   "source": [
    "options = webdriver.ChromeOptions()\n",
    "options.add_argument(\"--start-maximized\")\n",
    "driver = webdriver.Chrome('chromedriver',options=options)"
   ]
  },
  {
   "cell_type": "code",
   "execution_count": 4,
   "metadata": {},
   "outputs": [],
   "source": [
    "time.sleep(3)\n",
    "driver.get(\"https://www.linkedin.com\")\n",
    "\n",
    "time.sleep(1)"
   ]
  },
  {
   "cell_type": "code",
   "execution_count": 5,
   "metadata": {},
   "outputs": [],
   "source": [
    "ls.Login(driver,user1,pass1)"
   ]
  },
  {
   "cell_type": "code",
   "execution_count": null,
   "metadata": {
    "scrolled": true
   },
   "outputs": [],
   "source": [
    "keyword = 'Applaudo Studios'  \n",
    "posts = ls.Posts_pagination(driver, keyword)"
   ]
  },
  {
   "cell_type": "code",
   "execution_count": null,
   "metadata": {},
   "outputs": [],
   "source": [
    "posts_df = pd.DataFrame(posts, columns=['post_url'])\n",
    "posts_df.to_csv('data/posts_url.csv', index=False) "
   ]
  },
  {
   "cell_type": "code",
   "execution_count": 6,
   "metadata": {},
   "outputs": [
    {
     "data": {
      "text/html": [
       "<div>\n",
       "<style scoped>\n",
       "    .dataframe tbody tr th:only-of-type {\n",
       "        vertical-align: middle;\n",
       "    }\n",
       "\n",
       "    .dataframe tbody tr th {\n",
       "        vertical-align: top;\n",
       "    }\n",
       "\n",
       "    .dataframe thead th {\n",
       "        text-align: right;\n",
       "    }\n",
       "</style>\n",
       "<table border=\"1\" class=\"dataframe\">\n",
       "  <thead>\n",
       "    <tr style=\"text-align: right;\">\n",
       "      <th></th>\n",
       "      <th>post_url</th>\n",
       "    </tr>\n",
       "  </thead>\n",
       "  <tbody>\n",
       "    <tr>\n",
       "      <th>0</th>\n",
       "      <td>https://www.linkedin.com/feed/update/urn:li:ac...</td>\n",
       "    </tr>\n",
       "    <tr>\n",
       "      <th>1</th>\n",
       "      <td>https://www.linkedin.com/feed/update/urn:li:ac...</td>\n",
       "    </tr>\n",
       "    <tr>\n",
       "      <th>2</th>\n",
       "      <td>https://www.linkedin.com/feed/update/urn:li:ac...</td>\n",
       "    </tr>\n",
       "    <tr>\n",
       "      <th>3</th>\n",
       "      <td>https://www.linkedin.com/feed/update/urn:li:ac...</td>\n",
       "    </tr>\n",
       "    <tr>\n",
       "      <th>4</th>\n",
       "      <td>https://www.linkedin.com/feed/update/urn:li:ac...</td>\n",
       "    </tr>\n",
       "  </tbody>\n",
       "</table>\n",
       "</div>"
      ],
      "text/plain": [
       "                                            post_url\n",
       "0  https://www.linkedin.com/feed/update/urn:li:ac...\n",
       "1  https://www.linkedin.com/feed/update/urn:li:ac...\n",
       "2  https://www.linkedin.com/feed/update/urn:li:ac...\n",
       "3  https://www.linkedin.com/feed/update/urn:li:ac...\n",
       "4  https://www.linkedin.com/feed/update/urn:li:ac..."
      ]
     },
     "execution_count": 6,
     "metadata": {},
     "output_type": "execute_result"
    }
   ],
   "source": [
    "posts_url_df = pd.read_csv('data/posts_url.csv')\n",
    "posts_url_df.head()"
   ]
  },
  {
   "cell_type": "code",
   "execution_count": 7,
   "metadata": {},
   "outputs": [],
   "source": [
    "def get_load_more_btn(wd):\n",
    "    try:\n",
    "        return wd.find_element_by_xpath(\"//*[text()='Load more comments']\")\n",
    "    except:\n",
    "        return 'Element not found'\n",
    "\n",
    "\n",
    "def get_load_previous_btn(wd):\n",
    "    try:\n",
    "        return wd.find_element_by_xpath(\"//*[text()='Load previous replies']\")\n",
    "    except:\n",
    "        return 'Element not found'\n",
    "    \n",
    "def get_post_comments(wd):\n",
    "    commentors_name = []\n",
    "    commentors_href = []\n",
    "    comments = []\n",
    "    replies = []\n",
    "    number_of_replies = []\n",
    "\n",
    "    commentors_name_class_name = 'comments-post-meta__name-text.hoverable-link-text.mr1'\n",
    "    commentors_href_class_name = 'ember-view.comments-post-meta__profile-link.t-16.t-black.t-bold.tap-target'\n",
    "    comments_class_name = 'comments-comment-item__main-content.feed-shared-main-content--comment.t-14.t-black.t-normal'\n",
    "    close_modal_btn_cn = 'artdeco-modal__dismiss.artdeco-button.artdeco-button--circle.artdeco-button--muted.artdeco-button--2.artdeco-button--tertiary.ember-view'\n",
    "    \n",
    "    try:\n",
    "        wd.find_element_by_class_name(close_modal_btn_cn).click()\n",
    "        time.sleep(1)\n",
    "    except:\n",
    "        pass\n",
    "\n",
    "    # loading all comments\n",
    "    load_more_btn = get_load_more_btn(wd)\n",
    "    load_previous_btn = get_load_previous_btn(wd)\n",
    "\n",
    "    comments_dataframe = pd.DataFrame(\n",
    "        columns=['post_url', 'username', 'profile_url', 'comment', 'number_replies'])\n",
    "\n",
    "    if len(wd.find_elements_by_class_name('comments-comments-list')) == 0:\n",
    "        comments_dataframe = comments_dataframe.append({'post_url': wd.current_url,\n",
    "                                                        'username': '', 'profile_url': '', 'comment': '', 'number_replies': ''},\n",
    "                                                       ignore_index=True)\n",
    "        return comments_dataframe\n",
    "\n",
    "    while(load_more_btn != 'Element not found'):\n",
    "        load_more_btn.click()\n",
    "        time.sleep(3)\n",
    "        load_more_btn = get_load_more_btn(wd)\n",
    "\n",
    "    while(load_previous_btn != 'Element not found'):\n",
    "        load_previous_btn.click()\n",
    "        time.sleep(3)\n",
    "        load_previous_btn = get_load_previous_btn(wd)\n",
    "\n",
    "    time.sleep(1)\n",
    "\n",
    "    amount_of_main_comments = wd.find_elements_by_class_name(\n",
    "        \"comments-comment-item.comments-comments-list__comment-item\")\n",
    "\n",
    "    for commentor in wd.find_elements_by_class_name(commentors_name_class_name):\n",
    "        commentors_name.append(commentor.text)\n",
    "\n",
    "    for commentor in wd.find_elements_by_class_name(commentors_href_class_name):\n",
    "        commentors_href.append(commentor.get_attribute('href'))\n",
    "\n",
    "    for comment in wd.find_elements_by_class_name(comments_class_name):\n",
    "        comments.append(comment.text)\n",
    "\n",
    "    for i in range(1, len(amount_of_main_comments)+1):\n",
    "        try:\n",
    "            replies_of_comment = wd.find_element_by_xpath(\n",
    "                f\"//article[{i}]/div[6]/div[3]/div/div[3]/span[2]\")\n",
    "            replies.append(int(replies_of_comment.text.split(' ')[0]))\n",
    "        except:\n",
    "            replies.append(0)\n",
    "\n",
    "    for i in replies:\n",
    "        word = 'Reply' if i == 1 else 'Replies'\n",
    "        number_of_replies.append(f'{i} {word}')\n",
    "\n",
    "        for k in range(i):\n",
    "            number_of_replies.append('Is a Reply')\n",
    "\n",
    "    comments_dataframe['post_url'] = [\n",
    "        wd.current_url for i in range(len(commentors_name))]\n",
    "    comments_dataframe['username'] = commentors_name\n",
    "    comments_dataframe['profile_url'] = commentors_href\n",
    "    comments_dataframe['comment'] = comments\n",
    "    comments_dataframe['number_replies'] = number_of_replies\n",
    "\n",
    "    return comments_dataframe\n"
   ]
  },
  {
   "cell_type": "code",
   "execution_count": 8,
   "metadata": {},
   "outputs": [],
   "source": [
    "def get_post_reactions(wd):\n",
    "    reactors_name = []\n",
    "    reactors_href = []\n",
    "    reactions_type = []\n",
    "\n",
    "    reactions_window_btn = 'v-align-middle.social-details-social-counts__reactions-count'\n",
    "    reactions_window_class_name = 'artdeco-modal__content.social-details-reactors-modal__content.ember-view'\n",
    "    reactors_href_class_name = 'link-without-hover-state.ember-view'\n",
    "    reactors_name_class_name = 'artdeco-entity-lockup__title.ember-view'\n",
    "    reaction_class_name = 'reactions-icon.social-details-reactors-tab-body__icon.reactions-icon__consumption--small'\n",
    "    modal_reactions_cn = 'social-details-reactors-tab-body'\n",
    "\n",
    "    reactions_dataframe = pd.DataFrame(\n",
    "        columns=['post_url', 'username', 'profile_url', 'reaction'])\n",
    "\n",
    "    # opening reactions window\n",
    "    try:\n",
    "        reactions = wd.find_element_by_class_name(reactions_window_btn)\n",
    "    except:\n",
    "        reactions_dataframe = reactions_dataframe.append({'post_url' : wd.current_url,\n",
    "                    'username' : '', 'profile_url': '', 'reaction':''} , \n",
    "                    ignore_index=True)\n",
    "        return reactions_dataframe\n",
    "\n",
    "    n_reactions = int(reactions.text)\n",
    "    reactions.click()\n",
    "\n",
    "    time.sleep(2)\n",
    "\n",
    "    reactions_modal = wd.find_element_by_xpath(\n",
    "        \"//div[@class='social-details-reactors-tab-body']\")\n",
    "\n",
    "    # scroll down in reactions window\n",
    "    panel = wd.find_element_by_class_name(reactions_window_class_name)\n",
    "    for i in range(int(n_reactions/10)+1):\n",
    "        wd.execute_script(\n",
    "            'arguments[0].scrollTop = arguments[0].scrollHeight', panel)\n",
    "        time.sleep(2)\n",
    "        try:\n",
    "            wd.find_element_by_xpath(\"//*[text()='Show more results']\").click()\n",
    "        except:\n",
    "            continue\n",
    "\n",
    "    for reactor in reactions_modal.find_elements_by_class_name(reactors_href_class_name):\n",
    "        reactors_href.append(reactor.get_attribute('href'))\n",
    "\n",
    "    for reactor in reactions_modal.find_elements_by_class_name(reactors_name_class_name):\n",
    "        reactors_name.append(reactor.text)\n",
    "\n",
    "    for reaction in reactions_modal.find_elements_by_class_name(reaction_class_name):\n",
    "        reactions_type.append(reaction.get_attribute('alt'))\n",
    "\n",
    "    reactions_dataframe['post_url'] = [\n",
    "        wd.current_url for i in range(len(reactors_name))]\n",
    "    reactions_dataframe['username'] = reactors_name\n",
    "    reactions_dataframe['profile_url'] = reactors_href\n",
    "    reactions_dataframe['reaction'] = reactions_type\n",
    "\n",
    "    return reactions_dataframe"
   ]
  },
  {
   "cell_type": "code",
   "execution_count": 82,
   "metadata": {},
   "outputs": [],
   "source": [
    "def get_media(wd, post_element):\n",
    "    media_url = ''\n",
    "    media_type = 'Unknown' # unknown o no media?\n",
    "    images = post_element.find_elements_by_class_name('ivm-view-attr__img--centered.feed-shared-image__image.lazy-image.ember-view')\n",
    "    if len(images) == 1:\n",
    "        media_url = images[0].get_attribute('src')\n",
    "        media_type = 'Image'\n",
    "    elif len(images) > 1:\n",
    "        media_url = []\n",
    "        for img in images:\n",
    "            media_url.append(img.get_attribute('src'))\n",
    "        media_type = 'Images'\n",
    "    else:\n",
    "        wd.switch_to.frame(driver.find_element_by_tag_name(\"iframe\"))\n",
    "        carousel = wd.find_elements_by_class_name('carousel-lazy-element')\n",
    "        if len(carousel) > 0:\n",
    "            media_url = []\n",
    "            for slide in carousel:\n",
    "                media_url.append(slide.get_attribute('src'))\n",
    "            media_type = 'Carousel'\n",
    "            wd.switch_to.default_content()\n",
    "        else:\n",
    "            wd.switch_to.default_content()\n",
    "            try:\n",
    "                media_url = post_element.find_element_by_class_name('vjs-tech').get_attribute('src')\n",
    "                media_type = 'Video'\n",
    "            except:\n",
    "                try:\n",
    "                    media_url = post_element.find_element_by_class_name('tap-target.feed-shared-mini-update-v2__link-to-details-page.text-body-medium.ember-view').get_attribute('href')\n",
    "                    media_type = 'Reshared post'\n",
    "                except:\n",
    "                    pass\n",
    "                \n",
    "    return media_url, media_type\n",
    "        \n",
    "\n",
    "def get_post(wd):\n",
    "    post_df = pd.DataFrame(\n",
    "        columns=['post_url', 'author', 'author_url', 'author_type', 'description', 'media_type', 'media_url'])\n",
    "    \n",
    "    author_element_cn = 'app-aware-link.feed-shared-actor__container-link.relative.display-flex.flex-grow-1'\n",
    "    author_name_cn = 'feed-shared-actor__name.t-14.t-bold.hoverable-link-text.t-black'\n",
    "    post_description_cn = 'feed-shared-inline-show-more-text.feed-shared-update-v2__description.feed-shared-inline-show-more-text--minimal-padding.feed-shared-inline-show-more-text--expanded'\n",
    "    \n",
    "    post_element = wd.find_element_by_class_name('core-rail.update-outlet')\n",
    "    author_url = post_element.find_element_by_class_name(author_element_cn).get_attribute('href').split('?')[0]\n",
    "    author_name = post_element.find_element_by_class_name(author_name_cn).text    \n",
    "    author_type = 'Company' if author_url.find('company') != -1 else 'User'\n",
    "    \n",
    "    try:\n",
    "        description = post_element.find_element_by_class_name(post_description_cn).text\n",
    "    except:\n",
    "        description = 'No description'\n",
    "    \n",
    "    try:\n",
    "        source = post_element.get_attribute('src')\n",
    "    except:\n",
    "        source = 'No source'\n",
    "    \n",
    "    media_url, media_type = get_media(wd, post_element)\n",
    "    \n",
    "    post_df = post_df.append({'post_url' : wd.current_url, 'author' : author_name, 'author_url': author_url, \n",
    "                              'author_type': author_type, 'description': description, 'media_type': media_type,\n",
    "                              'media_url': media_url } , \n",
    "                    ignore_index=True)\n",
    "    print('media_url', media_url)\n",
    "    print('media_type', media_type)\n",
    "\n",
    "    return post_df"
   ]
  },
  {
   "cell_type": "code",
   "execution_count": 83,
   "metadata": {},
   "outputs": [
    {
     "name": "stdout",
     "output_type": "stream",
     "text": [
      "media_url \n",
      "media_type Unknown\n"
     ]
    },
    {
     "data": {
      "text/html": [
       "<div>\n",
       "<style scoped>\n",
       "    .dataframe tbody tr th:only-of-type {\n",
       "        vertical-align: middle;\n",
       "    }\n",
       "\n",
       "    .dataframe tbody tr th {\n",
       "        vertical-align: top;\n",
       "    }\n",
       "\n",
       "    .dataframe thead th {\n",
       "        text-align: right;\n",
       "    }\n",
       "</style>\n",
       "<table border=\"1\" class=\"dataframe\">\n",
       "  <thead>\n",
       "    <tr style=\"text-align: right;\">\n",
       "      <th></th>\n",
       "      <th>post_url</th>\n",
       "      <th>author</th>\n",
       "      <th>author_url</th>\n",
       "      <th>author_type</th>\n",
       "      <th>description</th>\n",
       "      <th>media_type</th>\n",
       "      <th>media_url</th>\n",
       "    </tr>\n",
       "  </thead>\n",
       "  <tbody>\n",
       "    <tr>\n",
       "      <th>0</th>\n",
       "      <td>https://www.linkedin.com/feed/update/urn:li:ac...</td>\n",
       "      <td>César Retana</td>\n",
       "      <td>https://www.linkedin.com/in/cretana</td>\n",
       "      <td>User</td>\n",
       "      <td>Today I got my first Performance Review delive...</td>\n",
       "      <td>Unknown</td>\n",
       "      <td></td>\n",
       "    </tr>\n",
       "  </tbody>\n",
       "</table>\n",
       "</div>"
      ],
      "text/plain": [
       "                                            post_url        author  \\\n",
       "0  https://www.linkedin.com/feed/update/urn:li:ac...  César Retana   \n",
       "\n",
       "                            author_url author_type  \\\n",
       "0  https://www.linkedin.com/in/cretana        User   \n",
       "\n",
       "                                         description media_type media_url  \n",
       "0  Today I got my first Performance Review delive...    Unknown            "
      ]
     },
     "execution_count": 83,
     "metadata": {},
     "output_type": "execute_result"
    }
   ],
   "source": [
    "driver.switch_to.default_content()\n",
    "post = get_post(driver)\n",
    "post"
   ]
  },
  {
   "cell_type": "code",
   "execution_count": 77,
   "metadata": {},
   "outputs": [
    {
     "name": "stdout",
     "output_type": "stream",
     "text": [
      "https://media-exp3.licdn.com/dms/image/C4D1FAQEfNOb1DM4-Gg/feedshare-document-images_800/3/1625675311741?e=1625878800&v=beta&t=agRSgBYetl_fDOIZjxSRm9soUthFPGEGm3mEHSa9rpU\n"
     ]
    }
   ],
   "source": [
    "post_description_cn = 'feed-shared-inline-show-more-text.feed-shared-update-v2__description.feed-shared-inline-show-more-text--minimal-padding.feed-shared-inline-show-more-text--expanded'\n",
    "\n",
    "# post_element = driver.find_element_by_class_name('core-rail.update-outlet')\n",
    "# cn = 'vjs-tech'\n",
    "# post_element.find_elements_by_class_name(cn)[0].get_attribute('src')\n",
    "driver.switch_to.default_content()\n",
    "\n",
    "driver.switch_to.frame(driver.find_element_by_tag_name(\"iframe\"))\n",
    "src = driver.find_elements_by_class_name('carousel-lazy-element')[2].get_attribute('src')\n",
    "# innerHTML = src.get_attribute('src')\n",
    "print(src)"
   ]
  },
  {
   "cell_type": "code",
   "execution_count": 76,
   "metadata": {},
   "outputs": [
    {
     "data": {
      "text/plain": [
       "'Check these open positions at Applaudo Studios\\nApply at https://lnkd.in/dcNQa2x and submit your application'"
      ]
     },
     "execution_count": 76,
     "metadata": {},
     "output_type": "execute_result"
    }
   ],
   "source": [
    "driver.find_element_by_class_name('feed-shared-inline-show-more-text.feed-shared-update-v2__description.feed-shared-inline-show-more-text--minimal-padding.feed-shared-inline-show-more-text--expanded').text"
   ]
  },
  {
   "cell_type": "code",
   "execution_count": 15,
   "metadata": {},
   "outputs": [
    {
     "name": "stdout",
     "output_type": "stream",
     "text": [
      "0\n",
      "1\n",
      "2\n",
      "3\n",
      "4\n"
     ]
    }
   ],
   "source": [
    "posts_reactions = pd.DataFrame()\n",
    "posts_comments = pd.DataFrame()\n",
    "\n",
    "for i, row in posts_url_df.iterrows():\n",
    "    if i > 4:\n",
    "        break\n",
    "    driver.get(row['post_url'])\n",
    "    time.sleep(2)\n",
    "#     post_r = ls.get_post_reactions(driver)\n",
    "#     posts_reactions = pd.concat([posts_reactions,post_r]) \n",
    "#     post_c = ls.get_post_comments(driver)\n",
    "#     posts_comments = pd.concat([posts_comments,post_c])\n",
    "    print(i)\n",
    "    "
   ]
  },
  {
   "cell_type": "code",
   "execution_count": 16,
   "metadata": {},
   "outputs": [
    {
     "data": {
      "text/html": [
       "<div>\n",
       "<style scoped>\n",
       "    .dataframe tbody tr th:only-of-type {\n",
       "        vertical-align: middle;\n",
       "    }\n",
       "\n",
       "    .dataframe tbody tr th {\n",
       "        vertical-align: top;\n",
       "    }\n",
       "\n",
       "    .dataframe thead th {\n",
       "        text-align: right;\n",
       "    }\n",
       "</style>\n",
       "<table border=\"1\" class=\"dataframe\">\n",
       "  <thead>\n",
       "    <tr style=\"text-align: right;\">\n",
       "      <th></th>\n",
       "      <th>post_url</th>\n",
       "      <th>username</th>\n",
       "      <th>profile_url</th>\n",
       "      <th>reaction</th>\n",
       "    </tr>\n",
       "  </thead>\n",
       "  <tbody>\n",
       "    <tr>\n",
       "      <th>114</th>\n",
       "      <td>https://www.linkedin.com/feed/update/urn:li:ac...</td>\n",
       "      <td>Daniela Bonet\\nView Daniela Bonet’s profile</td>\n",
       "      <td>https://www.linkedin.com/in/ACoAACIiPDMBKJukwg...</td>\n",
       "      <td>EMPATHY</td>\n",
       "    </tr>\n",
       "    <tr>\n",
       "      <th>115</th>\n",
       "      <td>https://www.linkedin.com/feed/update/urn:li:ac...</td>\n",
       "      <td>Bryan Velásquez, SMPC®, LSSGB\\nView Bryan Velá...</td>\n",
       "      <td>https://www.linkedin.com/in/ACoAACQsGioBihF1BY...</td>\n",
       "      <td>LIKE</td>\n",
       "    </tr>\n",
       "    <tr>\n",
       "      <th>116</th>\n",
       "      <td>https://www.linkedin.com/feed/update/urn:li:ac...</td>\n",
       "      <td>Belly Oweer Espinal Larios\\nView Belly Oweer E...</td>\n",
       "      <td>https://www.linkedin.com/in/ACoAACFQb98BoKiT7A...</td>\n",
       "      <td>PRAISE</td>\n",
       "    </tr>\n",
       "    <tr>\n",
       "      <th>0</th>\n",
       "      <td>https://www.linkedin.com/feed/update/urn:li:ac...</td>\n",
       "      <td></td>\n",
       "      <td></td>\n",
       "      <td></td>\n",
       "    </tr>\n",
       "    <tr>\n",
       "      <th>0</th>\n",
       "      <td>https://www.linkedin.com/feed/update/urn:li:ac...</td>\n",
       "      <td></td>\n",
       "      <td></td>\n",
       "      <td></td>\n",
       "    </tr>\n",
       "  </tbody>\n",
       "</table>\n",
       "</div>"
      ],
      "text/plain": [
       "                                              post_url  \\\n",
       "114  https://www.linkedin.com/feed/update/urn:li:ac...   \n",
       "115  https://www.linkedin.com/feed/update/urn:li:ac...   \n",
       "116  https://www.linkedin.com/feed/update/urn:li:ac...   \n",
       "0    https://www.linkedin.com/feed/update/urn:li:ac...   \n",
       "0    https://www.linkedin.com/feed/update/urn:li:ac...   \n",
       "\n",
       "                                              username  \\\n",
       "114        Daniela Bonet\\nView Daniela Bonet’s profile   \n",
       "115  Bryan Velásquez, SMPC®, LSSGB\\nView Bryan Velá...   \n",
       "116  Belly Oweer Espinal Larios\\nView Belly Oweer E...   \n",
       "0                                                        \n",
       "0                                                        \n",
       "\n",
       "                                           profile_url reaction  \n",
       "114  https://www.linkedin.com/in/ACoAACIiPDMBKJukwg...  EMPATHY  \n",
       "115  https://www.linkedin.com/in/ACoAACQsGioBihF1BY...     LIKE  \n",
       "116  https://www.linkedin.com/in/ACoAACFQb98BoKiT7A...   PRAISE  \n",
       "0                                                                \n",
       "0                                                                "
      ]
     },
     "execution_count": 16,
     "metadata": {},
     "output_type": "execute_result"
    }
   ],
   "source": [
    "posts_reactions.tail()"
   ]
  },
  {
   "cell_type": "code",
   "execution_count": 17,
   "metadata": {},
   "outputs": [
    {
     "data": {
      "text/html": [
       "<div>\n",
       "<style scoped>\n",
       "    .dataframe tbody tr th:only-of-type {\n",
       "        vertical-align: middle;\n",
       "    }\n",
       "\n",
       "    .dataframe tbody tr th {\n",
       "        vertical-align: top;\n",
       "    }\n",
       "\n",
       "    .dataframe thead th {\n",
       "        text-align: right;\n",
       "    }\n",
       "</style>\n",
       "<table border=\"1\" class=\"dataframe\">\n",
       "  <thead>\n",
       "    <tr style=\"text-align: right;\">\n",
       "      <th></th>\n",
       "      <th>post_url</th>\n",
       "      <th>username</th>\n",
       "      <th>profile_url</th>\n",
       "      <th>comment</th>\n",
       "      <th>number_replies</th>\n",
       "    </tr>\n",
       "  </thead>\n",
       "  <tbody>\n",
       "    <tr>\n",
       "      <th>8</th>\n",
       "      <td>https://www.linkedin.com/feed/update/urn:li:ac...</td>\n",
       "      <td>Gabriela Monroy</td>\n",
       "      <td>https://www.linkedin.com/in/gabriela-monroy-9b...</td>\n",
       "      <td>Great Job Erick! 🚀</td>\n",
       "      <td>1 Reply</td>\n",
       "    </tr>\n",
       "    <tr>\n",
       "      <th>9</th>\n",
       "      <td>https://www.linkedin.com/feed/update/urn:li:ac...</td>\n",
       "      <td>Erick Henríquez</td>\n",
       "      <td>https://www.linkedin.com/in/erick-henr%C3%ADqu...</td>\n",
       "      <td>Gracias Gaby!!</td>\n",
       "      <td>Is a Reply</td>\n",
       "    </tr>\n",
       "    <tr>\n",
       "      <th>10</th>\n",
       "      <td>https://www.linkedin.com/feed/update/urn:li:ac...</td>\n",
       "      <td>Aracely Ocón</td>\n",
       "      <td>https://www.linkedin.com/in/aracely-oc%C3%B3n-...</td>\n",
       "      <td>🤩👏🏻 Erick Henríquez</td>\n",
       "      <td>0 Replies</td>\n",
       "    </tr>\n",
       "    <tr>\n",
       "      <th>0</th>\n",
       "      <td>https://www.linkedin.com/feed/update/urn:li:ac...</td>\n",
       "      <td></td>\n",
       "      <td></td>\n",
       "      <td></td>\n",
       "      <td></td>\n",
       "    </tr>\n",
       "    <tr>\n",
       "      <th>0</th>\n",
       "      <td>https://www.linkedin.com/feed/update/urn:li:ac...</td>\n",
       "      <td></td>\n",
       "      <td></td>\n",
       "      <td></td>\n",
       "      <td></td>\n",
       "    </tr>\n",
       "  </tbody>\n",
       "</table>\n",
       "</div>"
      ],
      "text/plain": [
       "                                             post_url         username  \\\n",
       "8   https://www.linkedin.com/feed/update/urn:li:ac...  Gabriela Monroy   \n",
       "9   https://www.linkedin.com/feed/update/urn:li:ac...  Erick Henríquez   \n",
       "10  https://www.linkedin.com/feed/update/urn:li:ac...     Aracely Ocón   \n",
       "0   https://www.linkedin.com/feed/update/urn:li:ac...                    \n",
       "0   https://www.linkedin.com/feed/update/urn:li:ac...                    \n",
       "\n",
       "                                          profile_url              comment  \\\n",
       "8   https://www.linkedin.com/in/gabriela-monroy-9b...   Great Job Erick! 🚀   \n",
       "9   https://www.linkedin.com/in/erick-henr%C3%ADqu...       Gracias Gaby!!   \n",
       "10  https://www.linkedin.com/in/aracely-oc%C3%B3n-...  🤩👏🏻 Erick Henríquez   \n",
       "0                                                                            \n",
       "0                                                                            \n",
       "\n",
       "   number_replies  \n",
       "8         1 Reply  \n",
       "9      Is a Reply  \n",
       "10      0 Replies  \n",
       "0                  \n",
       "0                  "
      ]
     },
     "execution_count": 17,
     "metadata": {},
     "output_type": "execute_result"
    }
   ],
   "source": [
    "posts_comments.tail()"
   ]
  },
  {
   "cell_type": "code",
   "execution_count": null,
   "metadata": {},
   "outputs": [],
   "source": [
    "reactions_window_btn = 'v-align-middle.social-details-social-counts__reactions-count'\n",
    "driver.find_element_by_class_name(reactions_window_btn)"
   ]
  },
  {
   "cell_type": "code",
   "execution_count": null,
   "metadata": {},
   "outputs": [],
   "source": [
    "# for commentor in wd.find_elements_by_class_name(commentors_name_class_name):\n",
    "    #     commentors_name.append(commentor.text)\n",
    "    \n",
    "    \n",
    "    183"
   ]
  },
  {
   "cell_type": "code",
   "execution_count": null,
   "metadata": {},
   "outputs": [],
   "source": [
    "posts_comments.head()"
   ]
  },
  {
   "cell_type": "code",
   "execution_count": null,
   "metadata": {},
   "outputs": [],
   "source": [
    "\n",
    "\n",
    "element2 = driver.find_element_by_xpath(\"//div[@class='social-details-reactors-tab-body']\")\n",
    "elements3 = element2.find_elements_by_xpath(\".//div[@class='artdeco-entity-lockup__title ember-view']\")\n",
    "\n",
    "for element in elements3:\n",
    "    print(element.text)\n",
    "    "
   ]
  },
  {
   "cell_type": "code",
   "execution_count": null,
   "metadata": {},
   "outputs": [],
   "source": [
    "# 'https://www.linkedin.com/posts/anaromerolinkepower_equipopower-familiaempresarial-activity-6817819334484774912-B4R2/'\n",
    "# https://www.linkedin.com/posts/jorgebranger_nunca-dejes-pasar-una-oportunidad-por-estar-activity-6815238905818832896-ix4P/\n",
    "\n",
    "post_comments = get_post_comments(driver)\n",
    "post_comments.head()"
   ]
  },
  {
   "cell_type": "code",
   "execution_count": null,
   "metadata": {
    "scrolled": false
   },
   "outputs": [],
   "source": [
    "post_reactions_and_comments = pd.concat([post_reactions,post_comments])\n",
    "post_reactions_and_comments.to_csv('C:/Users/VanessaNunez/Downloads')"
   ]
  },
  {
   "cell_type": "code",
   "execution_count": null,
   "metadata": {},
   "outputs": [],
   "source": [
    "# fixed full\n",
    "# feed-shared-update-v2__description-wrapper"
   ]
  },
  {
   "cell_type": "code",
   "execution_count": null,
   "metadata": {},
   "outputs": [],
   "source": [
    "for k in reactors.keys():\n",
    "    print(k)"
   ]
  },
  {
   "cell_type": "code",
   "execution_count": null,
   "metadata": {},
   "outputs": [],
   "source": [
    "driver.execute_script(\"window.scrollTo(0, document.body.scrollHeight);\")"
   ]
  },
  {
   "cell_type": "code",
   "execution_count": null,
   "metadata": {},
   "outputs": [],
   "source": [
    "driver.find_elements_by_class_name('social-details-reactors-tab-body')"
   ]
  },
  {
   "cell_type": "code",
   "execution_count": null,
   "metadata": {},
   "outputs": [],
   "source": [
    "#driver.close()"
   ]
  },
  {
   "cell_type": "code",
   "execution_count": null,
   "metadata": {},
   "outputs": [],
   "source": [
    "driver.window_handles"
   ]
  },
  {
   "cell_type": "code",
   "execution_count": null,
   "metadata": {},
   "outputs": [],
   "source": [
    "driver.current_window_handle"
   ]
  },
  {
   "cell_type": "code",
   "execution_count": null,
   "metadata": {},
   "outputs": [],
   "source": [
    "def Posts(wd):\n",
    "    time.sleep(2)\n",
    "    # Click in Posts\n",
    "    posts_url = wd.current_url + \"posts/\"\n",
    "    wd.get(posts_url)\n",
    "    time.sleep(2)\n",
    "    \n",
    "    # Scroll till end of page\n",
    "    inicial_yoffset = 0\n",
    "    scrolled_yoffset = driver.execute_script(\"return window.pageYOffset;\") + 1 # Inicial return is 0\n",
    "\n",
    "    while scrolled_yoffset > inicial_yoffset:\n",
    "        inicial_yoffset = driver.execute_script(\"return window.pageYOffset;\")\n",
    "        driver.execute_script(f\"window.scrollTo(0,document.body.scrollHeight);\")\n",
    "        time.sleep(1)\n",
    "        scrolled_yoffset = driver.execute_script(\"return window.pageYOffset;\")\n",
    "        \n",
    "    # String to look\n",
    "    data_urn = 'urn:li:activity:'\n",
    "    posts = {}\n",
    "            \n",
    "    # Get posts url\n",
    "    for i in wd.find_elements_by_class_name(\"occludable-update.ember-view\"):\n",
    "        posts[i.get_attribute('href')] = 1\n",
    "\n",
    "    # Click next page\n",
    "    if j + 1 < n_pages:\n",
    "        wd.find_elements_by_class_name('artdeco-pagination__button.artdeco-pagination__button--next.artdeco-button.artdeco-button--muted.artdeco-button--icon-right.artdeco-button--1.artdeco-button--tertiary.ember-view')[0].click()\n",
    "\n",
    "    return posts\n",
    "        "
   ]
  }
 ],
 "metadata": {
  "kernelspec": {
   "display_name": "Python 3",
   "language": "python",
   "name": "python3"
  },
  "language_info": {
   "codemirror_mode": {
    "name": "ipython",
    "version": 3
   },
   "file_extension": ".py",
   "mimetype": "text/x-python",
   "name": "python",
   "nbconvert_exporter": "python",
   "pygments_lexer": "ipython3",
   "version": "3.8.10"
  }
 },
 "nbformat": 4,
 "nbformat_minor": 4
}
