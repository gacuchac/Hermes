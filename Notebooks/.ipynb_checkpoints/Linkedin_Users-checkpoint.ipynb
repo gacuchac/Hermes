{
 "cells": [
  {
   "cell_type": "code",
   "execution_count": 1,
   "id": "6b54e9c4",
   "metadata": {},
   "outputs": [],
   "source": [
    "# import web driver\n",
    "from selenium import webdriver\n",
    "from selenium.webdriver.common.keys import Keys\n",
    "from Login_info import user as user1, password as pass1\n",
    "import time, math, random\n",
    "import pandas as pd\n",
    "import pyperclip\n",
    "import linkedin_scraping as ls"
   ]
  },
  {
   "cell_type": "code",
   "execution_count": 2,
   "id": "41c443dc",
   "metadata": {},
   "outputs": [],
   "source": [
    "options = webdriver.FirefoxOptions()\n",
    "options.add_argument(\"--headless\")\n",
    "#options.add_argument(\"--start-maximized\")\n",
    "#options.add_argument(\"--no-sandbox\")\n",
    "#options.add_argument(\"--auto-open-devtools-for-tabs\")\n",
    "#options.add_argument('--disable-gpu')\n",
    "#options.add_argument(f'user-agent={UserAgent().random}')\n",
    "\n",
    "driver = webdriver.Firefox(executable_path='geckodriver.exe',options=options)"
   ]
  },
  {
   "cell_type": "code",
   "execution_count": 3,
   "id": "080be142",
   "metadata": {},
   "outputs": [],
   "source": [
    "time.sleep(3)\n",
    "driver.get(\"https://www.linkedin.com\")\n",
    "\n",
    "time.sleep(1)"
   ]
  },
  {
   "cell_type": "code",
   "execution_count": 4,
   "id": "d1d75284",
   "metadata": {},
   "outputs": [],
   "source": [
    "ls.Login(driver,user1,pass1)"
   ]
  },
  {
   "cell_type": "code",
   "execution_count": 5,
   "id": "5eff5db8",
   "metadata": {},
   "outputs": [],
   "source": [
    "################### VERIFICATION CODE #########################"
   ]
  },
  {
   "cell_type": "code",
   "execution_count": 6,
   "id": "a7c46e20",
   "metadata": {},
   "outputs": [],
   "source": [
    "driver.find_element_by_class_name(\"form__input--text.input_verification_pin\").send_keys(\"941669\")\n",
    "driver.find_element_by_class_name(\"form__submit.form__submit--stretch\").click()"
   ]
  },
  {
   "cell_type": "code",
   "execution_count": 7,
   "id": "8be9c7d3",
   "metadata": {},
   "outputs": [],
   "source": [
    "# lower messages panel\n",
    "\n",
    "driver.find_elements_by_class_name(\"msg-overlay-bubble-header__control.msg-overlay-bubble-header__control--new-convo-btn.artdeco-button.artdeco-button--circle.artdeco-button--muted.artdeco-button--1.artdeco-button--tertiary.ember-view\")[1].click()"
   ]
  },
  {
   "cell_type": "code",
   "execution_count": 8,
   "id": "f31b155d",
   "metadata": {},
   "outputs": [
    {
     "data": {
      "text/html": [
       "<div>\n",
       "<style scoped>\n",
       "    .dataframe tbody tr th:only-of-type {\n",
       "        vertical-align: middle;\n",
       "    }\n",
       "\n",
       "    .dataframe tbody tr th {\n",
       "        vertical-align: top;\n",
       "    }\n",
       "\n",
       "    .dataframe thead th {\n",
       "        text-align: right;\n",
       "    }\n",
       "</style>\n",
       "<table border=\"1\" class=\"dataframe\">\n",
       "  <thead>\n",
       "    <tr style=\"text-align: right;\">\n",
       "      <th></th>\n",
       "      <th>Profile</th>\n",
       "    </tr>\n",
       "  </thead>\n",
       "  <tbody>\n",
       "    <tr>\n",
       "      <th>0</th>\n",
       "      <td>https://www.linkedin.com/in/rodolfo-santos-540...</td>\n",
       "    </tr>\n",
       "    <tr>\n",
       "      <th>1</th>\n",
       "      <td>https://www.linkedin.com/in/carlos-h-portillo</td>\n",
       "    </tr>\n",
       "    <tr>\n",
       "      <th>2</th>\n",
       "      <td>https://www.linkedin.com/in/willaleman</td>\n",
       "    </tr>\n",
       "    <tr>\n",
       "      <th>3</th>\n",
       "      <td>https://www.linkedin.com/in/stephanie-orellana...</td>\n",
       "    </tr>\n",
       "    <tr>\n",
       "      <th>4</th>\n",
       "      <td>https://www.linkedin.com/in/christian-edgardo-...</td>\n",
       "    </tr>\n",
       "  </tbody>\n",
       "</table>\n",
       "</div>"
      ],
      "text/plain": [
       "                                             Profile\n",
       "0  https://www.linkedin.com/in/rodolfo-santos-540...\n",
       "1      https://www.linkedin.com/in/carlos-h-portillo\n",
       "2             https://www.linkedin.com/in/willaleman\n",
       "3  https://www.linkedin.com/in/stephanie-orellana...\n",
       "4  https://www.linkedin.com/in/christian-edgardo-..."
      ]
     },
     "execution_count": 8,
     "metadata": {},
     "output_type": "execute_result"
    }
   ],
   "source": [
    "users_file = \"data/Reactions - Users - Vanessa.csv\"\n",
    "comments_users = pd.read_csv(users_file)\n",
    "comments_users.head()"
   ]
  },
  {
   "cell_type": "code",
   "execution_count": 12,
   "id": "70151006",
   "metadata": {
    "scrolled": true
   },
   "outputs": [
    {
     "data": {
      "text/plain": [
       "400"
      ]
     },
     "execution_count": 12,
     "metadata": {},
     "output_type": "execute_result"
    }
   ],
   "source": [
    "# comments_users_extraction = pd.DataFrame(columns=[\"originalURL\",\"linkedinProfile\",\"description\",\"headline\",\"location\",\"fullname\",\"subscribers\",\"company\",\"companyURL\",\"jobTitle\"])\n",
    "comments_users_extraction = pd.read_csv(\"data/reactions_users_extraction.csv\")[['originalURL','linkedinProfile','description','headline','location','fullname','subscribers','company','companyURL','jobTitle'\n",
    "]]\n",
    "start = max(len(comments_users_extraction)-1,0)\n",
    "# start = 0\n",
    "start"
   ]
  },
  {
   "cell_type": "code",
   "execution_count": 13,
   "id": "8a00c6ae",
   "metadata": {
    "scrolled": true
   },
   "outputs": [
    {
     "name": "stdout",
     "output_type": "stream",
     "text": [
      "400\n",
      "400 0 36\n",
      "400 1 12\n",
      "400 2 0\n",
      "1 job\n",
      "400 https://www.linkedin.com/in/ACoAAABSaeUBiHcAgP6MatmTEMTlWKOCd1P_I1s https://www.linkedin.com/in/lcgomez/ Senior Lev Strategy,  El Salvador Luis Carlos Gomez 826 Great Ideas, SA de CV https://www.linkedin.com/company/gildan/ President\n",
      "401\n",
      "401 0 36\n",
      "401 1 0\n",
      "1 job\n",
      "401 https://www.linkedin.com/in/ACoAAB76KMMB3Mn5VXbe-qrGElBXZ430DLC74LE https://www.linkedin.com/in/miguel-a-76b072126/ Soy un bue  El Salvador Miguel A. 243 Applaudo Studios https://www.linkedin.com/company/3735640 Pasante\n"
     ]
    },
    {
     "ename": "KeyboardInterrupt",
     "evalue": "",
     "output_type": "error",
     "traceback": [
      "\u001b[1;31m---------------------------------------------------------------------------\u001b[0m",
      "\u001b[1;31mKeyboardInterrupt\u001b[0m                         Traceback (most recent call last)",
      "\u001b[1;32m<ipython-input-13-177525541d34>\u001b[0m in \u001b[0;36m<module>\u001b[1;34m\u001b[0m\n\u001b[0;32m     44\u001b[0m     \u001b[0mprint\u001b[0m\u001b[1;33m(\u001b[0m\u001b[0mi\u001b[0m\u001b[1;33m,\u001b[0m\u001b[0mprofile\u001b[0m\u001b[1;33m,\u001b[0m\u001b[0mlinkedinProfile\u001b[0m\u001b[1;33m,\u001b[0m\u001b[0mdescription\u001b[0m\u001b[1;33m[\u001b[0m\u001b[1;36m0\u001b[0m\u001b[1;33m:\u001b[0m\u001b[1;36m10\u001b[0m\u001b[1;33m]\u001b[0m\u001b[1;33m,\u001b[0m\u001b[0mheadline\u001b[0m\u001b[1;33m[\u001b[0m\u001b[1;36m0\u001b[0m\u001b[1;33m:\u001b[0m\u001b[1;36m10\u001b[0m\u001b[1;33m]\u001b[0m\u001b[1;33m,\u001b[0m\u001b[0mlocation\u001b[0m\u001b[1;33m,\u001b[0m\u001b[0mfullname\u001b[0m\u001b[1;33m,\u001b[0m\u001b[0msubscribers\u001b[0m\u001b[1;33m,\u001b[0m\u001b[0mcompany\u001b[0m\u001b[1;33m,\u001b[0m\u001b[0mcompanyURL\u001b[0m\u001b[1;33m,\u001b[0m\u001b[0mjobTitle\u001b[0m\u001b[1;33m)\u001b[0m\u001b[1;33m\u001b[0m\u001b[1;33m\u001b[0m\u001b[0m\n\u001b[0;32m     45\u001b[0m \u001b[1;33m\u001b[0m\u001b[0m\n\u001b[1;32m---> 46\u001b[1;33m     \u001b[0mtime\u001b[0m\u001b[1;33m.\u001b[0m\u001b[0msleep\u001b[0m\u001b[1;33m(\u001b[0m\u001b[0mrandom\u001b[0m\u001b[1;33m.\u001b[0m\u001b[0mrandrange\u001b[0m\u001b[1;33m(\u001b[0m\u001b[1;36m40\u001b[0m\u001b[1;33m,\u001b[0m \u001b[1;36m60\u001b[0m\u001b[1;33m)\u001b[0m\u001b[1;33m)\u001b[0m\u001b[1;33m\u001b[0m\u001b[1;33m\u001b[0m\u001b[0m\n\u001b[0m\u001b[0;32m     47\u001b[0m \u001b[1;33m\u001b[0m\u001b[0m\n",
      "\u001b[1;31mKeyboardInterrupt\u001b[0m: "
     ]
    }
   ],
   "source": [
    "for i, profile in comments_users[\"Profile\"][start:start+100].items():\n",
    "    print(i)\n",
    "    driver.get(profile)\n",
    "    time.sleep(2)\n",
    "    \n",
    "    linkedinProfile = ls.get_linkedinProfile(driver)\n",
    "    if linkedinProfile == \"https://www.linkedin.com/in/unavailable/\":\n",
    "        print(i, \"unavailable\")\n",
    "        user = pd.DataFrame([[profile,profile,'','','','','','','','']], columns=[\"originalURL\",\"linkedinProfile\",\"description\",\"headline\",\"location\",\"fullname\",\"subscribers\",\"company\",\"companyURL\",\"jobTitle\"])\n",
    "        comments_users_extraction = comments_users_extraction.append(user)\n",
    "        comments_users_extraction.to_csv(\"data/comments_users_extraction_2.csv\")\n",
    "        continue\n",
    "            \n",
    "    driver.execute_script(\"window.scrollBy(0, 1000);\")\n",
    "    time.sleep(2)\n",
    "    j = 0\n",
    "    while len(driver.find_elements_by_class_name(\"artdeco-loader__bars\")) > 0:\n",
    "        if j>20:\n",
    "            user = pd.DataFrame([[profile,profile,'','','','','','','','']], columns=[\"originalURL\",\"linkedinProfile\",\"description\",\"headline\",\"location\",\"fullname\",\"subscribers\",\"company\",\"companyURL\",\"jobTitle\"])\n",
    "            comments_users_extraction = comments_users_extraction.append(user)\n",
    "            comments_users_extraction.to_csv(\"data/reactions_users_extraction.csv\")\n",
    "            break\n",
    "\n",
    "        time.sleep(2)\n",
    "        driver.execute_script(\"window.scrollBy(0, 1000);\")\n",
    "        print(i, j, len(driver.find_elements_by_class_name(\"artdeco-loader__bars\")))\n",
    "        j=j+1\n",
    "        \n",
    "    if j > 20:\n",
    "        continue        \n",
    "    \n",
    "    description = ls.get_description(driver)\n",
    "    headline = ls.get_headline(driver)\n",
    "    location = ls.get_location(driver)\n",
    "    fullname = ls.get_fullname(driver)\n",
    "    subscribers = ls.get_subscribers(driver)\n",
    "    company = ls.get_company(driver)\n",
    "    companyURL = ls.get_companyURL(driver)\n",
    "    jobTitle = ls.get_jobTitle(driver)\n",
    "        \n",
    "    user = pd.DataFrame([[profile,linkedinProfile,description,headline,location,fullname,subscribers,company,companyURL,jobTitle]], columns=[\"originalURL\",\"linkedinProfile\",\"description\",\"headline\",\"location\",\"fullname\",\"subscribers\",\"company\",\"companyURL\",\"jobTitle\"])\n",
    "    comments_users_extraction = comments_users_extraction.append(user)\n",
    "    comments_users_extraction.to_csv(\"data/reactions_users_extraction.csv\")\n",
    "    print(i,profile,linkedinProfile,description[0:10],headline[0:10],location,fullname,subscribers,company,companyURL,jobTitle)\n",
    "\n",
    "    time.sleep(random.randrange(40, 60))\n",
    "    "
   ]
  },
  {
   "cell_type": "code",
   "execution_count": null,
   "id": "6465862f",
   "metadata": {},
   "outputs": [],
   "source": [
    "pyperclip.copy(driver.page_source)"
   ]
  },
  {
   "cell_type": "code",
   "execution_count": null,
   "id": "63c2e938",
   "metadata": {},
   "outputs": [],
   "source": [
    "driver.close()"
   ]
  }
 ],
 "metadata": {
  "kernelspec": {
   "display_name": "Python 3",
   "language": "python",
   "name": "python3"
  },
  "language_info": {
   "codemirror_mode": {
    "name": "ipython",
    "version": 3
   },
   "file_extension": ".py",
   "mimetype": "text/x-python",
   "name": "python",
   "nbconvert_exporter": "python",
   "pygments_lexer": "ipython3",
   "version": "3.8.10"
  }
 },
 "nbformat": 4,
 "nbformat_minor": 5
}
