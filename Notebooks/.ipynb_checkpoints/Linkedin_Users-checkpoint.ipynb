{
 "cells": [
  {
   "cell_type": "code",
   "execution_count": 1,
   "id": "6b54e9c4",
   "metadata": {},
   "outputs": [],
   "source": [
    "# import web driver\n",
    "from selenium import webdriver\n",
    "from selenium.webdriver.common.keys import Keys\n",
    "from Login_info import user as user1, password as pass1\n",
    "import time, math\n",
    "import pandas as pd\n",
    "import pyperclip\n",
    "import linkedin_scraping as ls"
   ]
  },
  {
   "cell_type": "code",
   "execution_count": 3,
   "id": "41c443dc",
   "metadata": {},
   "outputs": [],
   "source": [
    "options = webdriver.FirefoxOptions()\n",
    "options.add_argument(\"--headless\")\n",
    "#options.add_argument(\"--start-maximized\")\n",
    "#options.add_argument(\"--no-sandbox\")\n",
    "#options.add_argument(\"--auto-open-devtools-for-tabs\")\n",
    "#options.add_argument('--disable-gpu')\n",
    "#options.add_argument(f'user-agent={UserAgent().random}')\n",
    "\n",
    "driver = webdriver.Firefox('geckodriver',options=options)"
   ]
  },
  {
   "cell_type": "code",
   "execution_count": 4,
   "id": "080be142",
   "metadata": {},
   "outputs": [],
   "source": [
    "time.sleep(3)\n",
    "driver.get(\"https://www.linkedin.com\")\n",
    "\n",
    "time.sleep(1)"
   ]
  },
  {
   "cell_type": "code",
   "execution_count": 5,
   "id": "d1d75284",
   "metadata": {},
   "outputs": [],
   "source": [
    "ls.Login(driver,user1,pass1)"
   ]
  },
  {
   "cell_type": "code",
   "execution_count": 6,
   "id": "5eff5db8",
   "metadata": {},
   "outputs": [],
   "source": [
    "################### VERIFICATION CODE #########################"
   ]
  },
  {
   "cell_type": "code",
   "execution_count": 7,
   "id": "a7c46e20",
   "metadata": {},
   "outputs": [],
   "source": [
    "driver.find_element_by_class_name(\"form__input--text.input_verification_pin\").send_keys(\"730374\")\n",
    "driver.find_element_by_class_name(\"form__submit.form__submit--stretch\").click()"
   ]
  },
  {
   "cell_type": "code",
   "execution_count": 9,
   "id": "8be9c7d3",
   "metadata": {},
   "outputs": [],
   "source": [
    "# lower messages panel\n",
    "driver.find_elements_by_class_name(\"msg-overlay-bubble-header__control.msg-overlay-bubble-header__control--new-convo-btn.artdeco-button.artdeco-button--circle.artdeco-button--muted.artdeco-button--1.artdeco-button--tertiary.ember-view\")[1].click()"
   ]
  },
  {
   "cell_type": "code",
   "execution_count": 10,
   "id": "f31b155d",
   "metadata": {},
   "outputs": [
    {
     "data": {
      "text/html": [
       "<div>\n",
       "<style scoped>\n",
       "    .dataframe tbody tr th:only-of-type {\n",
       "        vertical-align: middle;\n",
       "    }\n",
       "\n",
       "    .dataframe tbody tr th {\n",
       "        vertical-align: top;\n",
       "    }\n",
       "\n",
       "    .dataframe thead th {\n",
       "        text-align: right;\n",
       "    }\n",
       "</style>\n",
       "<table border=\"1\" class=\"dataframe\">\n",
       "  <thead>\n",
       "    <tr style=\"text-align: right;\">\n",
       "      <th></th>\n",
       "      <th>Profile</th>\n",
       "    </tr>\n",
       "  </thead>\n",
       "  <tbody>\n",
       "    <tr>\n",
       "      <th>0</th>\n",
       "      <td>https://www.linkedin.com/in/nelson-garay/</td>\n",
       "    </tr>\n",
       "    <tr>\n",
       "      <th>1</th>\n",
       "      <td>https://www.linkedin.com/in/edwileyphd/</td>\n",
       "    </tr>\n",
       "    <tr>\n",
       "      <th>2</th>\n",
       "      <td>https://www.linkedin.com/in/luis-g-rodr%C3%ADg...</td>\n",
       "    </tr>\n",
       "    <tr>\n",
       "      <th>3</th>\n",
       "      <td>https://www.linkedin.com/in/jose-giammattei-76...</td>\n",
       "    </tr>\n",
       "    <tr>\n",
       "      <th>4</th>\n",
       "      <td>https://www.linkedin.com/in/daegling/</td>\n",
       "    </tr>\n",
       "  </tbody>\n",
       "</table>\n",
       "</div>"
      ],
      "text/plain": [
       "                                             Profile\n",
       "0          https://www.linkedin.com/in/nelson-garay/\n",
       "1            https://www.linkedin.com/in/edwileyphd/\n",
       "2  https://www.linkedin.com/in/luis-g-rodr%C3%ADg...\n",
       "3  https://www.linkedin.com/in/jose-giammattei-76...\n",
       "4              https://www.linkedin.com/in/daegling/"
      ]
     },
     "execution_count": 10,
     "metadata": {},
     "output_type": "execute_result"
    }
   ],
   "source": [
    "comments_users = pd.read_csv(\"data/Comments_Users_Full.csv\")\n",
    "comments_users.head()"
   ]
  },
  {
   "cell_type": "code",
   "execution_count": 29,
   "id": "70151006",
   "metadata": {},
   "outputs": [
    {
     "data": {
      "text/plain": [
       "321"
      ]
     },
     "execution_count": 29,
     "metadata": {},
     "output_type": "execute_result"
    }
   ],
   "source": [
    "#comments_users_extraction = pd.DataFrame(columns=[\"linkedinProfile\",\"description\",\"headline\",\"location\",\"fullname\",\"subscribers\",\"company\",\"companyURL\",\"jobTitle\"])\n",
    "comments_users_extraction = pd.read_csv(\"data/comments_users_extraction_2.csv\")[['linkedinProfile','description','headline','location','fullname','subscribers','company','companyURL','jobTitle'\n",
    "]]\n",
    "start = max(len(comments_users_extraction)-1,0)\n",
    "start"
   ]
  },
  {
   "cell_type": "code",
   "execution_count": 34,
   "id": "c986b0c3",
   "metadata": {},
   "outputs": [
    {
     "data": {
      "text/html": [
       "<div>\n",
       "<style scoped>\n",
       "    .dataframe tbody tr th:only-of-type {\n",
       "        vertical-align: middle;\n",
       "    }\n",
       "\n",
       "    .dataframe tbody tr th {\n",
       "        vertical-align: top;\n",
       "    }\n",
       "\n",
       "    .dataframe thead th {\n",
       "        text-align: right;\n",
       "    }\n",
       "</style>\n",
       "<table border=\"1\" class=\"dataframe\">\n",
       "  <thead>\n",
       "    <tr style=\"text-align: right;\">\n",
       "      <th></th>\n",
       "      <th>linkedinProfile</th>\n",
       "      <th>description</th>\n",
       "      <th>headline</th>\n",
       "      <th>location</th>\n",
       "      <th>fullname</th>\n",
       "      <th>subscribers</th>\n",
       "      <th>company</th>\n",
       "      <th>companyURL</th>\n",
       "      <th>jobTitle</th>\n",
       "    </tr>\n",
       "  </thead>\n",
       "  <tbody>\n",
       "    <tr>\n",
       "      <th>2</th>\n",
       "      <td>https://www.linkedin.com/in/luis-g-rodr%C3%ADg...</td>\n",
       "      <td>Administrador de empresas con amplia experienc...</td>\n",
       "      <td>|Cultura Organizacional | Desarrollo Organizac...</td>\n",
       "      <td>San Salvador, El Salvador</td>\n",
       "      <td>Luis G Rodríguez</td>\n",
       "      <td>517</td>\n",
       "      <td>Jon Landeta: The Business of Happiness</td>\n",
       "      <td>https://www.linkedin.com/company/jonlandeta/</td>\n",
       "      <td>Company Name\\nJon Landeta: The Business of Hap...</td>\n",
       "    </tr>\n",
       "    <tr>\n",
       "      <th>7</th>\n",
       "      <td>https://www.linkedin.com/in/marlon-fernandez/</td>\n",
       "      <td>Programmer Analyst / Web Developer / Backend D...</td>\n",
       "      <td>QA Analyst at Applaudo Studios</td>\n",
       "      <td>El Salvador</td>\n",
       "      <td>Marlon Fernandez</td>\n",
       "      <td>73</td>\n",
       "      <td>Applaudo Studios</td>\n",
       "      <td>https://www.linkedin.com/company/applaudo-stud...</td>\n",
       "      <td>Company Name\\nApplaudo Studios</td>\n",
       "    </tr>\n",
       "    <tr>\n",
       "      <th>8</th>\n",
       "      <td>https://www.linkedin.com/in/jhonathan-hern%C3%...</td>\n",
       "      <td>IT Professional, Information Technology Engine...</td>\n",
       "      <td>Quality Assurance &amp; Compliance Manager en Appl...</td>\n",
       "      <td>El Salvador</td>\n",
       "      <td>Jhonathan Alexis Hernández</td>\n",
       "      <td>569</td>\n",
       "      <td>Applaudo Studios</td>\n",
       "      <td>https://www.linkedin.com/company/applaudo-stud...</td>\n",
       "      <td>Company Name\\nApplaudo Studios</td>\n",
       "    </tr>\n",
       "    <tr>\n",
       "      <th>9</th>\n",
       "      <td>https://www.linkedin.com/in/wilhelmotzoy/</td>\n",
       "      <td>Technical support analyst, oriented to AWS clo...</td>\n",
       "      <td>Cloud Operations | AWS | Azure | Linux | IPTV ...</td>\n",
       "      <td>Guatemala</td>\n",
       "      <td>Wilhelm Otzoy</td>\n",
       "      <td>225</td>\n",
       "      <td>AutoWeb, Inc.</td>\n",
       "      <td>https://www.linkedin.com/company/autoweb-com/</td>\n",
       "      <td>Company Name\\nAutoWeb, Inc.</td>\n",
       "    </tr>\n",
       "    <tr>\n",
       "      <th>16</th>\n",
       "      <td>https://www.linkedin.com/in/matthewjjudge/</td>\n",
       "      <td>Proven leader with extensive experience within...</td>\n",
       "      <td>Success Program Manager - Customer Experience ...</td>\n",
       "      <td>Miami, Florida, United States</td>\n",
       "      <td>Matthew Judge</td>\n",
       "      <td>719</td>\n",
       "      <td>Cisco</td>\n",
       "      <td>https://www.linkedin.com/company/cisco/</td>\n",
       "      <td>Company Name\\nCisco</td>\n",
       "    </tr>\n",
       "  </tbody>\n",
       "</table>\n",
       "</div>"
      ],
      "text/plain": [
       "                                      linkedinProfile  \\\n",
       "2   https://www.linkedin.com/in/luis-g-rodr%C3%ADg...   \n",
       "7       https://www.linkedin.com/in/marlon-fernandez/   \n",
       "8   https://www.linkedin.com/in/jhonathan-hern%C3%...   \n",
       "9           https://www.linkedin.com/in/wilhelmotzoy/   \n",
       "16         https://www.linkedin.com/in/matthewjjudge/   \n",
       "\n",
       "                                          description  \\\n",
       "2   Administrador de empresas con amplia experienc...   \n",
       "7   Programmer Analyst / Web Developer / Backend D...   \n",
       "8   IT Professional, Information Technology Engine...   \n",
       "9   Technical support analyst, oriented to AWS clo...   \n",
       "16  Proven leader with extensive experience within...   \n",
       "\n",
       "                                             headline  \\\n",
       "2   |Cultura Organizacional | Desarrollo Organizac...   \n",
       "7                      QA Analyst at Applaudo Studios   \n",
       "8   Quality Assurance & Compliance Manager en Appl...   \n",
       "9   Cloud Operations | AWS | Azure | Linux | IPTV ...   \n",
       "16  Success Program Manager - Customer Experience ...   \n",
       "\n",
       "                         location                    fullname subscribers  \\\n",
       "2       San Salvador, El Salvador            Luis G Rodríguez         517   \n",
       "7                     El Salvador            Marlon Fernandez          73   \n",
       "8                     El Salvador  Jhonathan Alexis Hernández         569   \n",
       "9                       Guatemala               Wilhelm Otzoy         225   \n",
       "16  Miami, Florida, United States               Matthew Judge         719   \n",
       "\n",
       "                                   company  \\\n",
       "2   Jon Landeta: The Business of Happiness   \n",
       "7                         Applaudo Studios   \n",
       "8                         Applaudo Studios   \n",
       "9                            AutoWeb, Inc.   \n",
       "16                                   Cisco   \n",
       "\n",
       "                                           companyURL  \\\n",
       "2        https://www.linkedin.com/company/jonlandeta/   \n",
       "7   https://www.linkedin.com/company/applaudo-stud...   \n",
       "8   https://www.linkedin.com/company/applaudo-stud...   \n",
       "9       https://www.linkedin.com/company/autoweb-com/   \n",
       "16            https://www.linkedin.com/company/cisco/   \n",
       "\n",
       "                                             jobTitle  \n",
       "2   Company Name\\nJon Landeta: The Business of Hap...  \n",
       "7                      Company Name\\nApplaudo Studios  \n",
       "8                      Company Name\\nApplaudo Studios  \n",
       "9                         Company Name\\nAutoWeb, Inc.  \n",
       "16                                Company Name\\nCisco  "
      ]
     },
     "execution_count": 34,
     "metadata": {},
     "output_type": "execute_result"
    }
   ],
   "source": [
    "company_name = comments_users_extraction[comments_users_extraction['jobTitle'].str[0:12]==\"Company Name\"]\n",
    "company_name.head()"
   ]
  },
  {
   "cell_type": "code",
   "execution_count": 19,
   "id": "8a00c6ae",
   "metadata": {},
   "outputs": [
    {
     "name": "stdout",
     "output_type": "stream",
     "text": [
      "318\n",
      "318 12\n",
      "318 0\n",
      "318 https://www.linkedin.com/in/anthony-morales-sv/ Egresado d Analista P El Salvador Frank Anthony Molina Morales 119 Banco Atlántida El Salvador https://www.linkedin.com/company/bancatlan-sv/ Analista Programador\n",
      "319\n",
      "319 36\n",
      "319 0\n",
      "319 https://www.linkedin.com/in/karen-ca%C3%B1enguez-51108b197/ Soy una pe Analista J San Salvador, El Salvador Karen Cañenguez 78 Banco Agrícola El Salvador https://www.linkedin.com/company/bancoagricola/ Analista Java-Broker\n",
      "320\n",
      "320 https://www.linkedin.com/in/carlos-recinos-php/  Senior PHP El Salvador Carlos Recinos 97 Focus Services https://www.linkedin.com/company/focus-services/ Senior PHP Developer at 2600hz\n"
     ]
    }
   ],
   "source": [
    "for i, profile in comments_users[\"Profile\"][start:].items():\n",
    "    print(i)\n",
    "    driver.get(profile)\n",
    "    time.sleep(2)\n",
    "    linkedinProfile = ls.get_linkedinProfile(driver)\n",
    "    if linkedinProfile == \"https://www.linkedin.com/in/unavailable/\":\n",
    "        print(i, \"unavailable\")\n",
    "        user = pd.DataFrame([[profile,'','','','','','','','']], columns=[\"linkedinProfile\",\"description\",\"headline\",\"location\",\"fullname\",\"subscribers\",\"company\",\"companyURL\",\"jobTitle\"])\n",
    "        comments_users_extraction = comments_users_extraction.append(user)\n",
    "        comments_users_extraction.to_csv(\"data/comments_users_extraction_2.csv\")\n",
    "        continue\n",
    "            \n",
    "    driver.execute_script(\"window.scrollBy(0, 1000);\")\n",
    "    time.sleep(2)\n",
    "    j = 0\n",
    "    while len(driver.find_elements_by_class_name(\"artdeco-loader__bars\")) > 0:\n",
    "        if j>20:\n",
    "            driver.get(profile)\n",
    "            \n",
    "        time.sleep(2)\n",
    "        driver.execute_script(\"window.scrollBy(0, 1000);\")\n",
    "        print(i, len(driver.find_elements_by_class_name(\"artdeco-loader__bars\")))\n",
    "        \n",
    "    \n",
    "    description = ls.get_description(driver)\n",
    "    headline = ls.get_headline(driver)\n",
    "    location = ls.get_location(driver)\n",
    "    fullname = ls.get_fullname(driver)\n",
    "    subscribers = ls.get_subscribers(driver)\n",
    "    company = ls.get_company(driver)\n",
    "    companyURL = ls.get_companyURL(driver)\n",
    "    jobTitle = ls.get_jobTitle(driver)\n",
    "        \n",
    "    user = pd.DataFrame([[linkedinProfile,description,headline,location,fullname,subscribers,company,companyURL,jobTitle]], columns=[\"linkedinProfile\",\"description\",\"headline\",\"location\",\"fullname\",\"subscribers\",\"company\",\"companyURL\",\"jobTitle\"])\n",
    "    comments_users_extraction = comments_users_extraction.append(user)\n",
    "    comments_users_extraction.to_csv(\"data/comments_users_extraction_2.csv\")\n",
    "    print(i,linkedinProfile,description[0:10],headline[0:10],location,fullname,subscribers,company,companyURL,jobTitle)\n",
    "\n",
    "    time.sleep(1)\n",
    "    "
   ]
  },
  {
   "cell_type": "code",
   "execution_count": null,
   "id": "61d5bb64",
   "metadata": {},
   "outputs": [],
   "source": [
    "for i, profile in company_name[\"linkedinPProfile\"][start:].items():\n",
    "    print(i)\n",
    "    driver.get(profile)\n",
    "    time.sleep(2)\n",
    "    linkedinProfile = ls.get_linkedinProfile(driver)\n",
    "    if linkedinProfile == \"https://www.linkedin.com/in/unavailable/\":\n",
    "        print(i, \"unavailable\")\n",
    "        user = pd.DataFrame([[profile,'','','','','','','','']], columns=[\"linkedinProfile\",\"description\",\"headline\",\"location\",\"fullname\",\"subscribers\",\"company\",\"companyURL\",\"jobTitle\"])\n",
    "        comments_users_extraction = comments_users_extraction.append(user)\n",
    "        comments_users_extraction.to_csv(\"data/comments_users_extraction_2.csv\")\n",
    "        continue\n",
    "            \n",
    "    driver.execute_script(\"window.scrollBy(0, 1000);\")\n",
    "    time.sleep(2)\n",
    "    j = 0\n",
    "    while len(driver.find_elements_by_class_name(\"artdeco-loader__bars\")) > 0:\n",
    "        if j>20:\n",
    "            driver.get(profile)\n",
    "            \n",
    "        time.sleep(2)\n",
    "        driver.execute_script(\"window.scrollBy(0, 1000);\")\n",
    "        print(i, len(driver.find_elements_by_class_name(\"artdeco-loader__bars\")))\n",
    "        \n",
    "    \n",
    "    description = ls.get_description(driver)\n",
    "    headline = ls.get_headline(driver)\n",
    "    location = ls.get_location(driver)\n",
    "    fullname = ls.get_fullname(driver)\n",
    "    subscribers = ls.get_subscribers(driver)\n",
    "    company = ls.get_company(driver)\n",
    "    companyURL = ls.get_companyURL(driver)\n",
    "    jobTitle = ls.get_jobTitle(driver)\n",
    "        \n",
    "    user = pd.DataFrame([[linkedinProfile,description,headline,location,fullname,subscribers,company,companyURL,jobTitle]], columns=[\"linkedinProfile\",\"description\",\"headline\",\"location\",\"fullname\",\"subscribers\",\"company\",\"companyURL\",\"jobTitle\"])\n",
    "    comments_users_extraction = comments_users_extraction.append(user)\n",
    "    comments_users_extraction.to_csv(\"data/comments_users_extraction_2.csv\")\n",
    "    print(i,linkedinProfile,description[0:10],headline[0:10],location,fullname,subscribers,company,companyURL,jobTitle)\n",
    "\n",
    "    time.sleep(1)\n",
    "    "
   ]
  },
  {
   "cell_type": "code",
   "execution_count": null,
   "id": "6465862f",
   "metadata": {},
   "outputs": [],
   "source": [
    "pyperclip.copy(driver.page_source)"
   ]
  },
  {
   "cell_type": "code",
   "execution_count": 27,
   "id": "53609d9b",
   "metadata": {},
   "outputs": [
    {
     "name": "stdout",
     "output_type": "stream",
     "text": [
      "36\n",
      "36\n",
      "0\n",
      "multiple jobs\n"
     ]
    },
    {
     "data": {
      "text/plain": [
       "'QA Analyst'"
      ]
     },
     "execution_count": 27,
     "metadata": {},
     "output_type": "execute_result"
    }
   ],
   "source": [
    "profile = \"https://www.linkedin.com/in/marlon-fernandez/\"\n",
    "driver.get(profile)\n",
    "\n",
    "while len(driver.find_elements_by_class_name(\"artdeco-loader__bars\")) > 0:\n",
    "        if j>20:\n",
    "            driver.get(profile)\n",
    "            \n",
    "        time.sleep(2)\n",
    "        driver.execute_script(\"window.scrollBy(0, 1000);\")\n",
    "        print(len(driver.find_elements_by_class_name(\"artdeco-loader__bars\")))\n",
    "        \n",
    "        \n",
    "try:\n",
    "    experience = driver.find_element_by_class_name(\"pv-profile-section.experience-section.ember-view\")\n",
    "    card = experience.find_element_by_class_name(\"pv-profile-section__card-item-v2.pv-profile-section.pv-position-entity.ember-view\")\n",
    "    \n",
    "    try:\n",
    "        # multiple job titles, take last\n",
    "        item = card.find_element_by_class_name(\"pv-entity__position-group-role-item\")\n",
    "        job_title = item.find_element_by_class_name(\"t-14.t-black.t-bold\").text.split(\"\\n\")[1]\n",
    "        print(\"multiple jobs\")\n",
    "    \n",
    "    except:\n",
    "        # 1 job title in last company\n",
    "        job_title = experience.find_element_by_class_name(\"t-16.t-black.t-bold\").text\n",
    "        print(\"1 job\")\n",
    "    \n",
    "except:\n",
    "    job_title = ''\n",
    "\n",
    "job_title"
   ]
  }
 ],
 "metadata": {
  "kernelspec": {
   "display_name": "Python 3",
   "language": "python",
   "name": "python3"
  },
  "language_info": {
   "codemirror_mode": {
    "name": "ipython",
    "version": 3
   },
   "file_extension": ".py",
   "mimetype": "text/x-python",
   "name": "python",
   "nbconvert_exporter": "python",
   "pygments_lexer": "ipython3",
   "version": "3.8.8"
  }
 },
 "nbformat": 4,
 "nbformat_minor": 5
}
