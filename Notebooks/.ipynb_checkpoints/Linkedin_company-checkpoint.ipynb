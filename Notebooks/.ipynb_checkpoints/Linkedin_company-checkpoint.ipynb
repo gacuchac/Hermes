{
 "cells": [
  {
   "cell_type": "code",
   "execution_count": 1,
   "metadata": {},
   "outputs": [],
   "source": [
    "# import necessary libraries\n",
    "from selenium import webdriver\n",
    "from selenium.webdriver.common.keys import Keys\n",
    "from Login_info import user as user1, password as pass1\n",
    "import time\n",
    "import pandas as pd\n",
    "import re\n",
    "import linkedin_scraping as ls"
   ]
  },
  {
   "cell_type": "code",
   "execution_count": 2,
   "metadata": {},
   "outputs": [],
   "source": [
    "options = webdriver.ChromeOptions()\n",
    "options.add_argument(\"--start-maximized\")\n",
    "driver = webdriver.Chrome('chromedriver',options=options)"
   ]
  },
  {
   "cell_type": "code",
   "execution_count": 3,
   "metadata": {},
   "outputs": [],
   "source": [
    "# driver.get method() will navigate to a page given by the URL address\n",
    "time.sleep(3)\n",
    "driver.get('https://www.linkedin.com')\n",
    "time.sleep(1)"
   ]
  },
  {
   "cell_type": "code",
   "execution_count": 4,
   "metadata": {},
   "outputs": [],
   "source": [
    "ls.Login(driver,user1,pass1)"
   ]
  },
  {
   "cell_type": "code",
   "execution_count": 39,
   "metadata": {},
   "outputs": [],
   "source": [
    "def get_company_info(wd):\n",
    "    company = pd.DataFrame(\n",
    "        columns=['name', 'summary', 'description', 'followerCount', 'industry', 'companySize',\n",
    "                 'headquarters','type','specialties'])\n",
    "    \n",
    "    # visiting the about page\n",
    "    current_url = wd.current_url\n",
    "    own_company = current_url.find('applaudo-studios')\n",
    "    if own_company != -1 :\n",
    "        about = current_url.replace('mycompany', 'about')\n",
    "    else:\n",
    "        about = current_url + 'about'\n",
    "\n",
    "    wd.get(about)\n",
    "    \n",
    "    top_container = wd.find_element_by_class_name('block.mt2')\n",
    "    name = top_container.find_element_by_xpath('//h1').text\n",
    "    top_cont_info = top_container.find_elements_by_class_name('org-top-card-summary-info-list__info-item')\n",
    "    for info in top_cont_info:\n",
    "        followers_div = info.text.find('follower')\n",
    "        if followers_div != -1:\n",
    "            followers = info.text.split(' ')[0]\n",
    "            break\n",
    "        else:\n",
    "            followers = ''\n",
    "            \n",
    "    \n",
    "    try:\n",
    "        summary = top_container.find_element_by_class_name('org-top-card-summary__tagline.t-16.t-black').text\n",
    "    except:\n",
    "        summary = ''\n",
    "        \n",
    "    overview_elmn = wd.find_element_by_class_name('artdeco-card.p4.mb3')\n",
    "    try:\n",
    "        description_cn = 'break-words.white-space-pre-wrap.mb5.t-14.t-black--light.t-normal'\n",
    "        description = overview_elmn.find_element_by_class_name(description_cn).text\n",
    "    except:\n",
    "        description = ''\n",
    "        \n",
    "    print(name)\n",
    "    print(summary)\n",
    "    print(description)\n",
    "    print(followers)"
   ]
  },
  {
   "cell_type": "code",
   "execution_count": 42,
   "metadata": {},
   "outputs": [
    {
     "name": "stdout",
     "output_type": "stream",
     "text": [
      "Microsoft Education\n",
      "\n",
      "Join us in our mission to empower every student and every educator to achieve more, and let’s transform education together!\n",
      "97,212\n"
     ]
    }
   ],
   "source": [
    "get_company_info(driver)"
   ]
  },
  {
   "cell_type": "code",
   "execution_count": 20,
   "metadata": {},
   "outputs": [
    {
     "data": {
      "text/plain": [
       "'935 followers'"
      ]
     },
     "execution_count": 20,
     "metadata": {},
     "output_type": "execute_result"
    }
   ],
   "source": [
    "driver.find_elements_by_class_name('org-top-card-summary-info-list__info-item')[2].text"
   ]
  },
  {
   "cell_type": "code",
   "execution_count": null,
   "metadata": {},
   "outputs": [],
   "source": [
    "# Extracts information from linkedin account\n",
    "def linkedin_profile(url):\n",
    "    info = {}\n",
    "    if url == '0':\n",
    "        return '', '', '', '', '', '', '', '', '', ''\n",
    "        \n",
    "    try:\n",
    "        about = ''\n",
    "        if url[-1]=='/':\n",
    "            about = url + 'about/'  \n",
    "        else:\n",
    "            about = url + '/about/'\n",
    "        print(about)\n",
    "        \n",
    "        # Visit profile\n",
    "        driver.get(about)\n",
    "        time.sleep(1)\n",
    "        \n",
    "        location = driver.find_elements_by_class_name('org-top-card-summary-info-list__info-item')[1].text\n",
    "        info['Location'] = location\n",
    "        \n",
    "        followers = driver.find_elements_by_class_name('org-top-card-summary-info-list__info-item')[2].text\n",
    "        info['Followers'] = followers\n",
    "        \n",
    "        size = driver.find_elements_by_class_name('org-about-company-module__company-size-definition-text.t-14.t-black--light.mb1.fl')[0].text\n",
    "        info['Size'] = size\n",
    "        \n",
    "        employees = driver.find_elements_by_class_name('org-page-details__employees-on-linkedin-count.t-14.t-black--light.mb5')[0].text\n",
    "        info['Employees'] = employees\n",
    "        \n",
    "        # Extracts information according to its order. \n",
    "        # Position of category might slightly change depending on how complete the profile is.\n",
    "        \n",
    "        key0 = driver.find_elements_by_class_name('org-page-details__definition-term.t-14.t-black.t-bold')[0].text\n",
    "        value0 = driver.find_elements_by_class_name('org-page-details__definition-text.t-14.t-black--light.t-normal')[0].text\n",
    "        info[key0] = value0\n",
    "        \n",
    "        key1 = driver.find_elements_by_class_name('org-page-details__definition-term.t-14.t-black.t-bold')[1].text\n",
    "        value1 = driver.find_elements_by_class_name('org-page-details__definition-text.t-14.t-black--light.t-normal')[1].text\n",
    "        info[key1] = value1\n",
    "        \n",
    "        if key1 == 'Phone':\n",
    "            key2 = driver.find_elements_by_class_name('org-page-details__definition-term.t-14.t-black.t-bold')[2].text\n",
    "            value2 = driver.find_elements_by_class_name('org-page-details__definition-text.t-14.t-black--light.t-normal')[2].text\n",
    "            info[key2] = value2\n",
    "            \n",
    "            key3 = driver.find_elements_by_class_name('org-page-details__definition-term.t-14.t-black.t-bold')[3].text\n",
    "            if key3 == 'Company size':\n",
    "\n",
    "                key3 = driver.find_elements_by_class_name('org-page-details__definition-term.t-14.t-black.t-bold')[4].text\n",
    "                value3 = driver.find_elements_by_class_name('org-page-details__definition-text.t-14.t-black--light.t-normal')[3].text\n",
    "                info[key3] = value3\n",
    "\n",
    "                key4 = driver.find_elements_by_class_name('org-page-details__definition-term.t-14.t-black.t-bold')[5].text\n",
    "                value4 = driver.find_elements_by_class_name('org-page-details__definition-text.t-14.t-black--light.t-normal')[4].text\n",
    "                info[key4] = value4    \n",
    "\n",
    "                key5 = driver.find_elements_by_class_name('org-page-details__definition-term.t-14.t-black.t-bold')[6].text\n",
    "                value5 = driver.find_elements_by_class_name('org-page-details__definition-text.t-14.t-black--light.t-normal')[5].text\n",
    "                info[key5] = value5\n",
    "\n",
    "                key6 = driver.find_elements_by_class_name('org-page-details__definition-term.t-14.t-black.t-bold')[7].text\n",
    "                value6 = driver.find_elements_by_class_name('org-page-details__definition-text.t-14.t-black--light.t-normal')[6].text\n",
    "                info[key6] = value6\n",
    "        else:\n",
    "            key2 = driver.find_elements_by_class_name('org-page-details__definition-term.t-14.t-black.t-bold')[2].text\n",
    "            if key2 == 'Company size':\n",
    " \n",
    "                key3 = driver.find_elements_by_class_name('org-page-details__definition-term.t-14.t-black.t-bold')[3].text\n",
    "                value3 = driver.find_elements_by_class_name('org-page-details__definition-text.t-14.t-black--light.t-normal')[2].text\n",
    "                info[key3] = value3\n",
    "\n",
    "                key4 = driver.find_elements_by_class_name('org-page-details__definition-term.t-14.t-black.t-bold')[4].text\n",
    "                value4 = driver.find_elements_by_class_name('org-page-details__definition-text.t-14.t-black--light.t-normal')[3].text\n",
    "                info[key4] = value4    \n",
    "\n",
    "                key5 = driver.find_elements_by_class_name('org-page-details__definition-term.t-14.t-black.t-bold')[5].text\n",
    "                value5 = driver.find_elements_by_class_name('org-page-details__definition-text.t-14.t-black--light.t-normal')[4].text\n",
    "                info[key5] = value5\n",
    "\n",
    "                key6 = driver.find_elements_by_class_name('org-page-details__definition-term.t-14.t-black.t-bold')[6].text\n",
    "                value6 = driver.find_elements_by_class_name('org-page-details__definition-text.t-14.t-black--light.t-normal')[5].text\n",
    "                info[key6] = value6\n",
    "            \n",
    "        # To avoid Linkedin blocking us\n",
    "        time.sleep(2)\n",
    "        \n",
    "        return info\n",
    "    except:\n",
    "        return info"
   ]
  },
  {
   "cell_type": "code",
   "execution_count": null,
   "metadata": {},
   "outputs": [],
   "source": [
    "# Loading accounts\n",
    "\n",
    "# To load linkedin accounts from the techcrunch articles:\n",
    "#linkedin_info = pd.read_csv('deals_social.csv')\n",
    "#linkedin_info = linkedin_info[(linkedin_info['Linkedin']!='0') &( linkedin_info['Size']=='0')]\n",
    "#linkedin_info['Linkedin'].fillna('0',inplace=True)\n",
    "\n",
    "# To resume information extraction in case it wasextracted only partially\n",
    "#linkedin_info = pd.read_csv('techcrunch_linkedin_info.csv')\n",
    "\n",
    "#linkedin_info"
   ]
  },
  {
   "cell_type": "code",
   "execution_count": null,
   "metadata": {},
   "outputs": [],
   "source": [
    "# If loading information from deals_social, these columns should be added\n",
    "linkedin_info['Phone'] = ''\n",
    "linkedin_info['Industry'] = ''\n",
    "linkedin_info['Size'] = ''\n",
    "linkedin_info['Employees'] = ''\n",
    "linkedin_info['Specialties'] = ''\n",
    "linkedin_info['Location'] = ''\n",
    "linkedin_info['Followers'] = ''\n",
    "linkedin_info['Founded'] = ''\n",
    "linkedin_info"
   ]
  },
  {
   "cell_type": "code",
   "execution_count": null,
   "metadata": {
    "scrolled": true
   },
   "outputs": [],
   "source": [
    "# Extracting information and saving it in techcrunch_linkedin_info.csv\n",
    "\n",
    "for i, dom in linkedin_info['Linkedin'].items():\n",
    "    if dom == '0':\n",
    "        continue\n",
    "    print(i)\n",
    "    \n",
    "    # If resuming extraction, start from specific row\n",
    "    #if i < 516:\n",
    "    #    continue\n",
    "    info = linkedin_profile(dom)\n",
    "    print(info)\n",
    "    #linkedin_info.loc[i,'Phone'] = info.get('Phone',0)\n",
    "    linkedin_info.loc[i,'Industry'] = info.get('Industry',0)\n",
    "    linkedin_info.loc[i,'Size']  = info.get('Size',0)\n",
    "    linkedin_info.loc[i,'Employees'] = info.get('Employees',0)\n",
    "    linkedin_info.loc[i,'Founded'] = info.get('Founded',0)\n",
    "    linkedin_info.loc[i,'Specialties'] = info.get('Specialties',0)\n",
    "    linkedin_info.loc[i,'Location'] = info.get('Location',0)\n",
    "    linkedin_info.loc[i,'Followers'] = info.get('Followers',0)\n",
    "    linkedin_info.to_csv('techcrunch_linkedin_info.csv')"
   ]
  },
  {
   "cell_type": "code",
   "execution_count": null,
   "metadata": {},
   "outputs": [],
   "source": [
    "# To close the driver once the extraction is finished\n",
    "driver.quit()"
   ]
  }
 ],
 "metadata": {
  "kernelspec": {
   "display_name": "Python 3",
   "language": "python",
   "name": "python3"
  },
  "language_info": {
   "codemirror_mode": {
    "name": "ipython",
    "version": 3
   },
   "file_extension": ".py",
   "mimetype": "text/x-python",
   "name": "python",
   "nbconvert_exporter": "python",
   "pygments_lexer": "ipython3",
   "version": "3.8.10"
  }
 },
 "nbformat": 4,
 "nbformat_minor": 4
}
