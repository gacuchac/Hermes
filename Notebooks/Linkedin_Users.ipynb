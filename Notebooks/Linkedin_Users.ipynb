{
 "cells": [
  {
   "cell_type": "code",
   "execution_count": 1,
   "id": "6b54e9c4",
   "metadata": {},
   "outputs": [],
   "source": [
    "# import web driver\n",
    "from selenium import webdriver\n",
    "from selenium.webdriver.common.keys import Keys\n",
    "from Login_info import user as user1, password as pass1\n",
    "import time, math, random\n",
    "import pandas as pd\n",
    "import pyperclip\n",
    "import linkedin_scraping as ls"
   ]
  },
  {
   "cell_type": "code",
   "execution_count": 2,
   "id": "41c443dc",
   "metadata": {},
   "outputs": [],
   "source": [
    "options = webdriver.FirefoxOptions()\n",
    "options.add_argument(\"--headless\")\n",
    "#options.add_argument(\"--start-maximized\")\n",
    "#options.add_argument(\"--no-sandbox\")\n",
    "#options.add_argument(\"--auto-open-devtools-for-tabs\")\n",
    "#options.add_argument('--disable-gpu')\n",
    "#options.add_argument(f'user-agent={UserAgent().random}')\n",
    "\n",
    "driver = webdriver.Firefox(executable_path='geckodriver.exe',options=options)"
   ]
  },
  {
   "cell_type": "code",
   "execution_count": 3,
   "id": "080be142",
   "metadata": {},
   "outputs": [],
   "source": [
    "time.sleep(3)\n",
    "driver.get(\"https://www.linkedin.com\")\n",
    "\n",
    "time.sleep(1)"
   ]
  },
  {
   "cell_type": "code",
   "execution_count": 4,
   "id": "d1d75284",
   "metadata": {},
   "outputs": [],
   "source": [
    "ls.Login(driver,user1,pass1)"
   ]
  },
  {
   "cell_type": "code",
   "execution_count": 5,
   "id": "5eff5db8",
   "metadata": {},
   "outputs": [],
   "source": [
    "################### VERIFICATION CODE #########################"
   ]
  },
  {
   "cell_type": "code",
   "execution_count": 6,
   "id": "a7c46e20",
   "metadata": {},
   "outputs": [],
   "source": [
    "driver.find_element_by_class_name(\"form__input--text.input_verification_pin\").send_keys(\"848501\")\n",
    "driver.find_element_by_class_name(\"form__submit.form__submit--stretch\").click()"
   ]
  },
  {
   "cell_type": "code",
   "execution_count": 7,
   "id": "8be9c7d3",
   "metadata": {},
   "outputs": [],
   "source": [
    "# lower messages panel\n",
    "\n",
    "driver.find_elements_by_class_name(\"msg-overlay-bubble-header__control.msg-overlay-bubble-header__control--new-convo-btn.artdeco-button.artdeco-button--circle.artdeco-button--muted.artdeco-button--1.artdeco-button--tertiary.ember-view\")[1].click()"
   ]
  },
  {
   "cell_type": "code",
   "execution_count": 8,
   "id": "f31b155d",
   "metadata": {},
   "outputs": [
    {
     "data": {
      "text/html": [
       "<div>\n",
       "<style scoped>\n",
       "    .dataframe tbody tr th:only-of-type {\n",
       "        vertical-align: middle;\n",
       "    }\n",
       "\n",
       "    .dataframe tbody tr th {\n",
       "        vertical-align: top;\n",
       "    }\n",
       "\n",
       "    .dataframe thead th {\n",
       "        text-align: right;\n",
       "    }\n",
       "</style>\n",
       "<table border=\"1\" class=\"dataframe\">\n",
       "  <thead>\n",
       "    <tr style=\"text-align: right;\">\n",
       "      <th></th>\n",
       "      <th>Profile</th>\n",
       "    </tr>\n",
       "  </thead>\n",
       "  <tbody>\n",
       "    <tr>\n",
       "      <th>0</th>\n",
       "      <td>https://www.linkedin.com/in/rodolfo-santos-540...</td>\n",
       "    </tr>\n",
       "    <tr>\n",
       "      <th>1</th>\n",
       "      <td>https://www.linkedin.com/in/carlos-h-portillo</td>\n",
       "    </tr>\n",
       "    <tr>\n",
       "      <th>2</th>\n",
       "      <td>https://www.linkedin.com/in/willaleman</td>\n",
       "    </tr>\n",
       "    <tr>\n",
       "      <th>3</th>\n",
       "      <td>https://www.linkedin.com/in/stephanie-orellana...</td>\n",
       "    </tr>\n",
       "    <tr>\n",
       "      <th>4</th>\n",
       "      <td>https://www.linkedin.com/in/christian-edgardo-...</td>\n",
       "    </tr>\n",
       "  </tbody>\n",
       "</table>\n",
       "</div>"
      ],
      "text/plain": [
       "                                             Profile\n",
       "0  https://www.linkedin.com/in/rodolfo-santos-540...\n",
       "1      https://www.linkedin.com/in/carlos-h-portillo\n",
       "2             https://www.linkedin.com/in/willaleman\n",
       "3  https://www.linkedin.com/in/stephanie-orellana...\n",
       "4  https://www.linkedin.com/in/christian-edgardo-..."
      ]
     },
     "execution_count": 8,
     "metadata": {},
     "output_type": "execute_result"
    }
   ],
   "source": [
    "users_file = \"data/Reactions - Users - Vanessa.csv\"\n",
    "comments_users = pd.read_csv(users_file)\n",
    "comments_users.head()"
   ]
  },
  {
   "cell_type": "code",
   "execution_count": 9,
   "id": "70151006",
   "metadata": {
    "scrolled": true
   },
   "outputs": [
    {
     "data": {
      "text/plain": [
       "2202"
      ]
     },
     "execution_count": 9,
     "metadata": {},
     "output_type": "execute_result"
    }
   ],
   "source": [
    "# continue extraction: \n",
    "\n",
    "# comments_users_extraction = pd.DataFrame(columns=[\"originalURL\",\"linkedinProfile\",\"description\",\"headline\",\"location\",\"fullname\",\"subscribers\",\"company\",\"companyURL\",\"jobTitle\"])\n",
    "comments_users_extraction = pd.read_csv(\"data/reactions_users_extraction.csv\")[['originalURL','linkedinProfile','description','headline','location','fullname','subscribers','company','companyURL','jobTitle'\n",
    "]]\n",
    "start = max(len(comments_users_extraction)-1,0)\n",
    "# start = 0\n",
    "start"
   ]
  },
  {
   "cell_type": "code",
   "execution_count": null,
   "id": "8a00c6ae",
   "metadata": {
    "scrolled": true
   },
   "outputs": [
    {
     "name": "stdout",
     "output_type": "stream",
     "text": [
      "2202\n",
      "2202 0 36\n",
      "2202 1 24\n",
      "2202 2 0\n",
      "1 job\n",
      "2202 https://www.linkedin.com/in/ACoAABPGRgcBsttLMH5-1-ZYX-1DToK2xPrEE80 https://www.linkedin.com/in/claubeamaya/ Hola soy C Multimedia San Salvador, El Salvador Claudia Amaya 4,698 PriceSmart https://www.linkedin.com/company/pricesmart/ Multimedia Coordinator\n",
      "2203\n",
      "1 job\n",
      "2203 https://www.linkedin.com/in/ACoAAC4cmjgBCPpJ2QbDXtWqa299JZNKS9BrHfU https://www.linkedin.com/in/abigail-villemont/  Apprentie  Greater Tours Area Abigail V. 258 STMicroelectronics https://www.linkedin.com/company/stmicroelectronics/ Apprentie Business Support\n",
      "2204\n",
      "2204 0 24\n",
      "2204 1 0\n",
      "1 job\n",
      "2204 https://www.linkedin.com/in/ACoAAB0JX9MBwjA5YCg7Zfc3tR2VJPow4Qnf_Kg https://www.linkedin.com/in/justine-lenel-72b191117/  ... Lyon, Auvergne-Rhône-Alpes, France Justine Lenel 302 SUP'DE COM - Campus de Lyon https://www.linkedin.com/company/sup-de-com-campus-de-lyon/ Assistante pédagogique\n",
      "2205\n",
      "2205 0 24\n",
      "2205 1 0\n",
      "1 job\n",
      "2205 https://www.linkedin.com/in/ACoAACs1DkMBJ7T0tNJTOfT-mfwoAI9kP7VLl94 https://www.linkedin.com/in/lola-bedu-943924182/  Étudiante  France Lola Bedu 174 Powergym France https://www.linkedin.com/company/societe-generale/ Assistante E-Commerce\n",
      "2206\n",
      "2206 0 12\n",
      "2206 1 12\n",
      "2206 2 0\n",
      "1 job\n",
      "2206 https://www.linkedin.com/in/ACoAAClqeJUBAI3JF3kHGC8KeGS9nfzjeRaXhmc https://www.linkedin.com/in/marialuisa-cornejo/ Ça c'est m Chargée de Lyon, Auvergne-Rhône-Alpes, France Marialuisa Cornejo 238 SBT Human(s) Matter https://www.linkedin.com/company/sbt-human-s-matter/ Chargée de communication\n",
      "2207\n",
      "2207 0 36\n",
      "2207 1 36\n",
      "2207 2 0\n",
      "1 job\n",
      "2207 https://www.linkedin.com/in/ACoAACqGzVABg-pocxL6YiLafugzzkOFAdlNeFk https://www.linkedin.com/in/michellemurramohor/  Sales Repr Lyon, Auvergne-Rhône-Alpes, France Gabriela Michelle MURRA 310 Capgemini Engineering https://www.linkedin.com/company/capgemini-engineering/ Sales Representative\n",
      "2208\n",
      "2208 0 12\n",
      "2208 1 12\n",
      "2208 2 12\n",
      "2208 3 12\n",
      "2208 4 12\n",
      "2208 5 0\n",
      "1 job\n",
      "2208 https://www.linkedin.com/in/ACoAADFPyK8Bxvb6tNdanpYWmNmMw75Y3KZL7Sk https://www.linkedin.com/in/adrianamherrera/ 📚 Hi! I am Psychology Kamloops, British Columbia, Canada Adriana Herrera 314 JYSK Canada https://www.linkedin.com/company/jyskcanada/ Sales Colleague\n",
      "2209\n",
      "2209 0 12\n",
      "2209 1 12\n",
      "2209 2 0\n",
      "1 job\n",
      "2209 https://www.linkedin.com/in/ACoAACgfA4UBwv4Xg5PpU-A5kbYarw0BYgr9S84 https://www.linkedin.com/in/elsa-curtil/ coucou Créatrice  Greater Lyon Area Elsa Curtil 3,646 Com'en Boutique https://www.linkedin.com/company/com-en-boutique/ Créatrice de contenu différenciant\n",
      "2210\n",
      "2210 0 12\n",
      "2210 1 0\n",
      "1 job\n",
      "2210 https://www.linkedin.com/in/ACoAACtomC8BKIxfHbUT5ssJpcQkKRrtiP8ZrMw https://www.linkedin.com/in/adriana-castro-527a93183/ Titulaire  Fashion Bu France Adriana Castro 143 ESMOD Fashion Business https://www.linkedin.com/company/esmod-fashion-business/ Fashion Business Student\n",
      "2211\n",
      "2211 0 12\n",
      "2211 1 12\n",
      "2211 2 0\n",
      "1 job\n",
      "2211 https://www.linkedin.com/in/ACoAACnComkBkxj_ZFOVvlh-fgcIfFGF29DxAvM https://www.linkedin.com/in/anne-tagatsing-261778176/ 🔔🎉Vous ven Chargée de Lyon, Auvergne-Rhône-Alpes, France Anne TAGATSING 557 Chambre de Métiers et de l'Artisanat du Gard - CMA30 https://www.linkedin.com/company/cma30/ Chargée de communication web\n",
      "2212\n",
      "2212 0 36\n",
      "2212 1 24\n",
      "2212 2 0\n",
      "1 job\n",
      "2212 https://www.linkedin.com/in/ACoAACyy3-ABpp25tBtxfDnB84ezZNsplDqgFB4 https://www.linkedin.com/in/paola-cerna/ Currently  Political  Geneva Metropolitan Area Paola Cerna 490 Permanent Mission of El Salvador to the United Nations https://www.linkedin.com/company/fusades/ Intern\n",
      "2213\n",
      "2213 0 36\n",
      "2213 1 0\n",
      "1 job\n",
      "2213 https://www.linkedin.com/in/ACoAACYWXl0BRF4rKCF8Ay89kzLCex5X8dw6JUQ https://www.linkedin.com/in/fabiola-avendano-rivas/  Chef de se Lyon, Auvergne-Rhône-Alpes, France Fabiola Avendaño Rivas 748 UNI TEA DRINKS https://www.linkedin.com/company/uni-tea-drinks/ Chef de Secteur/Business developper\n",
      "2214\n",
      "2214 0 36\n",
      "2214 1 36\n",
      "2214 2 0\n",
      "1 job\n",
      "2214 https://www.linkedin.com/in/ACoAACU7MC4BnsRdNUW0KGlDsGVtKUuwaVyVKCY https://www.linkedin.com/in/camila-sol-duque-17a233155/ Multilingu Financial  France Camila SOL DUQUE 529 EY https://www.linkedin.com/company/ernstandyoung/ Corporate Finance Consultant\n",
      "2215\n",
      "2215 0 12\n",
      "2215 1 0\n",
      "multiple jobs\n",
      "2215 https://www.linkedin.com/in/ACoAADAicGwBaCGUU8G8Ox0SDgI65OxUN9GW4gY https://www.linkedin.com/in/marianagalvezflores/ 📩 mgalvez@ Présidente Lyon, Auvergne-Rhône-Alpes, France Mariana Galvez 370 Agro Projets Etudes https://www.linkedin.com/company/agroprojetsetudes/ Présidente\n",
      "2216\n",
      "1 job\n",
      "2216 https://www.linkedin.com/in/ACoAACZqYMQBeQvDmsJYwJP0Mb_axqNpn0BMCwg https://www.linkedin.com/in/isabella-gonzaleza84a1515b/  à la reche Montpellier, Occitanie, France Isabella Gonzalez 369 Institut Francais d'Occitanie https://www.linkedin.com/company/institut-de-francais-occitanie/ Community Manager Intern\n",
      "2217\n",
      "2217 0 12\n",
      "2217 1 12\n",
      "2217 2 0\n",
      "1 job\n",
      "2217 https://www.linkedin.com/in/ACoAACRrp9UB-2635z0suSVSKudvred8FmGIOZI https://www.linkedin.com/in/kim-teulade/ L'idéal da Obtenir de Tassin-la-Demi-Lune, Auvergne-Rhône-Alpes, France Kim Teulade 397 affin'iMMO https://www.linkedin.com/company/affinimmo/ Rendre remarquable les affin'iMMEURS\n",
      "2218\n",
      "1 job\n",
      "2218 https://www.linkedin.com/in/ACoAACjfCyYB6erHMtKugMEYaV0OFDm4oaPAMKg https://www.linkedin.com/in/manuel-flores-746784171/  PHD Studen Lyon, Auvergne-Rhône-Alpes, France Manuel Flores 96 Université Jean Monnet Saint-Etienne https://www.linkedin.com/company/universit%C3%A9-jean-monnet-saint-etienne/ PHD Student\n",
      "2219\n",
      "2219 0 12\n",
      "2219 1 12\n",
      "2219 2 0\n",
      "1 job\n",
      "2219 https://www.linkedin.com/in/ACoAABwwfukB4pJMlXKOuEPqXVcuLTmf4lq2b60 https://www.linkedin.com/in/orlando-pineda-alarcia/ Motivated, CEO & Co-f San Salvador, San Salvador, El Salvador Orlando Pineda-Alarcia 1,628 Tuyo Technologies https://www.linkedin.com/company/tuyo-app/ CEO & Co-founder\n",
      "2220\n",
      "2220 0 0\n",
      "1 job\n",
      "2220 https://www.linkedin.com/in/ACoAACjOqsQBYobZKlUinqULUzVub0t7I5CrdHA https://www.linkedin.com/in/victoire-gu%C3%A9rin-630347171/  Bachelor \" Greater Lyon Area Victoire Guérin 221 THEATRE DE LA RENAISSANCE https://www.linkedin.com/company/theatre-de-la-renaissance/ Agent d’accueil\n",
      "2221\n",
      "2221 0 12\n",
      "2221 1 12\n",
      "2221 2 12\n",
      "2221 3 0\n",
      "1 job\n",
      "2221 https://www.linkedin.com/in/ACoAAByskZwBkRo7Alwai2IMIiL-dU3BmK6MQlE https://www.linkedin.com/in/rafael-valdez-sandoval-a50139115/ Asistente  Assistant  Miguel Hidalgo, Mexico City, Mexico Rafael Valdez Sandoval 255 Porter Novelli https://www.linkedin.com/company/porternovelli/ Assistant Account Executive\n",
      "2222\n",
      "2222 0 24\n",
      "2222 1 0\n",
      "multiple jobs\n",
      "2222 https://www.linkedin.com/in/ACoAACtex84B47stuHrZp_k-VpNYtBz4PQ0BjPs https://www.linkedin.com/in/camila-perez-mu%C3%B1oz-292823183/ Stagiaire: Assistant  Mons, Walloon Region, Belgium Camila Perez Muñoz 160 Epsylon asbl https://www.linkedin.com/company/epsylonasbl/ Assistant psychologue\n",
      "2223\n",
      "2223 0 0\n",
      "1 job\n",
      "2223 https://www.linkedin.com/in/luz-p%C3%A9rez-4b158b1a1 https://www.linkedin.com/in/luz-p%C3%A9rez-4b158b1a1/ Me gustan  Software E Managua, Nicaragua Luz Pérez 117 GBM https://www.linkedin.com/company/gbm-corp/ Software Engineer Internship\n",
      "2224\n",
      "1 job\n",
      "2224 https://www.linkedin.com/in/leonel-ubeda-480247186 https://www.linkedin.com/in/leonel-ubeda-480247186/  React Deve Nicaragua Leonel Ubeda 44 Applaudo Studios https://www.linkedin.com/company/3735640 React Developer\n",
      "2225\n",
      "2225 0 36\n",
      "2225 1 0\n",
      "1 job\n",
      "2225 https://www.linkedin.com/in/kevinare https://www.linkedin.com/in/kevinare/  Software D El Salvador Kevin Arévalo 123 TELUS International Digital Solutions https://www.linkedin.com/company/telusinternational-digitalsolutions/ Software Developer\n",
      "2226\n",
      "2226 0 36\n",
      "2226 1 12\n",
      "2226 2 0\n",
      "1 job\n",
      "2226 https://www.linkedin.com/in/dimas-h https://www.linkedin.com/in/dimas-h/ Mente+Huma Diseñador  Zacatecoluca, La Paz, El Salvador Dimas H. 358 GIDEM Firma Consultora https://www.linkedin.com/company/gidem-fima-consultora/ Consultor\n",
      "2227\n",
      "2227 https://www.linkedin.com/in/sa%C3%BAl-hern%C3%A1ndez-1a90191b9 https://www.linkedin.com/in/sa%C3%BAl-hern%C3%A1ndez-1a90191b9/  Student at Cuscatlán, El Salvador Saúl Hernández 12 Universidad de El Salvador  \n",
      "2228\n",
      "2228 0 36\n",
      "2228 1 0\n",
      "1 job\n",
      "2228 https://www.linkedin.com/in/gesorto https://www.linkedin.com/in/gesorto/ Currently,  El Salvador Gerard Sorto 262 Instituto Nacional Prof. Francisco Ventura Zelaya https://www.linkedin.com/company/udemy/ Systems Analyst & PHP Developer\n"
     ]
    },
    {
     "name": "stdout",
     "output_type": "stream",
     "text": [
      "2229\n",
      "2229 0 12\n",
      "2229 1 12\n",
      "2229 2 0\n",
      "1 job\n",
      "2229 https://www.linkedin.com/in/ricardo-valladares-triminio https://www.linkedin.com/in/ricardo-valladares-triminio/ Soy Ingeni Desarrolla Honduras Ricardo Valladares 44 Ogilvy https://www.linkedin.com/company/ogilvy/ Programador informático\n",
      "2230\n",
      "2230 0 36\n",
      "2230 1 0\n",
      "1 job\n",
      "2230 https://www.linkedin.com/in/ACoAABUBsRcBa0jpbAxALMVJ6TmVf8chwzsPFNQ https://www.linkedin.com/in/joserubenmenjivar/ Me gusta e Senior PHP El Salvador Jose Ruben Lopez Menjivar 432 TELUS International Central America https://www.linkedin.com/company/telusinternationalca/ Web Developer\n",
      "2231\n",
      "1 job\n",
      "2231 https://www.linkedin.com/in/ACoAAA6dZGQBm363o_ZtOc0IYmE8jElp1Nz5wOY https://www.linkedin.com/in/marcela-c%C3%A1rcamo-9181476a/  Gerente de El Salvador Marcela Cárcamo 241 EMKT Company https://www.linkedin.com/company/emkt-company/ Jefe de proyectos\n",
      "2232\n",
      "2232 0 36\n",
      "2232 1 0\n"
     ]
    }
   ],
   "source": [
    "for i, profile in comments_users[\"Profile\"][start:start+100].items():\n",
    "    print(i)\n",
    "    driver.get(profile)\n",
    "    time.sleep(2)\n",
    "    \n",
    "    linkedinProfile = ls.get_linkedinProfile(driver)\n",
    "    if linkedinProfile == \"https://www.linkedin.com/in/unavailable/\":\n",
    "        print(i, \"unavailable\")\n",
    "        user = pd.DataFrame([[profile,profile,'','','','','','','','']], columns=[\"originalURL\",\"linkedinProfile\",\"description\",\"headline\",\"location\",\"fullname\",\"subscribers\",\"company\",\"companyURL\",\"jobTitle\"])\n",
    "        comments_users_extraction = comments_users_extraction.append(user)\n",
    "        comments_users_extraction.to_csv(\"data/comments_users_extraction_2.csv\")\n",
    "        continue\n",
    "            \n",
    "    driver.execute_script(\"window.scrollBy(0, 1000);\")\n",
    "    time.sleep(2)\n",
    "    j = 0\n",
    "    while len(driver.find_elements_by_class_name(\"artdeco-loader__bars\")) > 0:\n",
    "        if j>20:\n",
    "            user = pd.DataFrame([[profile,profile,'','','','','','','','']], columns=[\"originalURL\",\"linkedinProfile\",\"description\",\"headline\",\"location\",\"fullname\",\"subscribers\",\"company\",\"companyURL\",\"jobTitle\"])\n",
    "            comments_users_extraction = comments_users_extraction.append(user)\n",
    "            comments_users_extraction.to_csv(\"data/reactions_users_extraction.csv\")\n",
    "            break\n",
    "\n",
    "        time.sleep(2)\n",
    "        driver.execute_script(\"window.scrollBy(0, 1000);\")\n",
    "        print(i, j, len(driver.find_elements_by_class_name(\"artdeco-loader__bars\")))\n",
    "        j=j+1\n",
    "        \n",
    "    if j > 20:\n",
    "        continue        \n",
    "    \n",
    "    description = ls.get_description(driver)\n",
    "    headline = ls.get_headline(driver)\n",
    "    location = ls.get_location(driver)\n",
    "    fullname = ls.get_fullname(driver)\n",
    "    subscribers = ls.get_subscribers(driver)\n",
    "    company = ls.get_company(driver)\n",
    "    companyURL = ls.get_companyURL(driver)\n",
    "    jobTitle = ls.get_jobTitle(driver)\n",
    "        \n",
    "    user = pd.DataFrame([[profile,linkedinProfile,description,headline,location,fullname,subscribers,company,companyURL,jobTitle]], columns=[\"originalURL\",\"linkedinProfile\",\"description\",\"headline\",\"location\",\"fullname\",\"subscribers\",\"company\",\"companyURL\",\"jobTitle\"])\n",
    "    comments_users_extraction = comments_users_extraction.append(user)\n",
    "    comments_users_extraction.to_csv(\"data/reactions_users_extraction.csv\")\n",
    "    print(i,profile,linkedinProfile,description[0:10],headline[0:10],location,fullname,subscribers,company,companyURL,jobTitle)\n",
    "\n",
    "    time.sleep(random.randrange(40, 60))\n",
    "    "
   ]
  },
  {
   "cell_type": "code",
   "execution_count": null,
   "id": "6465862f",
   "metadata": {},
   "outputs": [],
   "source": [
    "pyperclip.copy(driver.page_source)"
   ]
  },
  {
   "cell_type": "code",
   "execution_count": null,
   "id": "63c2e938",
   "metadata": {},
   "outputs": [],
   "source": [
    "driver.close()"
   ]
  }
 ],
 "metadata": {
  "kernelspec": {
   "display_name": "Python 3",
   "language": "python",
   "name": "python3"
  },
  "language_info": {
   "codemirror_mode": {
    "name": "ipython",
    "version": 3
   },
   "file_extension": ".py",
   "mimetype": "text/x-python",
   "name": "python",
   "nbconvert_exporter": "python",
   "pygments_lexer": "ipython3",
   "version": "3.8.11"
  }
 },
 "nbformat": 4,
 "nbformat_minor": 5
}
