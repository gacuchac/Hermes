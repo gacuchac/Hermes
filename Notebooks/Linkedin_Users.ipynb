{
 "cells": [
  {
   "cell_type": "code",
   "execution_count": 1,
   "id": "6b54e9c4",
   "metadata": {},
   "outputs": [],
   "source": [
    "# import web driver\n",
    "from selenium import webdriver\n",
    "from selenium.webdriver.common.keys import Keys\n",
    "from Login_info import user as user1, password as pass1\n",
    "import time, math\n",
    "import pandas as pd\n",
    "import pyperclip\n",
    "import linkedin_scraping as ls"
   ]
  },
  {
   "cell_type": "code",
   "execution_count": 2,
   "id": "41c443dc",
   "metadata": {},
   "outputs": [],
   "source": [
    "options = webdriver.FirefoxOptions()\n",
    "options.add_argument(\"--headless\")\n",
    "#options.add_argument(\"--start-maximized\")\n",
    "#options.add_argument(\"--no-sandbox\")\n",
    "#options.add_argument(\"--auto-open-devtools-for-tabs\")\n",
    "#options.add_argument('--disable-gpu')\n",
    "#options.add_argument(f'user-agent={UserAgent().random}')\n",
    "\n",
    "driver = webdriver.Firefox(executable_path='geckodriver.exe',options=options)"
   ]
  },
  {
   "cell_type": "code",
   "execution_count": 3,
   "id": "080be142",
   "metadata": {},
   "outputs": [],
   "source": [
    "time.sleep(3)\n",
    "driver.get(\"https://www.linkedin.com\")\n",
    "\n",
    "time.sleep(1)"
   ]
  },
  {
   "cell_type": "code",
   "execution_count": 4,
   "id": "d1d75284",
   "metadata": {},
   "outputs": [],
   "source": [
    "ls.Login(driver,user1,pass1)"
   ]
  },
  {
   "cell_type": "code",
   "execution_count": 5,
   "id": "5eff5db8",
   "metadata": {},
   "outputs": [],
   "source": [
    "################### VERIFICATION CODE #########################"
   ]
  },
  {
   "cell_type": "code",
   "execution_count": 6,
   "id": "a7c46e20",
   "metadata": {},
   "outputs": [],
   "source": [
    "driver.find_element_by_class_name(\"form__input--text.input_verification_pin\").send_keys(\"458518\")\n",
    "driver.find_element_by_class_name(\"form__submit.form__submit--stretch\").click()"
   ]
  },
  {
   "cell_type": "code",
   "execution_count": 7,
   "id": "8be9c7d3",
   "metadata": {},
   "outputs": [],
   "source": [
    "# lower messages panel\n",
    "driver.find_elements_by_class_name(\"msg-overlay-bubble-header__control.msg-overlay-bubble-header__control--new-convo-btn.artdeco-button.artdeco-button--circle.artdeco-button--muted.artdeco-button--1.artdeco-button--tertiary.ember-view\")[1].click()"
   ]
  },
  {
   "cell_type": "code",
   "execution_count": null,
   "id": "f31b155d",
   "metadata": {},
   "outputs": [],
   "source": [
    "comments_users = pd.read_csv(\"data/Comments_Users_Full.csv\")\n",
    "comments_users.head()"
   ]
  },
  {
   "cell_type": "code",
   "execution_count": 8,
   "id": "70151006",
   "metadata": {},
   "outputs": [
    {
     "data": {
      "text/plain": [
       "321"
      ]
     },
     "execution_count": 8,
     "metadata": {},
     "output_type": "execute_result"
    }
   ],
   "source": [
    "#comments_users_extraction = pd.DataFrame(columns=[\"linkedinProfile\",\"description\",\"headline\",\"location\",\"fullname\",\"subscribers\",\"company\",\"companyURL\",\"jobTitle\"])\n",
    "comments_users_extraction = pd.read_csv(\"data/comments_users_extraction_2.csv\")[['linkedinProfile','description','headline','location','fullname','subscribers','company','companyURL','jobTitle'\n",
    "]]\n",
    "start = max(len(comments_users_extraction)-1,0)\n",
    "start"
   ]
  },
  {
   "cell_type": "code",
   "execution_count": null,
   "id": "8a00c6ae",
   "metadata": {},
   "outputs": [],
   "source": [
    "for i, profile in comments_users[\"Profile\"][start:].items():\n",
    "    print(i)\n",
    "    driver.get(profile)\n",
    "    time.sleep(2)\n",
    "    linkedinProfile = ls.get_linkedinProfile(driver)\n",
    "    if linkedinProfile == \"https://www.linkedin.com/in/unavailable/\":\n",
    "        print(i, \"unavailable\")\n",
    "        user = pd.DataFrame([[profile,'','','','','','','','']], columns=[\"linkedinProfile\",\"description\",\"headline\",\"location\",\"fullname\",\"subscribers\",\"company\",\"companyURL\",\"jobTitle\"])\n",
    "        comments_users_extraction = comments_users_extraction.append(user)\n",
    "        comments_users_extraction.to_csv(\"data/comments_users_extraction_2.csv\")\n",
    "        continue\n",
    "            \n",
    "    driver.execute_script(\"window.scrollBy(0, 1000);\")\n",
    "    time.sleep(2)\n",
    "    j = 0\n",
    "    while len(driver.find_elements_by_class_name(\"artdeco-loader__bars\")) > 0:\n",
    "        if j>20:\n",
    "            driver.get(profile)\n",
    "            \n",
    "        time.sleep(2)\n",
    "        driver.execute_script(\"window.scrollBy(0, 1000);\")\n",
    "        print(i, len(driver.find_elements_by_class_name(\"artdeco-loader__bars\")))\n",
    "        \n",
    "    \n",
    "    description = ls.get_description(driver)\n",
    "    headline = ls.get_headline(driver)\n",
    "    location = ls.get_location(driver)\n",
    "    fullname = ls.get_fullname(driver)\n",
    "    subscribers = ls.get_subscribers(driver)\n",
    "    company = ls.get_company(driver)\n",
    "    companyURL = ls.get_companyURL(driver)\n",
    "    jobTitle = ls.get_jobTitle(driver)\n",
    "        \n",
    "    user = pd.DataFrame([[linkedinProfile,description,headline,location,fullname,subscribers,company,companyURL,jobTitle]], columns=[\"linkedinProfile\",\"description\",\"headline\",\"location\",\"fullname\",\"subscribers\",\"company\",\"companyURL\",\"jobTitle\"])\n",
    "    comments_users_extraction = comments_users_extraction.append(user)\n",
    "    comments_users_extraction.to_csv(\"data/comments_users_extraction.csv\")\n",
    "    print(i,linkedinProfile,description[0:10],headline[0:10],location,fullname,subscribers,company,companyURL,jobTitle)\n",
    "\n",
    "    time.sleep(1)\n",
    "    "
   ]
  },
  {
   "cell_type": "code",
   "execution_count": null,
   "id": "6465862f",
   "metadata": {},
   "outputs": [],
   "source": [
    "pyperclip.copy(driver.page_source)"
   ]
  },
  {
   "cell_type": "code",
   "execution_count": 12,
   "id": "63c2e938",
   "metadata": {},
   "outputs": [],
   "source": [
    "driver.close()"
   ]
  }
 ],
 "metadata": {
  "kernelspec": {
   "display_name": "Python 3",
   "language": "python",
   "name": "python3"
  },
  "language_info": {
   "codemirror_mode": {
    "name": "ipython",
    "version": 3
   },
   "file_extension": ".py",
   "mimetype": "text/x-python",
   "name": "python",
   "nbconvert_exporter": "python",
   "pygments_lexer": "ipython3",
   "version": "3.8.8"
  }
 },
 "nbformat": 4,
 "nbformat_minor": 5
}
