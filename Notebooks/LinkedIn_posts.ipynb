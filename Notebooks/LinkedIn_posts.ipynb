{
 "cells": [
  {
   "cell_type": "code",
   "execution_count": 1,
   "metadata": {},
   "outputs": [],
   "source": [
    "# import web driver\n",
    "from selenium import webdriver\n",
    "from selenium.webdriver.common.keys import Keys\n",
    "from Login_info import user as user1, password as pass1\n",
    "import time, math\n",
    "import pandas as pd"
   ]
  },
  {
   "cell_type": "code",
   "execution_count": 2,
   "metadata": {},
   "outputs": [],
   "source": [
    "import linkedin_scraping as ls"
   ]
  },
  {
   "cell_type": "code",
   "execution_count": 3,
   "metadata": {},
   "outputs": [],
   "source": [
    "options = webdriver.ChromeOptions()\n",
    "options.add_argument(\"--start-maximized\")\n",
    "driver = webdriver.Chrome('chromedriver',options=options)"
   ]
  },
  {
   "cell_type": "code",
   "execution_count": 4,
   "metadata": {},
   "outputs": [],
   "source": [
    "time.sleep(3)\n",
    "driver.get(\"https://www.linkedin.com\")\n",
    "\n",
    "time.sleep(1)"
   ]
  },
  {
   "cell_type": "code",
   "execution_count": 5,
   "metadata": {},
   "outputs": [],
   "source": [
    "ls.Login(driver,user1,pass1)"
   ]
  },
  {
   "cell_type": "code",
   "execution_count": 15,
   "metadata": {
    "scrolled": true
   },
   "outputs": [
    {
     "name": "stdout",
     "output_type": "stream",
     "text": [
      "Page: 1\n",
      "Page: 2\n",
      "Page: 3\n",
      "Page: 4\n",
      "Page: 5\n",
      "Page: 6\n",
      "Page: 7\n",
      "Page: 8\n",
      "Page: 9\n",
      "Page: 10\n",
      "Page: 11\n",
      "Page: 12\n",
      "Page: 13\n",
      "Page: 14\n",
      "Page: 15\n",
      "Page: 16\n",
      "Page: 17\n",
      "Page: 18\n",
      "Page: 19\n",
      "Page: 20\n",
      "Page: 21\n",
      "Page: 22\n",
      "Page: 23\n",
      "Page: 24\n",
      "Page: 25\n",
      "Page: 26\n",
      "Page: 27\n",
      "Page: 28\n",
      "Page: 29\n",
      "Page: 30\n",
      "Page: 31\n",
      "Page: 32\n",
      "Page: 33\n",
      "Page: 34\n",
      "Page: 35\n",
      "Page: 36\n",
      "Page: 37\n",
      "Page: 38\n",
      "Page: 39\n"
     ]
    }
   ],
   "source": [
    "keyword = 'Applaudo Studios'  \n",
    "posts = ls.Posts_pagination(driver, keyword)"
   ]
  },
  {
   "cell_type": "code",
   "execution_count": 16,
   "metadata": {},
   "outputs": [],
   "source": [
    "posts_df = pd.DataFrame(posts, columns=['post_url'])\n",
    "posts_df.to_csv('data/'+keyword+' posts_url.csv', index=False) "
   ]
  },
  {
   "cell_type": "code",
   "execution_count": 17,
   "metadata": {},
   "outputs": [
    {
     "data": {
      "text/html": [
       "<div>\n",
       "<style scoped>\n",
       "    .dataframe tbody tr th:only-of-type {\n",
       "        vertical-align: middle;\n",
       "    }\n",
       "\n",
       "    .dataframe tbody tr th {\n",
       "        vertical-align: top;\n",
       "    }\n",
       "\n",
       "    .dataframe thead th {\n",
       "        text-align: right;\n",
       "    }\n",
       "</style>\n",
       "<table border=\"1\" class=\"dataframe\">\n",
       "  <thead>\n",
       "    <tr style=\"text-align: right;\">\n",
       "      <th></th>\n",
       "      <th>post_url</th>\n",
       "    </tr>\n",
       "  </thead>\n",
       "  <tbody>\n",
       "    <tr>\n",
       "      <th>0</th>\n",
       "      <td>https://www.linkedin.com/feed/update/urn:li:ac...</td>\n",
       "    </tr>\n",
       "    <tr>\n",
       "      <th>1</th>\n",
       "      <td>https://www.linkedin.com/feed/update/urn:li:ac...</td>\n",
       "    </tr>\n",
       "    <tr>\n",
       "      <th>2</th>\n",
       "      <td>https://www.linkedin.com/feed/update/urn:li:ac...</td>\n",
       "    </tr>\n",
       "    <tr>\n",
       "      <th>3</th>\n",
       "      <td>https://www.linkedin.com/feed/update/urn:li:ac...</td>\n",
       "    </tr>\n",
       "    <tr>\n",
       "      <th>4</th>\n",
       "      <td>https://www.linkedin.com/feed/update/urn:li:ac...</td>\n",
       "    </tr>\n",
       "  </tbody>\n",
       "</table>\n",
       "</div>"
      ],
      "text/plain": [
       "                                            post_url\n",
       "0  https://www.linkedin.com/feed/update/urn:li:ac...\n",
       "1  https://www.linkedin.com/feed/update/urn:li:ac...\n",
       "2  https://www.linkedin.com/feed/update/urn:li:ac...\n",
       "3  https://www.linkedin.com/feed/update/urn:li:ac...\n",
       "4  https://www.linkedin.com/feed/update/urn:li:ac..."
      ]
     },
     "execution_count": 17,
     "metadata": {},
     "output_type": "execute_result"
    }
   ],
   "source": [
    "posts_url_df = pd.read_csv('data/'+keyword+' posts_url.csv')\n",
    "posts_url_df.head()"
   ]
  },
  {
   "cell_type": "code",
   "execution_count": 21,
   "metadata": {},
   "outputs": [],
   "source": [
    "def get_media(wd, post_elmt):\n",
    "    media_url = ''\n",
    "    media_type = 'Other'  # unknown o no media?\n",
    "\n",
    "    try:\n",
    "        media_url = post_elmt.find_element_by_class_name(\n",
    "            'vjs-tech').get_attribute('src')\n",
    "        media_type = 'Video'\n",
    "    except:\n",
    "        try:\n",
    "            media_url = post_elmt.find_element_by_class_name(\n",
    "                'tap-target.feed-shared-mini-update-v2__link-to-details-page.text-body-medium.ember-view').get_attribute('href')\n",
    "            media_type = 'Shared LinkedIn post'\n",
    "        except:\n",
    "            try:\n",
    "                media_url = post_elmt.find_element_by_class_name(\n",
    "                    'app-aware-link.feed-shared-article__meta.flex-grow-1.full-width.tap-target').get_attribute('href')\n",
    "                media_type = 'Shared link outside LinkedIn without image'\n",
    "            except:\n",
    "                try:\n",
    "                    media_url = post_elmt.find_element_by_class_name(\n",
    "                        'app-aware-link.feed-shared-article__image-link.tap-target').get_attribute('href')\n",
    "                    media_type = 'Shared link outside LinkedIn'  # job or article or whatever\n",
    "                except:\n",
    "                    try:\n",
    "                        media_url = post_elmt.find_element_by_class_name(\n",
    "                            'app-aware-link.feed-shared-entity__content.display-flex').get_attribute('href')\n",
    "                        media_type = 'Job offer posted on LinkedIn'\n",
    "                    except:\n",
    "                        try:\n",
    "                            media_url = post_elmt.find_element_by_class_name(\n",
    "                                'app-aware-link.feed-shared-article__meta.flex-grow-1.full-width.tap-target').get_attribute('href')\n",
    "                            media_type = 'Shared link outside LinkedIn without image'\n",
    "                        except:\n",
    "                            try:\n",
    "                                media_url = post_elmt.find_element_by_class_name(\n",
    "                                    'app-aware-link.tap-target.video-s-loader__play-link.play-video').get_attribute('href')\n",
    "                                media_type = 'External video'\n",
    "                            except:\n",
    "                                images = post_elmt.find_elements_by_class_name(\n",
    "                                    'ivm-view-attr__img--centered.feed-shared-image__image.lazy-image.ember-view')\n",
    "                                if len(images) == 1:\n",
    "                                    media_url = images[0].get_attribute('src')\n",
    "                                    media_type = 'Single image'\n",
    "                                elif len(images) > 1:\n",
    "                                    media_url = []\n",
    "                                    for img in images:\n",
    "                                        media_url.append(\n",
    "                                            img.get_attribute('src'))\n",
    "                                    media_type = 'Multiple images'\n",
    "                                else:\n",
    "                                    wd.switch_to.frame(\n",
    "                                        wd.find_element_by_tag_name(\"iframe\"))\n",
    "                                    carousel = wd.find_elements_by_class_name(\n",
    "                                        'carousel-lazy-element')\n",
    "                                    if len(carousel) > 0:\n",
    "                                        media_url = []\n",
    "                                        for slide in carousel:\n",
    "                                            media_url.append(\n",
    "                                                slide.get_attribute('src'))\n",
    "                                        media_type = 'Carousel'\n",
    "                                        wd.switch_to.default_content()\n",
    "                                    else:\n",
    "                                        wd.switch_to.default_content()\n",
    "\n",
    "    return media_url, media_type\n",
    "\n",
    "\n",
    "def get_post(wd):\n",
    "    post_df = pd.DataFrame(\n",
    "        columns=['post_url', 'author', 'author_url', 'author_type', 'description', 'media_type', 'media_url'])\n",
    "\n",
    "    author_element_cn = 'app-aware-link.feed-shared-actor__container-link.relative.display-flex.flex-grow-1'\n",
    "    author_name_cn = 'feed-shared-actor__name.t-14.t-bold.hoverable-link-text.t-black'\n",
    "    post_description_cn = 'feed-shared-inline-show-more-text.feed-shared-update-v2__description.feed-shared-inline-show-more-text--minimal-padding.feed-shared-inline-show-more-text--expanded'\n",
    "\n",
    "    post_element = wd.find_element_by_class_name('core-rail.update-outlet')\n",
    "    author_url = post_element.find_element_by_class_name(\n",
    "        author_element_cn).get_attribute('href').split('?')[0]\n",
    "    author_name = post_element.find_element_by_class_name(author_name_cn).text\n",
    "    author_type = 'Company' if author_url.find('company') != -1 else 'User'\n",
    "\n",
    "    try:\n",
    "        description = post_element.find_element_by_class_name(\n",
    "            post_description_cn).text\n",
    "    except:\n",
    "        description = 'No description'\n",
    "\n",
    "    try:\n",
    "        source = post_element.get_attribute('src')\n",
    "    except:\n",
    "        source = 'No source'\n",
    "\n",
    "    media_url, media_type = get_media(wd, post_element)\n",
    "\n",
    "    post_df = post_df.append({'post_url': wd.current_url, 'author': author_name, 'author_url': author_url,\n",
    "                              'author_type': author_type, 'description': description, 'media_type': media_type,\n",
    "                              'media_url': media_url},\n",
    "                             ignore_index=True)\n",
    "    print('media_url', media_url)\n",
    "    print('media_type', media_type)\n",
    "\n",
    "    return post_df"
   ]
  },
  {
   "cell_type": "code",
   "execution_count": 37,
   "metadata": {},
   "outputs": [
    {
     "name": "stdout",
     "output_type": "stream",
     "text": [
      "media_url ['https://media-exp1.licdn.com/dms/image/C4E1FAQHmvsKrTIJ2zQ/feedshare-document-images_480/1/1617142677880?e=1625958000&v=beta&t=rwCrnStpvg6wd2fBYe0rFknggaAxmkpYDPkIrQQJKsg', 'https://media-exp1.licdn.com/dms/image/C4E1FAQHmvsKrTIJ2zQ/feedshare-document-images_160/2/1617142677839?e=1625958000&v=beta&t=B-zu_SEru52JhAKpQQ90aRWh5015XMjSnsRP_FGbLFQ', None]\n",
      "media_type Carousel\n"
     ]
    },
    {
     "data": {
      "text/html": [
       "<div>\n",
       "<style scoped>\n",
       "    .dataframe tbody tr th:only-of-type {\n",
       "        vertical-align: middle;\n",
       "    }\n",
       "\n",
       "    .dataframe tbody tr th {\n",
       "        vertical-align: top;\n",
       "    }\n",
       "\n",
       "    .dataframe thead th {\n",
       "        text-align: right;\n",
       "    }\n",
       "</style>\n",
       "<table border=\"1\" class=\"dataframe\">\n",
       "  <thead>\n",
       "    <tr style=\"text-align: right;\">\n",
       "      <th></th>\n",
       "      <th>post_url</th>\n",
       "      <th>author</th>\n",
       "      <th>author_url</th>\n",
       "      <th>author_type</th>\n",
       "      <th>description</th>\n",
       "      <th>media_type</th>\n",
       "      <th>media_url</th>\n",
       "    </tr>\n",
       "  </thead>\n",
       "  <tbody>\n",
       "    <tr>\n",
       "      <th>0</th>\n",
       "      <td>https://www.linkedin.com/feed/update/urn:li:ac...</td>\n",
       "      <td>Applaudo Studios</td>\n",
       "      <td>https://www.linkedin.com/company/applaudo-stud...</td>\n",
       "      <td>Company</td>\n",
       "      <td>Take a look at how machine learning can benefi...</td>\n",
       "      <td>Carousel</td>\n",
       "      <td>[https://media-exp1.licdn.com/dms/image/C4E1FA...</td>\n",
       "    </tr>\n",
       "  </tbody>\n",
       "</table>\n",
       "</div>"
      ],
      "text/plain": [
       "                                            post_url            author  \\\n",
       "0  https://www.linkedin.com/feed/update/urn:li:ac...  Applaudo Studios   \n",
       "\n",
       "                                          author_url author_type  \\\n",
       "0  https://www.linkedin.com/company/applaudo-stud...     Company   \n",
       "\n",
       "                                         description media_type  \\\n",
       "0  Take a look at how machine learning can benefi...   Carousel   \n",
       "\n",
       "                                           media_url  \n",
       "0  [https://media-exp1.licdn.com/dms/image/C4E1FA...  "
      ]
     },
     "execution_count": 37,
     "metadata": {},
     "output_type": "execute_result"
    }
   ],
   "source": [
    "driver.switch_to.default_content()\n",
    "post = ls.get_post(driver)\n",
    "post\n",
    "\n",
    "# Problemas con los carousels"
   ]
  },
  {
   "cell_type": "code",
   "execution_count": 67,
   "metadata": {},
   "outputs": [],
   "source": [
    "# driver.switch_to.default_content()\n",
    "# driver.switch_to.frame(driver.find_element_by_tag_name(\"iframe\"))\n",
    "# driver.find_elements_by_class_name('carousel-lazy-element')\n",
    "reactions_window_btn = 'v-align-middle.social-details-social-counts__reactions-count'\n",
    "try:\n",
    "    reactions = driver.find_element_by_class_name(reactions_window_btn)\n",
    "except:\n",
    "    reactions_dataframe = reactions_dataframe.append({'post_url': wd.current_url,\n",
    "                                                          'username': '', 'profile_url': '', 'reaction': ''},\n",
    "                                                         ignore_index=True)\n",
    "#     return reactions_dataframe\n",
    "\n",
    "reactions_window_class_name = 'artdeco-modal__content.social-details-reactors-modal__content.ember-view'\n",
    "panel = driver.find_element_by_class_name(reactions_window_class_name)\n",
    "n_reactions = int(reactions.text)\n",
    "for i in range(int(n_reactions/10)+1):\n",
    "        driver.execute_script(\n",
    "            'arguments[0].scrollTop = arguments[0].scrollHeight', panel)\n",
    "        time.sleep(2)\n",
    "        try:\n",
    "            driver.find_element_by_xpath(\"//*[text()='Show more results']\").click()\n",
    "        except:\n",
    "            pass"
   ]
  },
  {
   "cell_type": "code",
   "execution_count": 68,
   "metadata": {},
   "outputs": [
    {
     "name": "stdout",
     "output_type": "stream",
     "text": [
      "media_url ['https://media-exp3.licdn.com/dms/image/C4D1FAQEfNOb1DM4-Gg/feedshare-document-images_480/1/1625675311597?e=1625950800&v=beta&t=W90MSHYlDviOyL8EGP7_rLNmua5YMuMoCQEhCh9zZKA', 'https://media-exp3.licdn.com/dms/image/C4D1FAQEfNOb1DM4-Gg/feedshare-document-images_160/2/1625675311541?e=1625950800&v=beta&t=pb3SId22RSUTH1Q2MmEbU_Mk3XL6CUAgoqqZI0GG0_k', None]\n",
      "media_type Carousel\n"
     ]
    },
    {
     "ename": "KeyboardInterrupt",
     "evalue": "",
     "output_type": "error",
     "traceback": [
      "\u001b[1;31m---------------------------------------------------------------------------\u001b[0m",
      "\u001b[1;31mKeyboardInterrupt\u001b[0m                         Traceback (most recent call last)",
      "\u001b[1;32m<ipython-input-68-43a08b5dcbe9>\u001b[0m in \u001b[0;36m<module>\u001b[1;34m\u001b[0m\n\u001b[0;32m     10\u001b[0m     \u001b[0mpost\u001b[0m \u001b[1;33m=\u001b[0m \u001b[0mls\u001b[0m\u001b[1;33m.\u001b[0m\u001b[0mget_post\u001b[0m\u001b[1;33m(\u001b[0m\u001b[0mdriver\u001b[0m\u001b[1;33m)\u001b[0m\u001b[1;33m\u001b[0m\u001b[1;33m\u001b[0m\u001b[0m\n\u001b[0;32m     11\u001b[0m     \u001b[0mposts\u001b[0m \u001b[1;33m=\u001b[0m \u001b[0mpd\u001b[0m\u001b[1;33m.\u001b[0m\u001b[0mconcat\u001b[0m\u001b[1;33m(\u001b[0m\u001b[1;33m[\u001b[0m\u001b[0mposts\u001b[0m\u001b[1;33m,\u001b[0m \u001b[0mpost\u001b[0m\u001b[1;33m]\u001b[0m\u001b[1;33m)\u001b[0m\u001b[1;33m\u001b[0m\u001b[1;33m\u001b[0m\u001b[0m\n\u001b[1;32m---> 12\u001b[1;33m     \u001b[0mpost_r\u001b[0m \u001b[1;33m=\u001b[0m \u001b[0mls\u001b[0m\u001b[1;33m.\u001b[0m\u001b[0mget_post_reactions\u001b[0m\u001b[1;33m(\u001b[0m\u001b[0mdriver\u001b[0m\u001b[1;33m)\u001b[0m\u001b[1;33m\u001b[0m\u001b[1;33m\u001b[0m\u001b[0m\n\u001b[0m\u001b[0;32m     13\u001b[0m     \u001b[0mposts_reactions\u001b[0m \u001b[1;33m=\u001b[0m \u001b[0mpd\u001b[0m\u001b[1;33m.\u001b[0m\u001b[0mconcat\u001b[0m\u001b[1;33m(\u001b[0m\u001b[1;33m[\u001b[0m\u001b[0mposts_reactions\u001b[0m\u001b[1;33m,\u001b[0m\u001b[0mpost_r\u001b[0m\u001b[1;33m]\u001b[0m\u001b[1;33m)\u001b[0m\u001b[1;33m\u001b[0m\u001b[1;33m\u001b[0m\u001b[0m\n\u001b[0;32m     14\u001b[0m     \u001b[0mpost_c\u001b[0m \u001b[1;33m=\u001b[0m \u001b[0mls\u001b[0m\u001b[1;33m.\u001b[0m\u001b[0mget_post_comments\u001b[0m\u001b[1;33m(\u001b[0m\u001b[0mdriver\u001b[0m\u001b[1;33m)\u001b[0m\u001b[1;33m\u001b[0m\u001b[1;33m\u001b[0m\u001b[0m\n",
      "\u001b[1;32m~\\Documents\\PrismAI\\Hermes\\Notebooks\\linkedin_scraping.py\u001b[0m in \u001b[0;36mget_post_reactions\u001b[1;34m(wd)\u001b[0m\n\u001b[0;32m     96\u001b[0m     \u001b[0mreactions\u001b[0m\u001b[1;33m.\u001b[0m\u001b[0mclick\u001b[0m\u001b[1;33m(\u001b[0m\u001b[1;33m)\u001b[0m\u001b[1;33m\u001b[0m\u001b[1;33m\u001b[0m\u001b[0m\n\u001b[0;32m     97\u001b[0m \u001b[1;33m\u001b[0m\u001b[0m\n\u001b[1;32m---> 98\u001b[1;33m     \u001b[0mtime\u001b[0m\u001b[1;33m.\u001b[0m\u001b[0msleep\u001b[0m\u001b[1;33m(\u001b[0m\u001b[1;36m2\u001b[0m\u001b[1;33m)\u001b[0m\u001b[1;33m\u001b[0m\u001b[1;33m\u001b[0m\u001b[0m\n\u001b[0m\u001b[0;32m     99\u001b[0m \u001b[1;33m\u001b[0m\u001b[0m\n\u001b[0;32m    100\u001b[0m     reactions_modal = wd.find_element_by_xpath(\n",
      "\u001b[1;31mKeyboardInterrupt\u001b[0m: "
     ]
    }
   ],
   "source": [
    "posts_reactions = pd.DataFrame()\n",
    "posts_comments = pd.DataFrame()\n",
    "posts = pd.DataFrame()\n",
    "\n",
    "# open chrome console\n",
    "\n",
    "for i, row in posts_url_df.iterrows():\n",
    "    if i > 4:\n",
    "        break\n",
    "    driver.get(row['post_url'])\n",
    "    time.sleep(2)\n",
    "    post = ls.get_post(driver)\n",
    "    posts = pd.concat([posts, post])\n",
    "    post_r = ls.get_post_reactions(driver)\n",
    "    posts_reactions = pd.concat([posts_reactions,post_r]) \n",
    "    post_c = ls.get_post_comments(driver)\n",
    "    posts_comments = pd.concat([posts_comments,post_c])\n",
    "    print(i)\n",
    "    "
   ]
  },
  {
   "cell_type": "code",
   "execution_count": null,
   "metadata": {},
   "outputs": [],
   "source": [
    "posts.tail()"
   ]
  },
  {
   "cell_type": "code",
   "execution_count": null,
   "metadata": {},
   "outputs": [],
   "source": [
    "posts_comments.tail()"
   ]
  },
  {
   "cell_type": "code",
   "execution_count": null,
   "metadata": {},
   "outputs": [],
   "source": [
    "reactions_window_btn = 'v-align-middle.social-details-social-counts__reactions-count'\n",
    "driver.find_element_by_class_name(reactions_window_btn)"
   ]
  },
  {
   "cell_type": "code",
   "execution_count": null,
   "metadata": {},
   "outputs": [],
   "source": [
    "# for commentor in wd.find_elements_by_class_name(commentors_name_class_name):\n",
    "    #     commentors_name.append(commentor.text)\n",
    "    \n",
    "    \n",
    "    183"
   ]
  },
  {
   "cell_type": "code",
   "execution_count": null,
   "metadata": {},
   "outputs": [],
   "source": [
    "posts_comments.head()"
   ]
  },
  {
   "cell_type": "code",
   "execution_count": null,
   "metadata": {},
   "outputs": [],
   "source": [
    "\n",
    "\n",
    "element2 = driver.find_element_by_xpath(\"//div[@class='social-details-reactors-tab-body']\")\n",
    "elements3 = element2.find_elements_by_xpath(\".//div[@class='artdeco-entity-lockup__title ember-view']\")\n",
    "\n",
    "for element in elements3:\n",
    "    print(element.text)\n",
    "    "
   ]
  },
  {
   "cell_type": "code",
   "execution_count": null,
   "metadata": {},
   "outputs": [],
   "source": [
    "# 'https://www.linkedin.com/posts/anaromerolinkepower_equipopower-familiaempresarial-activity-6817819334484774912-B4R2/'\n",
    "# https://www.linkedin.com/posts/jorgebranger_nunca-dejes-pasar-una-oportunidad-por-estar-activity-6815238905818832896-ix4P/\n",
    "\n",
    "post_comments = get_post_comments(driver)\n",
    "post_comments.head()"
   ]
  },
  {
   "cell_type": "code",
   "execution_count": null,
   "metadata": {
    "scrolled": false
   },
   "outputs": [],
   "source": [
    "post_reactions_and_comments = pd.concat([post_reactions,post_comments])\n",
    "post_reactions_and_comments.to_csv('C:/Users/VanessaNunez/Downloads')"
   ]
  },
  {
   "cell_type": "code",
   "execution_count": null,
   "metadata": {},
   "outputs": [],
   "source": [
    "# fixed full\n",
    "# feed-shared-update-v2__description-wrapper"
   ]
  },
  {
   "cell_type": "code",
   "execution_count": null,
   "metadata": {},
   "outputs": [],
   "source": [
    "for k in reactors.keys():\n",
    "    print(k)"
   ]
  },
  {
   "cell_type": "code",
   "execution_count": null,
   "metadata": {},
   "outputs": [],
   "source": [
    "driver.execute_script(\"window.scrollTo(0, document.body.scrollHeight);\")"
   ]
  },
  {
   "cell_type": "code",
   "execution_count": null,
   "metadata": {},
   "outputs": [],
   "source": [
    "driver.find_elements_by_class_name('social-details-reactors-tab-body')"
   ]
  },
  {
   "cell_type": "code",
   "execution_count": null,
   "metadata": {},
   "outputs": [],
   "source": [
    "#driver.close()"
   ]
  },
  {
   "cell_type": "code",
   "execution_count": null,
   "metadata": {},
   "outputs": [],
   "source": [
    "driver.window_handles"
   ]
  },
  {
   "cell_type": "code",
   "execution_count": null,
   "metadata": {},
   "outputs": [],
   "source": [
    "driver.current_window_handle"
   ]
  },
  {
   "cell_type": "code",
   "execution_count": null,
   "metadata": {},
   "outputs": [],
   "source": [
    "def Posts(wd):\n",
    "    time.sleep(2)\n",
    "    # Click in Posts\n",
    "    posts_url = wd.current_url + \"posts/\"\n",
    "    wd.get(posts_url)\n",
    "    time.sleep(2)\n",
    "    \n",
    "    # Scroll till end of page\n",
    "    inicial_yoffset = 0\n",
    "    scrolled_yoffset = driver.execute_script(\"return window.pageYOffset;\") + 1 # Inicial return is 0\n",
    "\n",
    "    while scrolled_yoffset > inicial_yoffset:\n",
    "        inicial_yoffset = driver.execute_script(\"return window.pageYOffset;\")\n",
    "        driver.execute_script(f\"window.scrollTo(0,document.body.scrollHeight);\")\n",
    "        time.sleep(1)\n",
    "        scrolled_yoffset = driver.execute_script(\"return window.pageYOffset;\")\n",
    "        \n",
    "    # String to look\n",
    "    data_urn = 'urn:li:activity:'\n",
    "    posts = {}\n",
    "            \n",
    "    # Get posts url\n",
    "    for i in wd.find_elements_by_class_name(\"occludable-update.ember-view\"):\n",
    "        posts[i.get_attribute('href')] = 1\n",
    "\n",
    "    # Click next page\n",
    "    if j + 1 < n_pages:\n",
    "        wd.find_elements_by_class_name('artdeco-pagination__button.artdeco-pagination__button--next.artdeco-button.artdeco-button--muted.artdeco-button--icon-right.artdeco-button--1.artdeco-button--tertiary.ember-view')[0].click()\n",
    "\n",
    "    return posts\n",
    "        "
   ]
  }
 ],
 "metadata": {
  "kernelspec": {
   "display_name": "Python 3",
   "language": "python",
   "name": "python3"
  },
  "language_info": {
   "codemirror_mode": {
    "name": "ipython",
    "version": 3
   },
   "file_extension": ".py",
   "mimetype": "text/x-python",
   "name": "python",
   "nbconvert_exporter": "python",
   "pygments_lexer": "ipython3",
   "version": "3.8.10"
  }
 },
 "nbformat": 4,
 "nbformat_minor": 4
}
