{
 "cells": [
  {
   "cell_type": "code",
   "execution_count": 1,
   "metadata": {},
   "outputs": [],
   "source": [
    "# import web driver\n",
    "from selenium import webdriver\n",
    "from selenium.webdriver.common.keys import Keys\n",
    "from Login_info import user as user1, password as pass1\n",
    "import time, math\n",
    "import pandas as pd"
   ]
  },
  {
   "cell_type": "code",
   "execution_count": 3,
   "metadata": {},
   "outputs": [],
   "source": [
    "import linkedin_scraping as ls"
   ]
  },
  {
   "cell_type": "code",
   "execution_count": 4,
   "metadata": {},
   "outputs": [],
   "source": [
    "options = webdriver.ChromeOptions()\n",
    "options.add_argument(\"--start-maximized\")\n",
    "# options.add_argument(\"--auto-open-devtools-for-tabs\")\n",
    "driver = webdriver.Chrome('chromedriver',options=options)"
   ]
  },
  {
   "cell_type": "code",
   "execution_count": 5,
   "metadata": {},
   "outputs": [],
   "source": [
    "time.sleep(3)\n",
    "driver.get(\"https://www.linkedin.com\")\n",
    "\n",
    "time.sleep(1)"
   ]
  },
  {
   "cell_type": "code",
   "execution_count": 6,
   "metadata": {},
   "outputs": [],
   "source": [
    "ls.Login(driver,user1,pass1)"
   ]
  },
  {
   "cell_type": "code",
   "execution_count": null,
   "metadata": {
    "scrolled": true
   },
   "outputs": [],
   "source": [
    "keyword = 'Applaudo Studios'  \n",
    "posts = ls.Posts_pagination(driver, keyword)\n",
    "\n",
    "# 5:16 min aprox"
   ]
  },
  {
   "cell_type": "code",
   "execution_count": null,
   "metadata": {},
   "outputs": [],
   "source": [
    "posts_df = pd.DataFrame(posts, columns=['post_url'])\n",
    "posts_df.to_csv('data/'+keyword+' posts_url.csv', index=False) "
   ]
  },
  {
   "cell_type": "code",
   "execution_count": 8,
   "metadata": {},
   "outputs": [
    {
     "data": {
      "text/html": [
       "<div>\n",
       "<style scoped>\n",
       "    .dataframe tbody tr th:only-of-type {\n",
       "        vertical-align: middle;\n",
       "    }\n",
       "\n",
       "    .dataframe tbody tr th {\n",
       "        vertical-align: top;\n",
       "    }\n",
       "\n",
       "    .dataframe thead th {\n",
       "        text-align: right;\n",
       "    }\n",
       "</style>\n",
       "<table border=\"1\" class=\"dataframe\">\n",
       "  <thead>\n",
       "    <tr style=\"text-align: right;\">\n",
       "      <th></th>\n",
       "      <th>post_url</th>\n",
       "    </tr>\n",
       "  </thead>\n",
       "  <tbody>\n",
       "    <tr>\n",
       "      <th>0</th>\n",
       "      <td>https://www.linkedin.com/feed/update/urn:li:ac...</td>\n",
       "    </tr>\n",
       "    <tr>\n",
       "      <th>1</th>\n",
       "      <td>https://www.linkedin.com/feed/update/urn:li:ac...</td>\n",
       "    </tr>\n",
       "    <tr>\n",
       "      <th>2</th>\n",
       "      <td>https://www.linkedin.com/feed/update/urn:li:ac...</td>\n",
       "    </tr>\n",
       "    <tr>\n",
       "      <th>3</th>\n",
       "      <td>https://www.linkedin.com/feed/update/urn:li:ac...</td>\n",
       "    </tr>\n",
       "    <tr>\n",
       "      <th>4</th>\n",
       "      <td>https://www.linkedin.com/feed/update/urn:li:ac...</td>\n",
       "    </tr>\n",
       "  </tbody>\n",
       "</table>\n",
       "</div>"
      ],
      "text/plain": [
       "                                            post_url\n",
       "0  https://www.linkedin.com/feed/update/urn:li:ac...\n",
       "1  https://www.linkedin.com/feed/update/urn:li:ac...\n",
       "2  https://www.linkedin.com/feed/update/urn:li:ac...\n",
       "3  https://www.linkedin.com/feed/update/urn:li:ac...\n",
       "4  https://www.linkedin.com/feed/update/urn:li:ac..."
      ]
     },
     "execution_count": 8,
     "metadata": {},
     "output_type": "execute_result"
    }
   ],
   "source": [
    "keyword = 'Applaudo Studios'  \n",
    "posts_url_df = pd.read_csv('data/'+keyword+' posts_url.csv')\n",
    "posts_url_df.head()"
   ]
  },
  {
   "cell_type": "code",
   "execution_count": 9,
   "metadata": {},
   "outputs": [],
   "source": [
    "# driver.find_element_by_tag_name('body').send_keys(Keys.CONTROL + Keys.SHIFT + 'I')\n",
    "driver.get(posts_url_df['post_url'][0])"
   ]
  },
  {
   "cell_type": "code",
   "execution_count": 10,
   "metadata": {},
   "outputs": [
    {
     "name": "stdout",
     "output_type": "stream",
     "text": [
      "media_url ['https://media-exp3.licdn.com/dms/image/C4D1FAQEfNOb1DM4-Gg/feedshare-document-images_480/1/1625675311597?e=1626804000&v=beta&t=CQjEr38Y3ev5yPqSFz_LekurNwpXwaw3dpL6zUIvPO0', 'https://media-exp3.licdn.com/dms/image/C4D1FAQEfNOb1DM4-Gg/feedshare-document-images_480/2/1625675311597?e=1626804000&v=beta&t=yd_LFAQ4NpNqD5t2khKZNzW6r6QTVb9ppFj8WpPw1iA', None]\n",
      "media_type Carousel\n"
     ]
    },
    {
     "data": {
      "text/html": [
       "<div>\n",
       "<style scoped>\n",
       "    .dataframe tbody tr th:only-of-type {\n",
       "        vertical-align: middle;\n",
       "    }\n",
       "\n",
       "    .dataframe tbody tr th {\n",
       "        vertical-align: top;\n",
       "    }\n",
       "\n",
       "    .dataframe thead th {\n",
       "        text-align: right;\n",
       "    }\n",
       "</style>\n",
       "<table border=\"1\" class=\"dataframe\">\n",
       "  <thead>\n",
       "    <tr style=\"text-align: right;\">\n",
       "      <th></th>\n",
       "      <th>post_url</th>\n",
       "      <th>author</th>\n",
       "      <th>author_url</th>\n",
       "      <th>author_type</th>\n",
       "      <th>description</th>\n",
       "      <th>media_type</th>\n",
       "      <th>media_url</th>\n",
       "    </tr>\n",
       "  </thead>\n",
       "  <tbody>\n",
       "    <tr>\n",
       "      <th>0</th>\n",
       "      <td>https://www.linkedin.com/feed/update/urn:li:ac...</td>\n",
       "      <td>Universidad Francisco Gavidia</td>\n",
       "      <td>https://www.linkedin.com/company/ufgoficial/</td>\n",
       "      <td>Company</td>\n",
       "      <td>Check these open positions at Applaudo Studios...</td>\n",
       "      <td>Carousel</td>\n",
       "      <td>[https://media-exp3.licdn.com/dms/image/C4D1FA...</td>\n",
       "    </tr>\n",
       "  </tbody>\n",
       "</table>\n",
       "</div>"
      ],
      "text/plain": [
       "                                            post_url  \\\n",
       "0  https://www.linkedin.com/feed/update/urn:li:ac...   \n",
       "\n",
       "                          author  \\\n",
       "0  Universidad Francisco Gavidia   \n",
       "\n",
       "                                     author_url author_type  \\\n",
       "0  https://www.linkedin.com/company/ufgoficial/     Company   \n",
       "\n",
       "                                         description media_type  \\\n",
       "0  Check these open positions at Applaudo Studios...   Carousel   \n",
       "\n",
       "                                           media_url  \n",
       "0  [https://media-exp3.licdn.com/dms/image/C4D1FA...  "
      ]
     },
     "execution_count": 10,
     "metadata": {},
     "output_type": "execute_result"
    }
   ],
   "source": [
    "driver.switch_to.default_content()\n",
    "post = ls.get_post(driver)\n",
    "post\n",
    "\n",
    "# Problemas con los carousels"
   ]
  },
  {
   "cell_type": "code",
   "execution_count": 13,
   "metadata": {},
   "outputs": [],
   "source": [
    "posts_urls = ['https://www.linkedin.com/feed/update/urn:li:activity:6688593423932424192/',\n",
    "'https://www.linkedin.com/feed/update/urn:li:activity:6689557892774858752/',\n",
    "'https://www.linkedin.com/feed/update/urn:li:activity:6695119377441804288/',\n",
    "'https://www.linkedin.com/feed/update/urn:li:activity:6705263454451752960/',\n",
    "'https://www.linkedin.com/feed/update/urn:li:activity:6707398072806236161/',\n",
    "'https://www.linkedin.com/feed/update/urn:li:activity:6709515706435674112/',\n",
    "'https://www.linkedin.com/feed/update/urn:li:activity:6713047756749058048/',\n",
    "'https://www.linkedin.com/feed/update/urn:li:activity:6714553580126314497/',\n",
    "'https://www.linkedin.com/feed/update/urn:li:activity:6724114753066717184/',\n",
    "'https://www.linkedin.com/feed/update/urn:li:activity:6738144657924079616/',\n",
    "'https://www.linkedin.com/feed/update/urn:li:activity:6749453090707050496/',\n",
    "'https://www.linkedin.com/feed/update/urn:li:activity:6754515053820608512/',\n",
    "'https://www.linkedin.com/feed/update/urn:li:activity:6755134707572244480/',\n",
    "'https://www.linkedin.com/feed/update/urn:li:activity:6768626089234460672/',\n",
    "'https://www.linkedin.com/feed/update/urn:li:activity:6767242673704230913/',\n",
    "'https://www.linkedin.com/feed/update/urn:li:activity:6774761877705781248/',\n",
    "'https://www.linkedin.com/feed/update/urn:li:activity:6787532268354228224/',\n",
    "'https://www.linkedin.com/feed/update/urn:li:activity:6792586051337678848/',\n",
    "'https://www.linkedin.com/feed/update/urn:li:activity:6792875985743200257/',\n",
    "'https://www.linkedin.com/feed/update/urn:li:activity:6792406178434424832/',\n",
    "'https://www.linkedin.com/feed/update/urn:li:activity:6793953548905312256/',\n",
    "'https://www.linkedin.com/feed/update/urn:li:activity:6793956545118949376/',\n",
    "'https://www.linkedin.com/feed/update/urn:li:activity:6800242334031196160/',\n",
    "'https://www.linkedin.com/feed/update/urn:li:activity:6800099016534220800/',\n",
    "'https://www.linkedin.com/feed/update/urn:li:activity:6807808563390529536/',\n",
    "'https://www.linkedin.com/feed/update/urn:li:activity:6805968702756925440/',\n",
    "'https://www.linkedin.com/feed/update/urn:li:activity:6808188203217035264/',\n",
    "'https://www.linkedin.com/feed/update/urn:li:activity:6799812628513382401/',\n",
    "'https://www.linkedin.com/feed/update/urn:li:activity:6816459257202966528/',\n",
    "'https://www.linkedin.com/feed/update/urn:li:activity:6819387677079609344/',\n",
    "'https://www.linkedin.com/feed/update/urn:li:activity:6820416752296497154/']"
   ]
  },
  {
   "cell_type": "code",
   "execution_count": 14,
   "metadata": {},
   "outputs": [
    {
     "data": {
      "text/plain": [
       "31"
      ]
     },
     "execution_count": 14,
     "metadata": {},
     "output_type": "execute_result"
    }
   ],
   "source": [
    "len(posts_urls)"
   ]
  },
  {
   "cell_type": "code",
   "execution_count": 12,
   "metadata": {},
   "outputs": [
    {
     "name": "stdout",
     "output_type": "stream",
     "text": [
      "media_url http://applaudostudios.com/careers\n",
      "media_type Shared link outside LinkedIn without image\n",
      "13\n",
      "media_url https://media-exp3.licdn.com/dms/image/C4E22AQHRbDc5xuA0mA/feedshare-shrink_800/0/1613436382082?e=1629331200&v=beta&t=J6gFQP_RZzxISYsIY-ihs3EvzcUKuF6bnGeReoOn1Ec\n",
      "media_type Single image\n",
      "14\n",
      "media_url https://msft.it/6001VEnXV\n",
      "media_type Shared link outside LinkedIn\n",
      "15\n",
      "media_url https://media-exp3.licdn.com/dms/image/C4E22AQHl9AxF_xOZig/feedshare-shrink_800/0/1618273798615?e=1629331200&v=beta&t=FrH679hQS6tcBapi22UklIIqDi2npD7CWKfMzwenDZc\n",
      "media_type Single image\n",
      "16\n",
      "media_url https://media-exp3.licdn.com/dms/image/C4E22AQF2M7buxobywA/feedshare-shrink_800/0/1619478713413?e=1629331200&v=beta&t=xWyCEh_LTMXb-_aYixUhbvwreinrq2mpza3oQK2wQQI\n",
      "media_type Single image\n",
      "17\n",
      "media_url https://media-exp3.licdn.com/dms/image/C4E22AQFujTHU-soy0Q/feedshare-shrink_800/0/1619547839869?e=1629331200&v=beta&t=2iQIfDcGVLbrOHqNcUtXLnv67QsUhwAiKDbYcS74p3Y\n",
      "media_type Single image\n",
      "18\n",
      "media_url \n",
      "media_type Other\n",
      "19\n",
      "media_url https://bidlab.org/es/noticias/1816/bid-lab-y-kodigo-capacitaran-1500-jovenes-en-el-primer-bootcamp-de-programacion-en-el\n",
      "media_type Shared link outside LinkedIn\n",
      "20\n",
      "media_url https://media-exp3.licdn.com/dms/image/C4E22AQFaOUkkEe8TBw/feedshare-shrink_800/0/1619805465161?e=1629331200&v=beta&t=7vY8eoLupAq-wmAQ-V4oDcVA6Y1fE554iXydthvqzfA\n",
      "media_type Single image\n",
      "21\n",
      "media_url https://media-exp3.licdn.com/dms/image/C4D22AQEqEfo-W_89Bw/feedshare-shrink_800/0/1621304113674?e=1629331200&v=beta&t=YxWLLtGnvijKvewK1nOzQhRjBWlzTvG_bQ0yRDENTVw\n",
      "media_type Single image\n",
      "22\n",
      "media_url https://media-exp3.licdn.com/dms/image/C4E22AQFJTxZAOiBS3Q/feedshare-shrink_800/0/1621269944718?e=1629331200&v=beta&t=a42Jc-_tyuJ7kPfRDNNbeTDJHC7GL-46sz2J0JAmvCc\n",
      "media_type Single image\n",
      "23\n",
      "media_url https://www.kornferry.com/insights/this-week-in-leadership/talent-crunch-future-of-work\n",
      "media_type Shared link outside LinkedIn\n",
      "24\n",
      "media_url https://media-exp3.licdn.com/dms/image/C4D22AQE_4ISpkIqe9g/feedshare-shrink_800/0/1622669386084?e=1629331200&v=beta&t=0r8f7cf-iESm5oHTXvudteRgA22oGqyNaznyjPOJA1g\n",
      "media_type Single image\n",
      "25\n",
      "media_url https://media-exp3.licdn.com/dms/image/C4E22AQFn-Hzdsq64TA/feedshare-shrink_800/0/1623198556358?e=1629331200&v=beta&t=Wi4X-G6I0JWxcadnOYcwcP1AWsiUYhGpyH3Dwz3qNso\n",
      "media_type Single image\n",
      "26\n",
      "media_url https://media-exp3.licdn.com/dms/image/C4E22AQEB6UxU_url5A/feedshare-shrink_800/0/1621201664359?e=1629331200&v=beta&t=idtOdVcOUZ-hmrSLUzyt2dbFYTZi73SH_GnIPzgZEDo\n",
      "media_type Single image\n",
      "27\n",
      "media_url ['https://media-exp3.licdn.com/dms/image/C4E22AQHVzjwZGQEaSA/feedshare-shrink_800/0/1625170529757?e=1629331200&v=beta&t=LdBOt8X6cLdnfUH7vOcbEAZt7X6yDnZdlsJy4czup_c', 'https://media-exp3.licdn.com/dms/image/C4E22AQFX3j7UikAm9w/feedshare-shrink_800/0/1625170528682?e=1629331200&v=beta&t=fP8rinofVY2q04Bzha0rIgFEYRWpEfTY0kYu9gDC8Xk', 'https://media-exp3.licdn.com/dms/image/C4E22AQG_wd6MBHIDvA/feedshare-shrink_800/0/1625170529370?e=1629331200&v=beta&t=934EnAf1v1IdTkyIfVaIkONprxlPmRy--nMWeDgCxo4', 'https://media-exp3.licdn.com/dms/image/C4E22AQHwgwXT2Nu2ow/feedshare-shrink_800/0/1625170527715?e=1629331200&v=beta&t=WHjE2eapT8xMioJsYZ1CfiSVwa8GejNiP5LXag1-ePs']\n",
      "media_type Multiple images\n",
      "28\n",
      "media_url https://media-exp3.licdn.com/dms/image/C4E22AQFHcZt7dZYBtA/feedshare-shrink_800/0/1625868719979?e=1629331200&v=beta&t=hgpD7Ie7-DdAxv2-RktH-ynlQdBIN5VeKjjgF8eDGF4\n",
      "media_type Single image\n",
      "29\n",
      "media_url https://open.spotify.com/episode/5wjIeZOUvzc0GqkUZsZFV5?si=6830b08858df4532\n",
      "media_type Shared link outside LinkedIn\n",
      "30\n"
     ]
    }
   ],
   "source": [
    "posts_reactions = pd.DataFrame()\n",
    "posts_comments = pd.DataFrame()\n",
    "posts = pd.DataFrame()\n",
    "\n",
    "# open chrome console\n",
    "\n",
    "for row in range(len(posts_urls)):\n",
    "    if row <= 12:\n",
    "        continue\n",
    "    driver.get(posts_urls[row])\n",
    "    time.sleep(2)\n",
    "    post = ls.get_post(driver)\n",
    "    posts = pd.concat([posts, post])\n",
    "    post_r = ls.get_post_reactions(driver)\n",
    "    posts_reactions = pd.concat([posts_reactions,post_r]) \n",
    "    post_c = ls.get_post_comments(driver)\n",
    "    posts_comments = pd.concat([posts_comments,post_c])\n",
    "    print(row)\n",
    "    \n",
    "    #1:52 horas, dio error en la 323 (iniciar en 322), por el formato de 1,764\n",
    "    # 25:30 min de 323 a 381\n",
    "    # total 2:16 horas\n",
    "    \n",
    "    \n",
    "posts.to_csv('data/'+keyword+' reshared-posts3.csv')\n",
    "posts_reactions.to_csv('data/'+keyword+' reshared-posts_reactions3.csv') \n",
    "posts_comments.to_csv('data/'+keyword+' reshared-posts_comments3.csv') "
   ]
  },
  {
   "cell_type": "code",
   "execution_count": null,
   "metadata": {},
   "outputs": [],
   "source": [
    "driver.find_element_by_xpath(\"//*[text()='Load more comments']\").click()"
   ]
  },
  {
   "cell_type": "code",
   "execution_count": null,
   "metadata": {},
   "outputs": [],
   "source": [
    "c = get_post_comments(driver)"
   ]
  },
  {
   "cell_type": "code",
   "execution_count": null,
   "metadata": {},
   "outputs": [],
   "source": [
    "posts_reactions = pd.DataFrame()\n",
    "posts_comments = pd.DataFrame()\n",
    "posts = pd.DataFrame()\n",
    "\n",
    "# open chrome console\n",
    "\n",
    "\n",
    "# driver.get(row)\n",
    "# time.sleep(2)\n",
    "# post = ls.get_post(driver)\n",
    "# posts = pd.concat([posts, post])\n",
    "# post_r = ls.get_post_reactions(driver)\n",
    "# posts_reactions = pd.concat([posts_reactions,post_r]) \n",
    "post_c = ls.get_post_comments(driver)\n",
    "posts_comments = pd.concat([posts_comments,post_c])\n",
    "#     print(i)\n",
    "    \n",
    "    #1:52 horas, dio error en la 323 (iniciar en 322), por el formato de 1,764\n",
    "    # 25:30 min de 323 a 381\n",
    "    # total 2:16 horas\n",
    "    \n",
    "    \n",
    "# posts.to_csv('data/'+keyword+' reshared-posts2.csv')\n",
    "# posts_reactions.to_csv('data/'+keyword+' reshared-posts_reactions2.csv') \n",
    "# posts_comments.to_csv('data/'+keyword+' reshared-posts_comments2.csv') "
   ]
  },
  {
   "cell_type": "code",
   "execution_count": null,
   "metadata": {},
   "outputs": [],
   "source": [
    "posts_comments.tail(10)"
   ]
  },
  {
   "cell_type": "code",
   "execution_count": null,
   "metadata": {},
   "outputs": [],
   "source": [
    "# posts.to_csv('data/'+keyword+' reshared-posts.csv')\n",
    "# posts_reactions.to_csv('data/'+keyword+' reshared-posts_reactions.csv') \n",
    "posts_comments.to_csv('data/'+keyword+' reshared-posts_comments2.csv') "
   ]
  },
  {
   "cell_type": "code",
   "execution_count": null,
   "metadata": {},
   "outputs": [],
   "source": [
    "driver.find_element_by_class_name(\n",
    "            'comments-sort-order-toggle__trigger.artdeco-dropdown__trigger.artdeco-dropdown__trigger--placement-bottom.ember-view').click()\n",
    "\n",
    "\n",
    "\n",
    "time.sleep(1)\n",
    "driver.find_element_by_xpath(\"//*[text()='Most recent']\").click()"
   ]
  },
  {
   "cell_type": "code",
   "execution_count": null,
   "metadata": {},
   "outputs": [],
   "source": [
    "posts_reactions = pd.DataFrame()\n",
    "posts_comments = pd.DataFrame()\n",
    "posts = pd.DataFrame()\n",
    "\n",
    "# open chrome console\n",
    "\n",
    "for i, row in posts_url_df.iterrows():\n",
    "    driver.get(row['post_url'])\n",
    "    time.sleep(2)\n",
    "    post = ls.get_post(driver)\n",
    "    posts = pd.concat([posts, post])\n",
    "    post_r = ls.get_post_reactions(driver)\n",
    "    posts_reactions = pd.concat([posts_reactions,post_r]) \n",
    "    post_c = ls.get_post_comments(driver)\n",
    "    posts_comments = pd.concat([posts_comments,post_c])\n",
    "    print(i)\n",
    "    \n",
    "    #1:52 horas, dio error en la 323 (iniciar en 322), por el formato de 1,764\n",
    "    # 25:30 min de 323 a 381\n",
    "    # total 2:16 horas\n",
    "    \n",
    "    \n",
    "posts.to_csv('data/'+keyword+' posts2.csv')\n",
    "posts_reactions.to_csv('data/'+keyword+' posts_reactions2.csv') \n",
    "posts_comments.to_csv('data/'+keyword+' posts_comments2.csv') "
   ]
  },
  {
   "cell_type": "code",
   "execution_count": null,
   "metadata": {},
   "outputs": [],
   "source": []
  },
  {
   "cell_type": "code",
   "execution_count": null,
   "metadata": {},
   "outputs": [],
   "source": [
    "\n",
    "\n",
    "element2 = driver.find_element_by_xpath(\"//div[@class='social-details-reactors-tab-body']\")\n",
    "elements3 = element2.find_elements_by_xpath(\".//div[@class='artdeco-entity-lockup__title ember-view']\")\n",
    "\n",
    "for element in elements3:\n",
    "    print(element.text)\n",
    "    "
   ]
  },
  {
   "cell_type": "code",
   "execution_count": null,
   "metadata": {},
   "outputs": [],
   "source": [
    "# 'https://www.linkedin.com/posts/anaromerolinkepower_equipopower-familiaempresarial-activity-6817819334484774912-B4R2/'\n",
    "# https://www.linkedin.com/posts/jorgebranger_nunca-dejes-pasar-una-oportunidad-por-estar-activity-6815238905818832896-ix4P/\n",
    "\n",
    "post_comments = get_post_comments(driver)\n",
    "post_comments.head()"
   ]
  },
  {
   "cell_type": "code",
   "execution_count": null,
   "metadata": {
    "scrolled": false
   },
   "outputs": [],
   "source": [
    "post_reactions_and_comments = pd.concat([post_reactions,post_comments])\n",
    "post_reactions_and_comments.to_csv('C:/Users/VanessaNunez/Downloads')"
   ]
  },
  {
   "cell_type": "code",
   "execution_count": null,
   "metadata": {},
   "outputs": [],
   "source": [
    "# fixed full\n",
    "# feed-shared-update-v2__description-wrapper"
   ]
  },
  {
   "cell_type": "code",
   "execution_count": null,
   "metadata": {},
   "outputs": [],
   "source": [
    "for k in reactors.keys():\n",
    "    print(k)"
   ]
  },
  {
   "cell_type": "code",
   "execution_count": null,
   "metadata": {},
   "outputs": [],
   "source": [
    "driver.execute_script(\"window.scrollTo(0, document.body.scrollHeight);\")"
   ]
  },
  {
   "cell_type": "code",
   "execution_count": null,
   "metadata": {},
   "outputs": [],
   "source": [
    "driver.find_elements_by_class_name('social-details-reactors-tab-body')"
   ]
  },
  {
   "cell_type": "code",
   "execution_count": null,
   "metadata": {},
   "outputs": [],
   "source": [
    "#driver.close()"
   ]
  },
  {
   "cell_type": "code",
   "execution_count": null,
   "metadata": {},
   "outputs": [],
   "source": [
    "driver.window_handles"
   ]
  },
  {
   "cell_type": "code",
   "execution_count": null,
   "metadata": {},
   "outputs": [],
   "source": [
    "driver.current_window_handle"
   ]
  },
  {
   "cell_type": "code",
   "execution_count": null,
   "metadata": {},
   "outputs": [],
   "source": [
    "def Posts(wd):\n",
    "    time.sleep(2)\n",
    "    # Click in Posts\n",
    "    posts_url = wd.current_url + \"posts/\"\n",
    "    wd.get(posts_url)\n",
    "    time.sleep(2)\n",
    "    \n",
    "    # Scroll till end of page\n",
    "    inicial_yoffset = 0\n",
    "    scrolled_yoffset = driver.execute_script(\"return window.pageYOffset;\") + 1 # Inicial return is 0\n",
    "\n",
    "    while scrolled_yoffset > inicial_yoffset:\n",
    "        inicial_yoffset = driver.execute_script(\"return window.pageYOffset;\")\n",
    "        driver.execute_script(f\"window.scrollTo(0,document.body.scrollHeight);\")\n",
    "        time.sleep(1)\n",
    "        scrolled_yoffset = driver.execute_script(\"return window.pageYOffset;\")\n",
    "        \n",
    "    # String to look\n",
    "    data_urn = 'urn:li:activity:'\n",
    "    posts = {}\n",
    "            \n",
    "    # Get posts url\n",
    "    for i in wd.find_elements_by_class_name(\"occludable-update.ember-view\"):\n",
    "        posts[i.get_attribute('href')] = 1\n",
    "\n",
    "    # Click next page\n",
    "    if j + 1 < n_pages:\n",
    "        wd.find_elements_by_class_name('artdeco-pagination__button.artdeco-pagination__button--next.artdeco-button.artdeco-button--muted.artdeco-button--icon-right.artdeco-button--1.artdeco-button--tertiary.ember-view')[0].click()\n",
    "\n",
    "    return posts\n",
    "        "
   ]
  },
  {
   "cell_type": "code",
   "execution_count": null,
   "metadata": {},
   "outputs": [],
   "source": []
  }
 ],
 "metadata": {
  "kernelspec": {
   "display_name": "Python 3",
   "language": "python",
   "name": "python3"
  },
  "language_info": {
   "codemirror_mode": {
    "name": "ipython",
    "version": 3
   },
   "file_extension": ".py",
   "mimetype": "text/x-python",
   "name": "python",
   "nbconvert_exporter": "python",
   "pygments_lexer": "ipython3",
   "version": "3.8.10"
  }
 },
 "nbformat": 4,
 "nbformat_minor": 4
}
