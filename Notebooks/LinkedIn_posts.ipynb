{
 "cells": [
  {
   "cell_type": "code",
   "execution_count": 1,
   "metadata": {},
   "outputs": [],
   "source": [
    "# import web driver\n",
    "from selenium import webdriver\n",
    "from selenium.webdriver.common.keys import Keys\n",
    "from Login_info import user as user1, password as pass1\n",
    "import time, math\n",
    "import pandas as pd"
   ]
  },
  {
   "cell_type": "code",
   "execution_count": 2,
   "metadata": {},
   "outputs": [],
   "source": [
    "options = webdriver.ChromeOptions()\n",
    "options.add_argument(\"--start-maximized\")\n",
    "driver = webdriver.Chrome('chromedriver',options=options)"
   ]
  },
  {
   "cell_type": "code",
   "execution_count": 3,
   "metadata": {},
   "outputs": [],
   "source": [
    "time.sleep(3)\n",
    "driver.get(\"https://www.linkedin.com\")\n",
    "\n",
    "time.sleep(1)"
   ]
  },
  {
   "cell_type": "code",
   "execution_count": 4,
   "metadata": {},
   "outputs": [],
   "source": [
    "def Login(wd, user,password):\n",
    "    # locate email form by_class_name\n",
    "    wd.find_element_by_id('session_key').send_keys(user)\n",
    "    time.sleep(1)\n",
    "    \n",
    "    # locate password form by_class_name\n",
    "    wd.find_element_by_id('session_password').send_keys(password)\n",
    "    \n",
    "    # locate submit button by_class_name\n",
    "    wd.find_element_by_class_name('sign-in-form__submit-button').click()\n",
    "    time.sleep(1)"
   ]
  },
  {
   "cell_type": "code",
   "execution_count": 5,
   "metadata": {},
   "outputs": [],
   "source": [
    "def Search_company(wd, company):\n",
    "    # Search bar\n",
    "    search = driver.find_element_by_class_name('search-global-typeahead__input.always-show-placeholder') \n",
    "    \n",
    "    # Write company name\n",
    "    search.send_keys(company_name)  \n",
    "    \n",
    "    # Wait\n",
    "    time.sleep(2)    \n",
    "    \n",
    "    search.send_keys(Keys.ENTER)\n",
    "    \n",
    "    time.sleep(2)"
   ]
  },
  {
   "cell_type": "code",
   "execution_count": 17,
   "metadata": {},
   "outputs": [],
   "source": [
    "def Posts_pagination(wd):\n",
    "    time.sleep(2)\n",
    "    \n",
    "    # Get number of total posts\n",
    "    wd.find_element_by_xpath(f'//button[contains(@aria-label,\"Posts\")]').click()\n",
    "    amount_of_posts=int(wd.find_element_by_class_name('pb2.t-black--light.t-14').text.split(' ')[0])\n",
    "    number_of_pages = math.ceil(amount_of_posts/10)\n",
    " \n",
    "    # String to look\n",
    "    href = 'https://www.linkedin.com/feed/update/urn:li:activity:'\n",
    "    posts = {}\n",
    "    \n",
    "    # For each page\n",
    "    for j in range(2):\n",
    "        wd.get(f'https://www.linkedin.com/search/results/content/?keywords=Applaudo%20Studios&origin=SWITCH_SEARCH_VERTICAL&page={j+1}')\n",
    "        print(f'Page: {j+1}')\n",
    "        time.sleep(2)\n",
    "        \n",
    "        # Get posts url\n",
    "        for i in wd.find_elements_by_xpath(f'//a[contains(@href,\"{href}\")]'):\n",
    "            posts[i.get_attribute('href')] = 1\n",
    "            \n",
    "    return list(posts)\n",
    "        "
   ]
  },
  {
   "cell_type": "code",
   "execution_count": 7,
   "metadata": {},
   "outputs": [],
   "source": [
    "def get_post_reactions(wd, post_url):\n",
    "    reactors_name = []\n",
    "    reactors_href = []\n",
    "    reactions_type = []\n",
    "    \n",
    "    reactions_window_btn = 'v-align-middle.social-details-social-counts__reactions-count'\n",
    "    reactions_window_class_name = 'artdeco-modal__content.social-details-reactors-modal__content.ember-view'\n",
    "    reactors_href_class_name = 'link-without-hover-state.ember-view'\n",
    "    reactors_name_class_name = 'artdeco-entity-lockup__title.ember-view'\n",
    "    reaction_class_name = 'reactions-icon.social-details-reactors-tab-body__icon.reactions-icon__consumption--small'\n",
    "    \n",
    "    # visiting post url\n",
    "    wd.get(post_url)\n",
    "    \n",
    "    # opening reactions window\n",
    "    reactions = wd.find_element_by_class_name(reactions_window_btn)\n",
    "    n_reactions = int(reactions.text)\n",
    "    reactions.click()\n",
    "    \n",
    "    # scroll down in reactions window\n",
    "    href = 'https://www.linkedin.com/in/'                            \n",
    "    panel = wd.find_element_by_class_name(reactions_window_class_name)\n",
    "    for i in range(int(n_reactions/10)+1):\n",
    "        wd.execute_script('arguments[0].scrollTop = arguments[0].scrollHeight', panel)\n",
    "        time.sleep(2)\n",
    "        \n",
    "    for reactor in wd.find_elements_by_class_name(reactors_href_class_name):\n",
    "        reactors_href.append(reactor.get_attribute('href'))\n",
    "        \n",
    "    time.sleep(2)\n",
    "    \n",
    "    for reactor in wd.find_elements_by_class_name(reactors_name_class_name):\n",
    "        reactors_name.append(reactor.text)\n",
    "        \n",
    "    time.sleep(2)\n",
    "        \n",
    "    for reaction in wd.find_elements_by_class_name(reaction_class_name):\n",
    "        reactions_type.append(reaction.get_attribute('alt'))\n",
    "    \n",
    "    time.sleep(2)\n",
    "                \n",
    "    reactions_dataframe = pd.DataFrame(columns=['username','profile_url','reaction'])\n",
    "    reactions_dataframe['username'] = reactors_name\n",
    "    reactions_dataframe['profile_url'] = reactors_href\n",
    "    reactions_dataframe['reaction'] = reactions_type\n",
    "    return reactions_dataframe"
   ]
  },
  {
   "cell_type": "code",
   "execution_count": 8,
   "metadata": {},
   "outputs": [],
   "source": [
    "def get_load_more_btn(wd):\n",
    "    try:\n",
    "        return wd.find_element_by_xpath(\"//*[text()='Load more comments']\")\n",
    "#         return wd.find_element_by_class_name('comments-comments-list__load-more-comments-button.artdeco-button.artdeco-button--muted.artdeco-button--1.artdeco-button--tertiary.ember-view')\n",
    "    except:\n",
    "        return 'Element not found'\n",
    "\n",
    "def get_post_comments(wd, post_url):\n",
    "    commentors_name = []\n",
    "    commentors_href=[]\n",
    "    comments=[]\n",
    "    \n",
    "    commentors_name_class_name = 'comments-post-meta__name-text.hoverable-link-text.mr1'\n",
    "    commentors_href_class_name = 'ember-view.comments-post-meta__profile-link.t-16.t-black.t-bold.tap-target'\n",
    "    comments_class_name = 'comments-comment-item__main-content.feed-shared-main-content--comment.t-14.t-black.t-normal'\n",
    "    \n",
    "    #visiting post url\n",
    "    wd.get(post_url)\n",
    "    \n",
    "    # loading all comments\n",
    "    load_more_btn = get_load_more_btn(wd)\n",
    "    \n",
    "    while(load_more_btn!='Element not found'):\n",
    "        load_more_btn.click()\n",
    "        time.sleep(3)\n",
    "        load_more_btn = get_load_more_btn(wd)\n",
    "        print(load_more_btn)\n",
    "        \n",
    "    for commentor in wd.find_elements_by_class_name(commentors_name_class_name):\n",
    "        commentors_name.append(commentor.text)\n",
    "    \n",
    "    time.sleep(2)\n",
    "        \n",
    "    for commentor in wd.find_elements_by_class_name(commentors_href_class_name):\n",
    "        commentors_href.append(commentor.get_attribute('href'))\n",
    "    \n",
    "    time.sleep(2)\n",
    "        \n",
    "    for comment in wd.find_elements_by_class_name(comments_class_name):\n",
    "        comments.append(comment.text)\n",
    "        \n",
    "                    \n",
    "    comments_dataframe = pd.DataFrame(columns=['username','profile_url','comment'])\n",
    "    comments_dataframe['username'] = commentors_name\n",
    "    comments_dataframe['profile_url'] = commentors_href\n",
    "    comments_dataframe['comment'] = comments\n",
    "    \n",
    "    return comments_dataframe"
   ]
  },
  {
   "cell_type": "code",
   "execution_count": 9,
   "metadata": {},
   "outputs": [],
   "source": [
    "Login(driver,user1,pass1)"
   ]
  },
  {
   "cell_type": "code",
   "execution_count": 10,
   "metadata": {},
   "outputs": [],
   "source": [
    "company_name = 'Applaudo Studios'  \n",
    "Search_company(driver,company_name)"
   ]
  },
  {
   "cell_type": "code",
   "execution_count": 18,
   "metadata": {},
   "outputs": [
    {
     "name": "stdout",
     "output_type": "stream",
     "text": [
      "Page: 1\n",
      "Page: 2\n"
     ]
    }
   ],
   "source": [
    "posts = Posts_pagination(driver)"
   ]
  },
  {
   "cell_type": "code",
   "execution_count": 19,
   "metadata": {},
   "outputs": [
    {
     "data": {
      "text/html": [
       "<div>\n",
       "<style scoped>\n",
       "    .dataframe tbody tr th:only-of-type {\n",
       "        vertical-align: middle;\n",
       "    }\n",
       "\n",
       "    .dataframe tbody tr th {\n",
       "        vertical-align: top;\n",
       "    }\n",
       "\n",
       "    .dataframe thead th {\n",
       "        text-align: right;\n",
       "    }\n",
       "</style>\n",
       "<table border=\"1\" class=\"dataframe\">\n",
       "  <thead>\n",
       "    <tr style=\"text-align: right;\">\n",
       "      <th></th>\n",
       "      <th>username</th>\n",
       "      <th>profile_url</th>\n",
       "      <th>reaction</th>\n",
       "    </tr>\n",
       "  </thead>\n",
       "  <tbody>\n",
       "    <tr>\n",
       "      <th>0</th>\n",
       "      <td>Dennis Cañas Barrientos</td>\n",
       "      <td>https://www.linkedin.com/in/dennis-ca%C3%B1as-...</td>\n",
       "      <td>LIKE</td>\n",
       "    </tr>\n",
       "    <tr>\n",
       "      <th>1</th>\n",
       "      <td>Evelyn Raquel Medina Cañas</td>\n",
       "      <td>https://www.linkedin.com/in/raquel-medina-ca%C...</td>\n",
       "      <td>LIKE</td>\n",
       "    </tr>\n",
       "    <tr>\n",
       "      <th>2</th>\n",
       "      <td>Jonathan David Fernandez Lopez</td>\n",
       "      <td>https://www.linkedin.com/in/jonathan-david-fer...</td>\n",
       "      <td>LIKE</td>\n",
       "    </tr>\n",
       "    <tr>\n",
       "      <th>3</th>\n",
       "      <td>Sharath Reddy Vutukur</td>\n",
       "      <td>https://www.linkedin.com/in/sharath-reddy-vutu...</td>\n",
       "      <td>LIKE</td>\n",
       "    </tr>\n",
       "    <tr>\n",
       "      <th>4</th>\n",
       "      <td>Sellinni Cordova</td>\n",
       "      <td>https://www.linkedin.com/in/sellinni-cordova-2...</td>\n",
       "      <td>LIKE</td>\n",
       "    </tr>\n",
       "  </tbody>\n",
       "</table>\n",
       "</div>"
      ],
      "text/plain": [
       "                         username  \\\n",
       "0         Dennis Cañas Barrientos   \n",
       "1      Evelyn Raquel Medina Cañas   \n",
       "2  Jonathan David Fernandez Lopez   \n",
       "3           Sharath Reddy Vutukur   \n",
       "4                Sellinni Cordova   \n",
       "\n",
       "                                         profile_url reaction  \n",
       "0  https://www.linkedin.com/in/dennis-ca%C3%B1as-...     LIKE  \n",
       "1  https://www.linkedin.com/in/raquel-medina-ca%C...     LIKE  \n",
       "2  https://www.linkedin.com/in/jonathan-david-fer...     LIKE  \n",
       "3  https://www.linkedin.com/in/sharath-reddy-vutu...     LIKE  \n",
       "4  https://www.linkedin.com/in/sellinni-cordova-2...     LIKE  "
      ]
     },
     "execution_count": 19,
     "metadata": {},
     "output_type": "execute_result"
    }
   ],
   "source": [
    "post_reactions = get_post_reactions(driver, posts[0])\n",
    "post_reactions.head()"
   ]
  },
  {
   "cell_type": "code",
   "execution_count": 20,
   "metadata": {},
   "outputs": [
    {
     "name": "stdout",
     "output_type": "stream",
     "text": [
      "Element not found\n"
     ]
    },
    {
     "data": {
      "text/html": [
       "<div>\n",
       "<style scoped>\n",
       "    .dataframe tbody tr th:only-of-type {\n",
       "        vertical-align: middle;\n",
       "    }\n",
       "\n",
       "    .dataframe tbody tr th {\n",
       "        vertical-align: top;\n",
       "    }\n",
       "\n",
       "    .dataframe thead th {\n",
       "        text-align: right;\n",
       "    }\n",
       "</style>\n",
       "<table border=\"1\" class=\"dataframe\">\n",
       "  <thead>\n",
       "    <tr style=\"text-align: right;\">\n",
       "      <th></th>\n",
       "      <th>username</th>\n",
       "      <th>profile_url</th>\n",
       "      <th>comment</th>\n",
       "    </tr>\n",
       "  </thead>\n",
       "  <tbody>\n",
       "    <tr>\n",
       "      <th>0</th>\n",
       "      <td>Francisco Jose Menendez Vasquez</td>\n",
       "      <td>https://www.linkedin.com/in/francisco-jose-men...</td>\n",
       "      <td>Congrats Marce</td>\n",
       "    </tr>\n",
       "    <tr>\n",
       "      <th>1</th>\n",
       "      <td>Moris Ramos</td>\n",
       "      <td>https://www.linkedin.com/in/moris-ramos-558ba755/</td>\n",
       "      <td>Más que orgulloso de vos!</td>\n",
       "    </tr>\n",
       "    <tr>\n",
       "      <th>2</th>\n",
       "      <td>Laura Escobar</td>\n",
       "      <td>https://www.linkedin.com/in/laura-escobar-b1a9...</td>\n",
       "      <td>Felicidades Carlitos</td>\n",
       "    </tr>\n",
       "    <tr>\n",
       "      <th>3</th>\n",
       "      <td>Frederic Orellana</td>\n",
       "      <td>https://www.linkedin.com/in/frederic-orellana-...</td>\n",
       "      <td>En hora bueno bro! Felicidades 👏</td>\n",
       "    </tr>\n",
       "    <tr>\n",
       "      <th>4</th>\n",
       "      <td>Nelson René Ramírez Orellana</td>\n",
       "      <td>https://www.linkedin.com/in/nelson-ren%C3%A9-r...</td>\n",
       "      <td>Felicidades Marce!</td>\n",
       "    </tr>\n",
       "  </tbody>\n",
       "</table>\n",
       "</div>"
      ],
      "text/plain": [
       "                          username  \\\n",
       "0  Francisco Jose Menendez Vasquez   \n",
       "1                      Moris Ramos   \n",
       "2                    Laura Escobar   \n",
       "3                Frederic Orellana   \n",
       "4     Nelson René Ramírez Orellana   \n",
       "\n",
       "                                         profile_url  \\\n",
       "0  https://www.linkedin.com/in/francisco-jose-men...   \n",
       "1  https://www.linkedin.com/in/moris-ramos-558ba755/   \n",
       "2  https://www.linkedin.com/in/laura-escobar-b1a9...   \n",
       "3  https://www.linkedin.com/in/frederic-orellana-...   \n",
       "4  https://www.linkedin.com/in/nelson-ren%C3%A9-r...   \n",
       "\n",
       "                            comment  \n",
       "0                    Congrats Marce  \n",
       "1         Más que orgulloso de vos!  \n",
       "2              Felicidades Carlitos  \n",
       "3  En hora bueno bro! Felicidades 👏  \n",
       "4                Felicidades Marce!  "
      ]
     },
     "execution_count": 20,
     "metadata": {},
     "output_type": "execute_result"
    }
   ],
   "source": [
    "# NOMBRE DE LAS FUNCIONES\n",
    "# make loading comments work\n",
    "# driver.get(posts[2])\n",
    "# 'https://www.linkedin.com/posts/anaromerolinkepower_equipopower-familiaempresarial-activity-6817819334484774912-B4R2/'\n",
    "\n",
    "post_comments = get_post_comments(driver, posts[2])\n",
    "post_comments.head()"
   ]
  },
  {
   "cell_type": "code",
   "execution_count": 22,
   "metadata": {
    "scrolled": false
   },
   "outputs": [
    {
     "ename": "PermissionError",
     "evalue": "[Errno 13] Permission denied: 'C:/Users/VanessaNunez/Downloads'",
     "output_type": "error",
     "traceback": [
      "\u001b[1;31m---------------------------------------------------------------------------\u001b[0m",
      "\u001b[1;31mPermissionError\u001b[0m                           Traceback (most recent call last)",
      "\u001b[1;32m<ipython-input-22-7ca2d48d9905>\u001b[0m in \u001b[0;36m<module>\u001b[1;34m\u001b[0m\n\u001b[0;32m      1\u001b[0m \u001b[0mpost_reactions_and_comments\u001b[0m \u001b[1;33m=\u001b[0m \u001b[0mpd\u001b[0m\u001b[1;33m.\u001b[0m\u001b[0mconcat\u001b[0m\u001b[1;33m(\u001b[0m\u001b[1;33m[\u001b[0m\u001b[0mpost_reactions\u001b[0m\u001b[1;33m,\u001b[0m\u001b[0mpost_comments\u001b[0m\u001b[1;33m]\u001b[0m\u001b[1;33m)\u001b[0m\u001b[1;33m\u001b[0m\u001b[1;33m\u001b[0m\u001b[0m\n\u001b[1;32m----> 2\u001b[1;33m \u001b[0mpost_reactions_and_comments\u001b[0m\u001b[1;33m.\u001b[0m\u001b[0mto_csv\u001b[0m\u001b[1;33m(\u001b[0m\u001b[1;34m'C:/Users/VanessaNunez/Downloads'\u001b[0m\u001b[1;33m)\u001b[0m\u001b[1;33m\u001b[0m\u001b[1;33m\u001b[0m\u001b[0m\n\u001b[0m",
      "\u001b[1;32mc:\\users\\vanessanunez\\appdata\\local\\programs\\python\\python38\\lib\\site-packages\\pandas\\core\\generic.py\u001b[0m in \u001b[0;36mto_csv\u001b[1;34m(self, path_or_buf, sep, na_rep, float_format, columns, header, index, index_label, mode, encoding, compression, quoting, quotechar, line_terminator, chunksize, date_format, doublequote, escapechar, decimal, errors, storage_options)\u001b[0m\n\u001b[0;32m   3461\u001b[0m         )\n\u001b[0;32m   3462\u001b[0m \u001b[1;33m\u001b[0m\u001b[0m\n\u001b[1;32m-> 3463\u001b[1;33m         return DataFrameRenderer(formatter).to_csv(\n\u001b[0m\u001b[0;32m   3464\u001b[0m             \u001b[0mpath_or_buf\u001b[0m\u001b[1;33m,\u001b[0m\u001b[1;33m\u001b[0m\u001b[1;33m\u001b[0m\u001b[0m\n\u001b[0;32m   3465\u001b[0m             \u001b[0mline_terminator\u001b[0m\u001b[1;33m=\u001b[0m\u001b[0mline_terminator\u001b[0m\u001b[1;33m,\u001b[0m\u001b[1;33m\u001b[0m\u001b[1;33m\u001b[0m\u001b[0m\n",
      "\u001b[1;32mc:\\users\\vanessanunez\\appdata\\local\\programs\\python\\python38\\lib\\site-packages\\pandas\\io\\formats\\format.py\u001b[0m in \u001b[0;36mto_csv\u001b[1;34m(self, path_or_buf, encoding, sep, columns, index_label, mode, compression, quoting, quotechar, line_terminator, chunksize, date_format, doublequote, escapechar, errors, storage_options)\u001b[0m\n\u001b[0;32m   1103\u001b[0m             \u001b[0mformatter\u001b[0m\u001b[1;33m=\u001b[0m\u001b[0mself\u001b[0m\u001b[1;33m.\u001b[0m\u001b[0mfmt\u001b[0m\u001b[1;33m,\u001b[0m\u001b[1;33m\u001b[0m\u001b[1;33m\u001b[0m\u001b[0m\n\u001b[0;32m   1104\u001b[0m         )\n\u001b[1;32m-> 1105\u001b[1;33m         \u001b[0mcsv_formatter\u001b[0m\u001b[1;33m.\u001b[0m\u001b[0msave\u001b[0m\u001b[1;33m(\u001b[0m\u001b[1;33m)\u001b[0m\u001b[1;33m\u001b[0m\u001b[1;33m\u001b[0m\u001b[0m\n\u001b[0m\u001b[0;32m   1106\u001b[0m \u001b[1;33m\u001b[0m\u001b[0m\n\u001b[0;32m   1107\u001b[0m         \u001b[1;32mif\u001b[0m \u001b[0mcreated_buffer\u001b[0m\u001b[1;33m:\u001b[0m\u001b[1;33m\u001b[0m\u001b[1;33m\u001b[0m\u001b[0m\n",
      "\u001b[1;32mc:\\users\\vanessanunez\\appdata\\local\\programs\\python\\python38\\lib\\site-packages\\pandas\\io\\formats\\csvs.py\u001b[0m in \u001b[0;36msave\u001b[1;34m(self)\u001b[0m\n\u001b[0;32m    235\u001b[0m         \"\"\"\n\u001b[0;32m    236\u001b[0m         \u001b[1;31m# apply compression and byte/text conversion\u001b[0m\u001b[1;33m\u001b[0m\u001b[1;33m\u001b[0m\u001b[1;33m\u001b[0m\u001b[0m\n\u001b[1;32m--> 237\u001b[1;33m         with get_handle(\n\u001b[0m\u001b[0;32m    238\u001b[0m             \u001b[0mself\u001b[0m\u001b[1;33m.\u001b[0m\u001b[0mfilepath_or_buffer\u001b[0m\u001b[1;33m,\u001b[0m\u001b[1;33m\u001b[0m\u001b[1;33m\u001b[0m\u001b[0m\n\u001b[0;32m    239\u001b[0m             \u001b[0mself\u001b[0m\u001b[1;33m.\u001b[0m\u001b[0mmode\u001b[0m\u001b[1;33m,\u001b[0m\u001b[1;33m\u001b[0m\u001b[1;33m\u001b[0m\u001b[0m\n",
      "\u001b[1;32mc:\\users\\vanessanunez\\appdata\\local\\programs\\python\\python38\\lib\\site-packages\\pandas\\io\\common.py\u001b[0m in \u001b[0;36mget_handle\u001b[1;34m(path_or_buf, mode, encoding, compression, memory_map, is_text, errors, storage_options)\u001b[0m\n\u001b[0;32m    699\u001b[0m         \u001b[1;32mif\u001b[0m \u001b[0mioargs\u001b[0m\u001b[1;33m.\u001b[0m\u001b[0mencoding\u001b[0m \u001b[1;32mand\u001b[0m \u001b[1;34m\"b\"\u001b[0m \u001b[1;32mnot\u001b[0m \u001b[1;32min\u001b[0m \u001b[0mioargs\u001b[0m\u001b[1;33m.\u001b[0m\u001b[0mmode\u001b[0m\u001b[1;33m:\u001b[0m\u001b[1;33m\u001b[0m\u001b[1;33m\u001b[0m\u001b[0m\n\u001b[0;32m    700\u001b[0m             \u001b[1;31m# Encoding\u001b[0m\u001b[1;33m\u001b[0m\u001b[1;33m\u001b[0m\u001b[1;33m\u001b[0m\u001b[0m\n\u001b[1;32m--> 701\u001b[1;33m             handle = open(\n\u001b[0m\u001b[0;32m    702\u001b[0m                 \u001b[0mhandle\u001b[0m\u001b[1;33m,\u001b[0m\u001b[1;33m\u001b[0m\u001b[1;33m\u001b[0m\u001b[0m\n\u001b[0;32m    703\u001b[0m                 \u001b[0mioargs\u001b[0m\u001b[1;33m.\u001b[0m\u001b[0mmode\u001b[0m\u001b[1;33m,\u001b[0m\u001b[1;33m\u001b[0m\u001b[1;33m\u001b[0m\u001b[0m\n",
      "\u001b[1;31mPermissionError\u001b[0m: [Errno 13] Permission denied: 'C:/Users/VanessaNunez/Downloads'"
     ]
    }
   ],
   "source": [
    "post_reactions_and_comments = pd.concat([post_reactions,post_comments])\n",
    "post_reactions_and_comments.to_csv('C:/Users/VanessaNunez/Downloads')"
   ]
  },
  {
   "cell_type": "code",
   "execution_count": null,
   "metadata": {},
   "outputs": [],
   "source": [
    "# reactions-icon social-details-reactors-tab-body__icon reactions-icon__consumption--small\n",
    "# funcion que te devuelva nombre, href perfil, reaction\n",
    "# given the post, returns name, href y reactions\n",
    "# luego comentarios\n",
    "# juntar comentarios y reacciones\n",
    "# guardar en el csv\n",
    "\n",
    "# NOMBRE DE LAS FUNCIONES"
   ]
  },
  {
   "cell_type": "code",
   "execution_count": null,
   "metadata": {},
   "outputs": [],
   "source": [
    "for k in reactors.keys():\n",
    "    print(k)"
   ]
  },
  {
   "cell_type": "code",
   "execution_count": null,
   "metadata": {},
   "outputs": [],
   "source": [
    "driver.execute_script(\"window.scrollTo(0, document.body.scrollHeight);\")"
   ]
  },
  {
   "cell_type": "code",
   "execution_count": null,
   "metadata": {},
   "outputs": [],
   "source": [
    "driver.find_elements_by_class_name('social-details-reactors-tab-body')"
   ]
  },
  {
   "cell_type": "code",
   "execution_count": null,
   "metadata": {},
   "outputs": [],
   "source": [
    "#driver.close()"
   ]
  },
  {
   "cell_type": "code",
   "execution_count": null,
   "metadata": {},
   "outputs": [],
   "source": [
    "driver.window_handles"
   ]
  },
  {
   "cell_type": "code",
   "execution_count": null,
   "metadata": {},
   "outputs": [],
   "source": [
    "driver.current_window_handle"
   ]
  },
  {
   "cell_type": "code",
   "execution_count": null,
   "metadata": {},
   "outputs": [],
   "source": [
    "def Posts(wd):\n",
    "    time.sleep(2)\n",
    "    # Click in Posts\n",
    "    posts_url = wd.current_url + \"posts/\"\n",
    "    wd.get(posts_url)\n",
    "    time.sleep(2)\n",
    "    \n",
    "    # Scroll till end of page\n",
    "    inicial_yoffset = 0\n",
    "    scrolled_yoffset = driver.execute_script(\"return window.pageYOffset;\") + 1 # Inicial return is 0\n",
    "\n",
    "    while scrolled_yoffset > inicial_yoffset:\n",
    "        inicial_yoffset = driver.execute_script(\"return window.pageYOffset;\")\n",
    "        driver.execute_script(f\"window.scrollTo(0,document.body.scrollHeight);\")\n",
    "        time.sleep(1)\n",
    "        scrolled_yoffset = driver.execute_script(\"return window.pageYOffset;\")\n",
    "        \n",
    "    # String to look\n",
    "    data_urn = 'urn:li:activity:'\n",
    "    posts = {}\n",
    "            \n",
    "    # Get posts url\n",
    "    for i in wd.find_elements_by_class_name(\"occludable-update.ember-view\"):\n",
    "        posts[i.get_attribute('href')] = 1\n",
    "\n",
    "    # Click next page\n",
    "    if j + 1 < n_pages:\n",
    "        wd.find_elements_by_class_name('artdeco-pagination__button.artdeco-pagination__button--next.artdeco-button.artdeco-button--muted.artdeco-button--icon-right.artdeco-button--1.artdeco-button--tertiary.ember-view')[0].click()\n",
    "\n",
    "    return posts\n",
    "        "
   ]
  }
 ],
 "metadata": {
  "kernelspec": {
   "display_name": "Python 3",
   "language": "python",
   "name": "python3"
  },
  "language_info": {
   "codemirror_mode": {
    "name": "ipython",
    "version": 3
   },
   "file_extension": ".py",
   "mimetype": "text/x-python",
   "name": "python",
   "nbconvert_exporter": "python",
   "pygments_lexer": "ipython3",
   "version": "3.8.10"
  }
 },
 "nbformat": 4,
 "nbformat_minor": 4
}
