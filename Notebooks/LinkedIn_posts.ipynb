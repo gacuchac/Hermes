{
 "cells": [
  {
   "cell_type": "code",
   "execution_count": 1,
   "metadata": {},
   "outputs": [],
   "source": [
    "# import web driver\n",
    "from selenium import webdriver\n",
    "from selenium.webdriver.common.keys import Keys\n",
    "from Login_info import user as user1, password as pass1\n",
    "import time"
   ]
  },
  {
   "cell_type": "code",
   "execution_count": 2,
   "metadata": {},
   "outputs": [],
   "source": [
    "options = webdriver.ChromeOptions()\n",
    "options.add_argument(\"--start-maximized\")\n",
    "driver = webdriver.Chrome('chromedriver',options=options)"
   ]
  },
  {
   "cell_type": "code",
   "execution_count": 3,
   "metadata": {},
   "outputs": [],
   "source": [
    "time.sleep(3)\n",
    "driver.get(\"https://www.linkedin.com\")\n",
    "\n",
    "time.sleep(1)"
   ]
  },
  {
   "cell_type": "code",
   "execution_count": 4,
   "metadata": {},
   "outputs": [],
   "source": [
    "def Login(wd, user,password):\n",
    "    # locate email form by_class_name\n",
    "    wd.find_element_by_id('session_key').send_keys(user)\n",
    "    time.sleep(1)\n",
    "    \n",
    "    # locate password form by_class_name\n",
    "    wd.find_element_by_id('session_password').send_keys(password)\n",
    "    \n",
    "    # locate submit button by_class_name\n",
    "    wd.find_element_by_class_name('sign-in-form__submit-button').click()\n",
    "    time.sleep(1)"
   ]
  },
  {
   "cell_type": "code",
   "execution_count": 5,
   "metadata": {},
   "outputs": [],
   "source": [
    "def Search_company(wd, company):\n",
    "    # Search bar\n",
    "    search = driver.find_element_by_class_name('search-global-typeahead__input.always-show-placeholder') \n",
    "    \n",
    "    # Write company name\n",
    "    search.send_keys(company_name)  \n",
    "    \n",
    "    # Wait\n",
    "    time.sleep(2)    \n",
    "\n",
    "    # Select\n",
    "    search.send_keys(Keys.ENTER) \n",
    "    time.sleep(2)"
   ]
  },
  {
   "cell_type": "code",
   "execution_count": 6,
   "metadata": {},
   "outputs": [],
   "source": [
    "def Posts(wd):\n",
    "    time.sleep(2)\n",
    "    # Click in Posts\n",
    "    wd.find_elements_by_class_name('artdeco-pill.artdeco-pill--slate.artdeco-pill--2.artdeco-pill--choice.ember-view.search-reusables__filter-pill-button')[1].click() \n",
    "    time.sleep(2)\n",
    "    \n",
    "    # Get number of total posts\n",
    "    n_posts = int(driver.find_element_by_class_name('pb2.t-black--light.t-14').text.split(' ')[0])\n",
    "    last_page = 0 if n_posts%10 == 0 else 1\n",
    "    n_pages = int(n_posts/10) + last_page\n",
    "    print(n_pages)\n",
    " \n",
    "    # String to look\n",
    "    href = 'https://www.linkedin.com/feed/update/urn:li:activity:'\n",
    "    posts = {}\n",
    "    \n",
    "    # For each page\n",
    "    for j in range(n_pages):\n",
    "        print(f'Page: {j+1}')\n",
    "        time.sleep(2)\n",
    "        # Scroll to the end\n",
    "        wd.execute_script(f\"window.scrollTo(0, {10000});\")\n",
    "        \n",
    "        # Get posts url\n",
    "        for i in wd.find_elements_by_xpath(f'//a[contains(@href,\"{href}\")]'):\n",
    "            posts[i.get_attribute('href')] = 1\n",
    "        \n",
    "        # Click next page\n",
    "        if j + 1 < n_pages:\n",
    "            wd.find_elements_by_class_name('artdeco-pagination__button.artdeco-pagination__button--next.artdeco-button.artdeco-button--muted.artdeco-button--icon-right.artdeco-button--1.artdeco-button--tertiary.ember-view')[0].click()\n",
    "        \n",
    "    return posts\n",
    "        "
   ]
  },
  {
   "cell_type": "code",
   "execution_count": 7,
   "metadata": {},
   "outputs": [],
   "source": [
    "Login(driver,user1,pass1)"
   ]
  },
  {
   "cell_type": "code",
   "execution_count": 8,
   "metadata": {},
   "outputs": [],
   "source": [
    "company_name = 'Applaudo Studios'  \n",
    "Search_company(driver,company_name)"
   ]
  },
  {
   "cell_type": "code",
   "execution_count": 9,
   "metadata": {},
   "outputs": [
    {
     "name": "stdout",
     "output_type": "stream",
     "text": [
      "38\n",
      "Page: 1\n",
      "Page: 2\n",
      "Page: 3\n",
      "Page: 4\n",
      "Page: 5\n",
      "Page: 6\n",
      "Page: 7\n",
      "Page: 8\n",
      "Page: 9\n",
      "Page: 10\n",
      "Page: 11\n",
      "Page: 12\n",
      "Page: 13\n",
      "Page: 14\n",
      "Page: 15\n",
      "Page: 16\n",
      "Page: 17\n",
      "Page: 18\n",
      "Page: 19\n",
      "Page: 20\n",
      "Page: 21\n",
      "Page: 22\n",
      "Page: 23\n",
      "Page: 24\n",
      "Page: 25\n",
      "Page: 26\n",
      "Page: 27\n",
      "Page: 28\n",
      "Page: 29\n",
      "Page: 30\n",
      "Page: 31\n",
      "Page: 32\n",
      "Page: 33\n",
      "Page: 34\n",
      "Page: 35\n",
      "Page: 36\n",
      "Page: 37\n",
      "Page: 38\n"
     ]
    }
   ],
   "source": [
    "posts = Posts(driver)"
   ]
  },
  {
   "cell_type": "code",
   "execution_count": 70,
   "metadata": {},
   "outputs": [
    {
     "ename": "KeyboardInterrupt",
     "evalue": "",
     "output_type": "error",
     "traceback": [
      "\u001b[1;31m---------------------------------------------------------------------------\u001b[0m",
      "\u001b[1;31mKeyboardInterrupt\u001b[0m                         Traceback (most recent call last)",
      "\u001b[1;32m<ipython-input-70-076b5082a91f>\u001b[0m in \u001b[0;36m<module>\u001b[1;34m\u001b[0m\n\u001b[0;32m      1\u001b[0m \u001b[1;32mfor\u001b[0m \u001b[0mpost\u001b[0m\u001b[1;33m,\u001b[0m \u001b[0m_\u001b[0m \u001b[1;32min\u001b[0m \u001b[0mposts\u001b[0m\u001b[1;33m.\u001b[0m\u001b[0mitems\u001b[0m\u001b[1;33m(\u001b[0m\u001b[1;33m)\u001b[0m\u001b[1;33m:\u001b[0m\u001b[1;33m\u001b[0m\u001b[1;33m\u001b[0m\u001b[0m\n\u001b[0;32m      2\u001b[0m     \u001b[0mdriver\u001b[0m\u001b[1;33m.\u001b[0m\u001b[0mget\u001b[0m\u001b[1;33m(\u001b[0m\u001b[0mpost\u001b[0m\u001b[1;33m)\u001b[0m\u001b[1;33m\u001b[0m\u001b[1;33m\u001b[0m\u001b[0m\n\u001b[1;32m----> 3\u001b[1;33m     \u001b[0mtime\u001b[0m\u001b[1;33m.\u001b[0m\u001b[0msleep\u001b[0m\u001b[1;33m(\u001b[0m\u001b[1;36m1\u001b[0m\u001b[1;33m)\u001b[0m\u001b[1;33m\u001b[0m\u001b[1;33m\u001b[0m\u001b[0m\n\u001b[0m",
      "\u001b[1;31mKeyboardInterrupt\u001b[0m: "
     ]
    }
   ],
   "source": [
    "for post, _ in posts.items():\n",
    "    driver.get(post)\n",
    "    time.sleep(1)"
   ]
  },
  {
   "cell_type": "code",
   "execution_count": 83,
   "metadata": {},
   "outputs": [],
   "source": [
    "reactions = driver.find_element_by_class_name('v-align-middle.social-details-social-counts__reactions-count')\n",
    "n_reactions = int(reactions.text)\n",
    "reactions.click()"
   ]
  },
  {
   "cell_type": "code",
   "execution_count": 84,
   "metadata": {},
   "outputs": [],
   "source": [
    "href = 'https://www.linkedin.com/in/'\n",
    "reactors = {}                              \n",
    "panel = driver.find_element_by_class_name('artdeco-modal__content.social-details-reactors-modal__content.ember-view')\n",
    "for i in range(int(n_reactions/10)+1):\n",
    "    driver.execute_script('arguments[0].scrollTop = arguments[0].scrollHeight', panel)\n",
    "    time.sleep(2)\n"
   ]
  },
  {
   "cell_type": "code",
   "execution_count": 85,
   "metadata": {},
   "outputs": [],
   "source": [
    "time.sleep(2)\n",
    "for i in driver.find_elements_by_xpath(f'//a[contains(@href,\"{href}\")]'):\n",
    "    reactors[i.get_attribute('href')] = 1"
   ]
  },
  {
   "cell_type": "code",
   "execution_count": 86,
   "metadata": {},
   "outputs": [
    {
     "data": {
      "text/plain": [
       "107"
      ]
     },
     "execution_count": 86,
     "metadata": {},
     "output_type": "execute_result"
    }
   ],
   "source": [
    "len(reactors)"
   ]
  },
  {
   "cell_type": "code",
   "execution_count": null,
   "metadata": {},
   "outputs": [],
   "source": []
  },
  {
   "cell_type": "code",
   "execution_count": 87,
   "metadata": {},
   "outputs": [
    {
     "name": "stdout",
     "output_type": "stream",
     "text": [
      "https://www.linkedin.com/in/ilsie-mercadillo-7650b5189?miniProfileUrn=urn%3Ali%3Afs_miniProfile%3AACoAACxUsP0BixQvu-O6JdI0Vov4MjgxEmIB7PU\n",
      "https://www.linkedin.com/in/boris-estrada?miniProfileUrn=urn%3Ali%3Afs_miniProfile%3AACoAAB88Zn8Bx57dWMq1N5rKipvVQPhiLw4-1Os\n",
      "https://www.linkedin.com/in/rbhg?miniProfileUrn=urn%3Ali%3Afs_miniProfile%3AACoAAC4AVf8B5ztHq3SfVpioX3GzNvRtdPCi4Lw\n",
      "https://www.linkedin.com/in/rodrigo-hernandezdev?miniProfileUrn=urn%3Ali%3Afs_miniProfile%3AACoAAC7ZXMEBNENMXbBAyQXdAvd9uCU4P7isIYU\n",
      "https://www.linkedin.com/in/baltazar-m-9070b347?miniProfileUrn=urn%3Ali%3Afs_miniProfile%3AACoAAAnNhFcBe74G2E1xJghtfBb7Y5I3S33g46o\n",
      "https://www.linkedin.com/in/miguel-antonio-giacoman-a1112b113?miniProfileUrn=urn%3Ali%3Afs_miniProfile%3AACoAABxRLe0B5ncWWzctu4naHskPr364GplNKYU\n",
      "https://www.linkedin.com/in/cesarbendeck?miniProfileUrn=urn%3Ali%3Afs_miniProfile%3AACoAADABYWEB-tMWTUoPxEwbG5xjCrihTAq4Dqk\n",
      "https://www.linkedin.com/in/marlon-ch%C3%A1vez-aa6026125?miniProfileUrn=urn%3Ali%3Afs_miniProfile%3AACoAAB7LIJ4BNJzRbVje_9iyp0iCZKdATSejzpo\n",
      "https://www.linkedin.com/in/luis-manuel-velarde-garc%C3%ADa-71815a14?miniProfileUrn=urn%3Ali%3Afs_miniProfile%3AACoAAALeqIQBfwc1-o4xSVPDbUmk1Z21TtFEgAs\n",
      "https://www.linkedin.com/in/patricia-castillo-1994446b?miniProfileUrn=urn%3Ali%3Afs_miniProfile%3AACoAAA7WQAUB-UKDw4m0MAHqRQtwYg56TJvKlLk\n",
      "https://www.linkedin.com/in/ACoAAAVJpmsBy4cf1blPevGjqPkfEKdPfo7kkWQ\n",
      "https://www.linkedin.com/in/ACoAABXFRUkBb8VWYlmf7n4pMX9byofMsw77D_Q\n",
      "https://www.linkedin.com/in/ACoAAA21TfIBIU0nZh-hL1BDB3zTGyN1HL5YUjo\n",
      "https://www.linkedin.com/in/ACoAAABOLd0BXJ4zyMmtyp1SI3KIywKVk4Wf9i4\n",
      "https://www.linkedin.com/in/ACoAAAiLWVsBzuSzkqZc4DUg6ooj2jRjR74zQuI\n",
      "https://www.linkedin.com/in/ACoAABjImXEBnwWlIylIPzOXWSIBTGAcfvdD5dM\n",
      "https://www.linkedin.com/in/ACoAABFqfToBDqE-fYNR68mPxdUm-4U0QPLqePU\n",
      "https://www.linkedin.com/in/ACoAAAJDnkUB-clsDjZdPmBDu6ujlhwu0n_TDsM\n",
      "https://www.linkedin.com/in/ACoAAAxJadoBQvFuudmHExdpUj0gLqiNlQk7FCg\n",
      "https://www.linkedin.com/in/ACoAAAQf_LsBqqzXhCFP1xmiJDjLrIZRqS5O6dU\n",
      "https://www.linkedin.com/in/ACoAAAcuSKgBwPgAK-n9UbKI66rImstq4c-5Mdo\n",
      "https://www.linkedin.com/in/ACoAAAsNFlgBFAPSFAUobzGJrp326CJOI8tIARA\n",
      "https://www.linkedin.com/in/ACoAABNvHV8BJCaXa-HOCF3JqMjbvG73-WSy37g\n",
      "https://www.linkedin.com/in/ACoAACJeGXEBGlIs8o4hNMrHH8c0fmjEZdSWwlc\n",
      "https://www.linkedin.com/in/ACoAAARW9yQB7CgUYJeXwNGogQoO1-nP50uT5TY\n",
      "https://www.linkedin.com/in/ACoAAA2HRLcBgG6OHNFehTD2wzLuEvn_kQal4Yk\n",
      "https://www.linkedin.com/in/ACoAAAiUtfYBAK0Iq7JQPHpyi_h9sYN-vPHuQS8\n",
      "https://www.linkedin.com/in/ACoAAAaxsv0BliVd4gPwqKDVOqrAVtGCJhAhVOo\n",
      "https://www.linkedin.com/in/ACoAAB9Vuh4BmofxqTR_VBdgbOYhD0rNvG3m21o\n",
      "https://www.linkedin.com/in/ACoAAAp7o2gBqsattPkRDKJ6VteV7rIftIJakiU\n",
      "https://www.linkedin.com/in/ACoAAAI0sMIBBkWDxXphpYjjRXSUz-DPt_GwrBM\n",
      "https://www.linkedin.com/in/ACoAAArLpc4BMukpDhoEnWlaUOK78Qn_XqKoQ_w\n",
      "https://www.linkedin.com/in/ACoAAAFrIjIB3vfERgB48CPpD0pO67WLOMPFDkc\n",
      "https://www.linkedin.com/in/ACoAABdX1uQBPwxN67ZR_vLWVJi6KP6gblWineo\n",
      "https://www.linkedin.com/in/ACoAACXfUX0B3nYU7RUnelOBS_aE8m75XVJtWMQ\n",
      "https://www.linkedin.com/in/ACoAAAMRpj0BI5EvMEugzrzSUVN7OSpkBmGkdnE\n",
      "https://www.linkedin.com/in/ACoAABXtR6sBc6EplSZ5sIi0Zp9sxOflCmEwFZI\n",
      "https://www.linkedin.com/in/ACoAAB_NfN8B7gKUh35Hf3L5fgOauD9xru1_SpI\n",
      "https://www.linkedin.com/in/ACoAAAPooLUBPdYBW3lEbGtH5hJ4Jv_zAzONrVA\n",
      "https://www.linkedin.com/in/ACoAACk5jsABwYTM3fQx7Vfvy4m-ZYYQq0rtb9c\n",
      "https://www.linkedin.com/in/ACoAAC0W-dwBHW5DWWIPw1S3lhnC1XBpIICGcr8\n",
      "https://www.linkedin.com/in/ACoAACd9mToBWQRljYNkooULnpDOqoQTxYgG9C8\n",
      "https://www.linkedin.com/in/ACoAABL-JaYBq1lJGRjQTlTy2h7bKbBjAnzZLdM\n",
      "https://www.linkedin.com/in/ACoAACbAqeIBEiuOA6RndndtNI-Y0aCvM4V3yU8\n",
      "https://www.linkedin.com/in/ACoAAA_FESYB63ohVrx5bxH9XmPeVsWStw4VQX0\n",
      "https://www.linkedin.com/in/ACoAAB_P3GIBrt37dM2hfahCXWUPZe9mjJn-QXw\n",
      "https://www.linkedin.com/in/ACoAACIiPDMBKJukwgDuRu45N-NC-zi8sGrCQww\n",
      "https://www.linkedin.com/in/ACoAAAe_D1YBaIMps1vlwKYQpcykDNWncIN4QaE\n",
      "https://www.linkedin.com/in/ACoAAAIJJfABrluE0NW84bOUH_B_3T5D_wxgBxY\n",
      "https://www.linkedin.com/in/ACoAAAsHPhcBI8xBX74qdE1RvjGEp_SEuhCLqF0\n",
      "https://www.linkedin.com/in/ACoAAAdjyQ0BfnIfg0x6NJgjrlLMUFCVYMMWF_Y\n",
      "https://www.linkedin.com/in/ACoAAABa0nkBwMUfKvZFSokDcryPd_HzRKhmnxo\n",
      "https://www.linkedin.com/in/ACoAAAa5qeAB76u7GWQc8qvFRar8H781XlM_sCk\n",
      "https://www.linkedin.com/in/ACoAAAb_-boBUh5YA00lbalJ1FCpIRr4z1f_1qg\n",
      "https://www.linkedin.com/in/ACoAAAIeVTIBinplBXZUzPgow-MJLvF4K9Xoh6c\n",
      "https://www.linkedin.com/in/ACoAAA68TukBOXlSU0JDrkzeFrmZYbzcOSFvnVc\n",
      "https://www.linkedin.com/in/ACoAAAYvetkBDG4mh91b7cM2w9SHGDSJ44fEDUo\n",
      "https://www.linkedin.com/in/ACoAACDtrkMBAK3FqH0iqOYD4nMhk7FJ_OR1XJk\n",
      "https://www.linkedin.com/in/ACoAADGX4IYBAN7O9g7bFsbqjHgPANqK6Rdx55c\n",
      "https://www.linkedin.com/in/ACoAAAWOrCoBcPLNYOTHz5fQ_p2dBqSBpJeElDA\n",
      "https://www.linkedin.com/in/ACoAAANmmc4Btl1XdJHY0krceIep27xUjW3mU3U\n",
      "https://www.linkedin.com/in/ACoAAAd4O8oByjcYTrRjcJlAp2dpx7DB7YDfQB0\n",
      "https://www.linkedin.com/in/ACoAABBM4y0B6l8a4MRj5SwaP9VkvxMIkv8xmjA\n",
      "https://www.linkedin.com/in/ACoAAB9e4OcBqDQGqSl02FmSQ-HjrdUnLJDTfmA\n",
      "https://www.linkedin.com/in/ACoAABA_pSAB-S3V_3AXUpLcrTxyagGdZebxEC4\n",
      "https://www.linkedin.com/in/ACoAABNgYikB3qGl7X84S-NmMUE4ouS7IhX6zAY\n",
      "https://www.linkedin.com/in/ACoAABVOwyEBJqvABErCSATTwAd_Zxs8rK0R-8c\n",
      "https://www.linkedin.com/in/ACoAABvfr_EBM_jKC-nkqyzxDoBwvetEkaul-jA\n",
      "https://www.linkedin.com/in/ACoAABzloYwBKiBeC-PeAwy_g1JBXxGx6hF8l0M\n",
      "https://www.linkedin.com/in/ACoAAAAMpd4BpQ7Ll3yQajXDlcPHQFx0y4URGJ8\n",
      "https://www.linkedin.com/in/ACoAAACNi-ABvozdP6v65xYj2A9ine4pGCnLP7w\n",
      "https://www.linkedin.com/in/ACoAAAHx-Z4Bo_eXzLAYYGzVMw-1b_uacGI6QJ4\n",
      "https://www.linkedin.com/in/ACoAAAI0CYcBP8LGxj_agzFqtXt3SK_kPOvBNio\n",
      "https://www.linkedin.com/in/ACoAAAOsL2wBHHUemtpeT2xyFQG3kquAQEkcs-I\n",
      "https://www.linkedin.com/in/ACoAABb5t0ABfhm6uvRLoxTixCnI1qzfJWcus6g\n",
      "https://www.linkedin.com/in/ACoAAADS_HEBQv4IEdTsjlxXToKYCPOCFO8k5-k\n",
      "https://www.linkedin.com/in/ACoAAB45qmwBur6Bha89_ORuvdmHeDB5xnX2yqQ\n",
      "https://www.linkedin.com/in/ACoAABn-7L0B8-hlDO-MventZ6Se7PRjezIoB2I\n",
      "https://www.linkedin.com/in/ACoAAAA7zBoBoOAzUZB4xc6KTJEN98plVvD7DRo\n",
      "https://www.linkedin.com/in/ACoAABbKpf0B5OmoQbyfVmLGtoo976W4JL_erAY\n",
      "https://www.linkedin.com/in/ACoAABGWpFsBNEU8pe1tOQ6ig3tuk9h96rvT2mI\n",
      "https://www.linkedin.com/in/ACoAAALYY-sBYL8nSYveDnAYRGiz9rcsuGcX0iQ\n",
      "https://www.linkedin.com/in/ACoAAATL0qgBokX3IhMMO-8af8nTYWrY6CcFcWo\n",
      "https://www.linkedin.com/in/ACoAAAB25CwB_1JB7Jh4PbcnNIqkqq4lSD5vVlk\n",
      "https://www.linkedin.com/in/ACoAAAAR3SEBSRedyiwESfJTq2pfbd5wl_W_wWo\n",
      "https://www.linkedin.com/in/ACoAAAQIcBcBntxNO7cM_CGIdlkYGOjG8uryLbc\n",
      "https://www.linkedin.com/in/ACoAAAyNICkBRbhqVbFehT1nqr0UsBmZpEaOvjE\n",
      "https://www.linkedin.com/in/ACoAAACCJeYB_IF1HLyNO_57djmHLoG00J8xu2o\n",
      "https://www.linkedin.com/in/ACoAAAR5eLwBD-0m7ifrhESPLJ7wPJfPJGcaUJs\n",
      "https://www.linkedin.com/in/ACoAAAVqXx4BxO-BmGhHOni734lbZkWFSfYfp2U\n",
      "https://www.linkedin.com/in/ACoAAATTHw4BsVBk_sis73UWpM95fAlU9HgJp6w\n",
      "https://www.linkedin.com/in/ACoAAAAP0nkBgE43kOdO3Qb_pU6A_Zl2_3JkJDQ\n",
      "https://www.linkedin.com/in/ACoAAB-_-BgB2c1Z3cCeLOSYsQs3jM-eeNiJaGY\n",
      "https://www.linkedin.com/in/ACoAAAR5mPwBTE-Zd8xYK7cXzabH_krtKivHddY\n",
      "https://www.linkedin.com/in/ACoAAAOEvdsBimcHPrVELYv7rOC1PFrcXoQCRJ0\n",
      "https://www.linkedin.com/in/ACoAAAPWjmkBYuyzfB0X7lcUm6QCn3ohgF1itPE\n",
      "https://www.linkedin.com/in/ACoAAA-tZfMBQTtmEBW6oKjTS6oEaLcZu4ZoGqw\n",
      "https://www.linkedin.com/in/ACoAAAeGWjUBIMuGyy7SGwVEECjVgUoe7Kwmu1E\n",
      "https://www.linkedin.com/in/ACoAAAEMpVQBZE95S9r3kC9sISAye2Yr_aGY-Ig\n",
      "https://www.linkedin.com/in/ACoAAAZW5GsB7EjY8kZqyGl0rjq2yEzWEDwBAY4\n",
      "https://www.linkedin.com/in/fkriete?miniProfileUrn=urn%3Ali%3Afs_miniProfile%3AACoAAAAR3SEBSRedyiwESfJTq2pfbd5wl_W_wWo\n",
      "https://www.linkedin.com/in/ACoAAABXQMABmWWhvVqhbE5uxoKQpsfVEQ5FcTA\n",
      "https://www.linkedin.com/in/ACoAAABCJ0gBcLFsmGYs3lndlmL0vh0QPSdsyw4\n",
      "https://www.linkedin.com/in/ACoAADABYWEB-tMWTUoPxEwbG5xjCrihTAq4Dqk\n",
      "https://www.linkedin.com/in/ACoAAAAgHHABe3dppvqg-FQt-AX9TdRVepj2EZ0\n",
      "https://www.linkedin.com/in/ACoAADJ1xIcBEpuz8MzzBLadVzIZ_pdWK-YC3eg\n",
      "https://www.linkedin.com/in/ACoAACwrj-AB1wJc0viPmCSrrmA4YKwobyQFchA\n"
     ]
    }
   ],
   "source": [
    "for k in reactors.keys():\n",
    "    print(k)"
   ]
  },
  {
   "cell_type": "code",
   "execution_count": 40,
   "metadata": {},
   "outputs": [],
   "source": [
    "driver.execute_script(\"window.scrollTo(0, document.body.scrollHeight);\")"
   ]
  },
  {
   "cell_type": "code",
   "execution_count": 32,
   "metadata": {},
   "outputs": [
    {
     "data": {
      "text/plain": [
       "[<selenium.webdriver.remote.webelement.WebElement (session=\"821b7bf4bcf9a475625c6768c391dadf\", element=\"283d68eb-8fd4-413d-b16b-8e34585c2039\")>]"
      ]
     },
     "execution_count": 32,
     "metadata": {},
     "output_type": "execute_result"
    }
   ],
   "source": [
    "driver.find_elements_by_class_name('social-details-reactors-tab-body')"
   ]
  },
  {
   "cell_type": "code",
   "execution_count": null,
   "metadata": {},
   "outputs": [],
   "source": [
    "#driver.close()"
   ]
  },
  {
   "cell_type": "code",
   "execution_count": 38,
   "metadata": {},
   "outputs": [
    {
     "data": {
      "text/plain": [
       "['CDwindow-F5E34C804BE68B2156FAF2D977C04EF8']"
      ]
     },
     "execution_count": 38,
     "metadata": {},
     "output_type": "execute_result"
    }
   ],
   "source": [
    "driver.window_handles"
   ]
  },
  {
   "cell_type": "code",
   "execution_count": 39,
   "metadata": {},
   "outputs": [
    {
     "data": {
      "text/plain": [
       "'CDwindow-F5E34C804BE68B2156FAF2D977C04EF8'"
      ]
     },
     "execution_count": 39,
     "metadata": {},
     "output_type": "execute_result"
    }
   ],
   "source": [
    "driver.current_window_handle"
   ]
  }
 ],
 "metadata": {
  "kernelspec": {
   "display_name": "Python 3",
   "language": "python",
   "name": "python3"
  },
  "language_info": {
   "codemirror_mode": {
    "name": "ipython",
    "version": 3
   },
   "file_extension": ".py",
   "mimetype": "text/x-python",
   "name": "python",
   "nbconvert_exporter": "python",
   "pygments_lexer": "ipython3",
   "version": "3.7.6"
  }
 },
 "nbformat": 4,
 "nbformat_minor": 4
}
